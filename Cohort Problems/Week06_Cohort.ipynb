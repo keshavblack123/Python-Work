{
 "cells": [
  {
   "cell_type": "markdown",
   "metadata": {
    "colab_type": "text",
    "deletable": false,
    "editable": false,
    "id": "S_whx876WuVG",
    "nbgrader": {
     "grade": false,
     "locked": true,
     "solution": false
    }
   },
   "source": [
    "# Week 6 Problem Set\n",
    "\n",
    "## Cohort Sessions"
   ]
  },
  {
   "cell_type": "markdown",
   "metadata": {
    "colab_type": "text",
    "deletable": false,
    "editable": false,
    "id": "Rp6JsnerW1NX",
    "nbgrader": {
     "grade": false,
     "locked": true,
     "solution": false
    }
   },
   "source": [
    "**CS1.** Create a class called `Fraction` to represent a simple fraction. The class has two properties:\n",
    "- `num`: which represents a numerator and of the type Integer.\n",
    "- `den`: which represents a denominator and of the type Integer. Denominator should not be a zero. If a zero is assigned, you need to replace it with a `1`. \n",
    "\n",
    "The class should have the following method:\n",
    "- `__init__(num, den)`: to initialize the numerator and the denominator. You should check if the denominator is zero. If it is you should assign `1` as the denominator instead. \n",
    "- `__str__()`:  for the object instance to be convertable to String.  You need to return a string in a format of `num/den`\n"
   ]
  },
  {
   "cell_type": "code",
   "execution_count": 22,
   "metadata": {
    "colab": [],
    "colab_type": "code",
    "id": "K-Yx-1VPWpNd"
   },
   "outputs": [],
   "source": [
    "class Fraction:\n",
    "    def __init__(self, num, den):\n",
    "        self.num = num\n",
    "        self.den = den\n",
    "    \n",
    "    @property\n",
    "    def num(self):\n",
    "        return self.numerator\n",
    "    \n",
    "    @num.setter\n",
    "    def num(self, val):\n",
    "        self.numerator = int(val)\n",
    "    \n",
    "    @property\n",
    "    def den(self):\n",
    "        return self.denominator\n",
    "    \n",
    "    @den.setter\n",
    "    def den(self, val):\n",
    "        if val != 0:\n",
    "            self.denominator = int(val)\n",
    "        else:\n",
    "            self.denominator = 1\n",
    "    \n",
    "    def __str__(self):\n",
    "        return f\"{self.numerator}/{self.denominator}\"\n",
    "    "
   ]
  },
  {
   "cell_type": "code",
   "execution_count": 23,
   "metadata": {
    "colab": [],
    "colab_type": "code",
    "deletable": false,
    "editable": false,
    "id": "d8d7FuygYv4k",
    "nbgrader": {
     "grade": true,
     "grade_id": "cs11",
     "locked": true,
     "points": "1",
     "solution": false
    }
   },
   "outputs": [],
   "source": [
    "f0 = Fraction(0, 1)\n",
    "assert f0.num == 0\n",
    "assert f0.den == 1\n",
    "assert str(f0) == \"0/1\"\n",
    "\n",
    "f1 = Fraction(1, 2)\n",
    "assert f1.num == 1\n",
    "assert f1.den == 2\n",
    "assert str(f1) == \"1/2\"\n",
    "\n",
    "f1.num = 3\n",
    "f1.den = 4\n",
    "assert str(f1) == \"3/4\""
   ]
  },
  {
   "cell_type": "code",
   "execution_count": 24,
   "metadata": {
    "deletable": false,
    "editable": false,
    "nbgrader": {
     "grade": true,
     "grade_id": "cs12",
     "locked": true,
     "points": "1",
     "solution": false
    }
   },
   "outputs": [],
   "source": [
    "###\n",
    "### AUTOGRADER TEST - DO NOT REMOVE\n",
    "###\n"
   ]
  },
  {
   "cell_type": "markdown",
   "metadata": {
    "colab_type": "text",
    "deletable": false,
    "editable": false,
    "id": "rh3p7Le5ZSzQ",
    "nbgrader": {
     "grade": false,
     "locked": true,
     "solution": false
    }
   },
   "source": [
    "**CS2.** Extend the class `Fraction` to support the following operator: `+` and `==`. To do this, you need to overload the following operator:\n",
    "- `__add__(self, other)`\n",
    "- `__eq__(self, other)`\n",
    "\n",
    "You may want to write a method to simplify a fraction:\n",
    "- `simplify()`: which simplify a fraction to its lowest terms. To simplify a fraction divide both the numerator and the denominator with the greatest common divisor of the the two. This method should return a new `Fraction` object.\n"
   ]
  },
  {
   "cell_type": "code",
   "execution_count": 25,
   "metadata": {
    "colab": [],
    "colab_type": "code",
    "id": "LzgRopzWZXoC"
   },
   "outputs": [],
   "source": [
    "def gcd(a, b):\n",
    "    if b == 0:\n",
    "        return a\n",
    "    else:\n",
    "        return gcd(b, a % b)\n",
    "\n",
    "\n",
    "class Fraction:\n",
    "    # copy all the other methods from the previous exercies\n",
    "    \n",
    "    def __init__(self, num, den):\n",
    "        self.num = num\n",
    "        self.den = den\n",
    "    \n",
    "    @property\n",
    "    def num(self):\n",
    "        return self.numerator\n",
    "    \n",
    "    @num.setter\n",
    "    def num(self, val):\n",
    "        self.numerator = int(val)\n",
    "    \n",
    "    @property\n",
    "    def den(self):\n",
    "        return self.denominator\n",
    "    \n",
    "    @den.setter\n",
    "    def den(self, val):\n",
    "        if val != 0:\n",
    "            self.denominator = int(val)\n",
    "        else:\n",
    "            self.denominator = 1\n",
    "    \n",
    "    def __str__(self):\n",
    "        return f\"{self.numerator}/{self.denominator}\"\n",
    "    \n",
    "    def simplify(self):\n",
    "        common_den = gcd(self.numerator, self.denominator)\n",
    "        num = self.numerator // common_den\n",
    "        den = self.denominator // common_den\n",
    "        return Fraction(num, den)\n",
    "        \n",
    "    \n",
    "    def __add__(self, other):\n",
    "        a_num = self.numerator\n",
    "        a_den = self.denominator\n",
    "        b_num = other.numerator\n",
    "        b_den = other.denominator \n",
    "        \n",
    "        numerator = a_num * b_den + b_num * a_den\n",
    "        denominator = a_den * b_den\n",
    "        result = Fraction(numerator, denominator)\n",
    "        return result.simplify()\n",
    "        \n",
    "    \n",
    "    def __eq__(self, other):\n",
    "        left = self.simplify()\n",
    "        right = other.simplify()\n",
    "        return (left.numerator == right.numerator) and (left.denominator == right.denominator)\n",
    "    \n"
   ]
  },
  {
   "cell_type": "code",
   "execution_count": 26,
   "metadata": {
    "colab": [],
    "colab_type": "code",
    "deletable": false,
    "editable": false,
    "id": "ItZJ_iQMaays",
    "nbgrader": {
     "grade": true,
     "grade_id": "cs21",
     "locked": true,
     "points": "1",
     "solution": false
    }
   },
   "outputs": [],
   "source": [
    "f1 = Fraction(1, 2)\n",
    "f2 = Fraction(2, 3)\n",
    "f3 = f1 + f2 \n",
    "\n",
    "assert str(f3) == \"7/6\"\n",
    "\n",
    "f4 = Fraction(3, 5)\n",
    "f5 = Fraction(1, 3)\n",
    "f6 = f4 + f5 \n",
    "\n",
    "assert str(f6) == \"14/15\"\n",
    "\n",
    "f1 = Fraction(1, 2)\n",
    "f2 = Fraction(2, 4)\n",
    "assert f1 == f2\n",
    "\n",
    "f3 = Fraction(2, 3)\n",
    "f4 = Fraction(2, 4)\n",
    "assert f3 != f4"
   ]
  },
  {
   "cell_type": "code",
   "execution_count": 27,
   "metadata": {
    "deletable": false,
    "editable": false,
    "nbgrader": {
     "grade": true,
     "grade_id": "cs22",
     "locked": true,
     "points": "1",
     "solution": false
    }
   },
   "outputs": [],
   "source": [
    "###\n",
    "### AUTOGRADER TEST - DO NOT REMOVE\n",
    "###\n"
   ]
  },
  {
   "cell_type": "markdown",
   "metadata": {
    "colab_type": "text",
    "deletable": false,
    "editable": false,
    "id": "qL2YRGYAd4sb",
    "nbgrader": {
     "grade": false,
     "locked": true,
     "solution": false
    }
   },
   "source": [
    "**CS3.** *Inheritance:* Create a class called `MixedFraction` as a subclass of `Fraction`. A mixed fraction is a fraction that comprises of a whole number, a numerator and a denominator, e.g. `1 2/3` which is the same as `5/3`. The class has the following way of initializing its properties:\n",
    "- `__init__(top, bot, whole)`: which takes in three Integers, the whole number, the numerator, and the denominator, e.g. `whole=1`, `top=2`, `bot=3`. The argument `whole` by default is `0`.  You can also specify `top` to be greater than `bot`. \n",
    "\n",
    "The class only has two properties:\n",
    "- `num`: which is the numerator and can be greater than denominator.\n",
    "- `den`: which is the denominator and must be a non-zero number.\n",
    "\n",
    "The class should also have the following methods:\n",
    "- `get_three_numbers()`: which is used to calculate the whole number, numerator and the denominator from a given numerator and denominator. The stored properties are `num` and `den` as in `Fraction` class. This function returns three Integers as a tuple, i.e. `(top, bot, whole)`.\n",
    "\n",
    "The class should also override the `__str__()` method in this manner:\n",
    "- `num/dem` if the numerator is smaller than the denominator. For example, `2/3`. \n",
    "- `whole top/bot` if the numerator is greater than the denominator. For example, `1 2/3`."
   ]
  },
  {
   "cell_type": "code",
   "execution_count": 28,
   "metadata": {
    "colab": [],
    "colab_type": "code",
    "id": "Wxi-Er5-fwYx"
   },
   "outputs": [],
   "source": [
    "class MixedFraction(Fraction):\n",
    "    def __init__(self, top, bot, whole=0):\n",
    "        num = whole * bot + top\n",
    "        super().__init__(num, bot) #calling parent class\n",
    "\n",
    "    def get_three_numbers(self):\n",
    "        whole = self.num // self.den\n",
    "        top = self.num % self.den\n",
    "        bot = self.den\n",
    "        return (top, bot, whole)\n",
    "\n",
    "    def __str__(self):\n",
    "        (top, bottom, whole) = self.get_three_numbers()\n",
    "        if whole > 0:\n",
    "            return f\"{whole} {top}/{bot}\"\n",
    "        else:\n",
    "            return f\"{top}/{bottom}\""
   ]
  },
  {
   "cell_type": "code",
   "execution_count": 29,
   "metadata": {
    "colab": [],
    "colab_type": "code",
    "deletable": false,
    "editable": false,
    "id": "0Alkep4xhM4t",
    "nbgrader": {
     "grade": true,
     "grade_id": "cs31",
     "locked": true,
     "points": "1",
     "solution": false
    }
   },
   "outputs": [],
   "source": [
    "mf1 = MixedFraction(5, 3)\n",
    "assert mf1.num == 5 and mf1.den == 3\n",
    "assert mf1.get_three_numbers() == (2, 3, 1)\n",
    "mf2 = MixedFraction(2, 3, 1)\n",
    "assert mf2.num == 5 and mf2.den == 3\n",
    "\n",
    "result = mf1 + mf2\n",
    "assert result.num == 10 and result.den == 3\n",
    "\n",
    "assert mf1 == mf2"
   ]
  },
  {
   "cell_type": "code",
   "execution_count": 30,
   "metadata": {
    "deletable": false,
    "editable": false,
    "nbgrader": {
     "grade": true,
     "grade_id": "cs32",
     "locked": true,
     "points": "1",
     "solution": false
    }
   },
   "outputs": [],
   "source": [
    "###\n",
    "### AUTOGRADER TEST - DO NOT REMOVE\n",
    "###\n"
   ]
  },
  {
   "cell_type": "markdown",
   "metadata": {
    "colab_type": "text",
    "deletable": false,
    "editable": false,
    "id": "23fS2gisyIoa",
    "nbgrader": {
     "grade": false,
     "locked": true,
     "solution": false
    }
   },
   "source": [
    "**CS4.** *Inheritance:* Create a class `Deque` as a subclass of `Queue`. Use the double-stack implementation of `Queue` in this problem. `Deque` has the following methods:\n",
    "- `add_front(item)`: which add an item to the front of the queue. \n",
    "- `remove_rear()`: which pops out an item from the rear of the queue. \n",
    "- `add_rear(item)`: which add an item from rear of the queue. This is the same as enqueue a normal queue.\n",
    "- `remove_front()`: which pops out an item from the front of the queue. This is the same as dequeue method in a normal queue.\n",
    "\n",
    "See the notation for the front and rear of a Queue.\n",
    "\n",
    "![](https://www.dropbox.com/s/xexwpbhljopmg37/queue.png?raw=1)\n"
   ]
  },
  {
   "cell_type": "code",
   "execution_count": 31,
   "metadata": {
    "colab": [],
    "colab_type": "code",
    "id": "hYlZ7GFqyOew"
   },
   "outputs": [],
   "source": [
    "class Stack:\n",
    "    def __init__(self):\n",
    "        self.__items = []\n",
    "        \n",
    "    def push(self, item):\n",
    "        self.__items.append(item)\n",
    "\n",
    "    def pop(self):\n",
    "        if not self.is_empty:\n",
    "            return self.__items.pop()\n",
    "\n",
    "    def peek(self):\n",
    "        if not self.is_empty:\n",
    "            return self.__items[-1]\n",
    "\n",
    "    @property\n",
    "    def is_empty(self):\n",
    "        return self.__items == []\n",
    "\n",
    "    @property\n",
    "    def size(self):\n",
    "        return len(self.__items)\n"
   ]
  },
  {
   "cell_type": "code",
   "execution_count": 32,
   "metadata": {
    "colab": [],
    "colab_type": "code",
    "id": "nwp9Wv1oysuW"
   },
   "outputs": [],
   "source": [
    "class Queue:\n",
    "    def __init__(self):\n",
    "        self.left_stack = Stack()\n",
    "        self.right_stack = Stack()\n",
    "\n",
    "    @property\n",
    "    def is_empty(self):\n",
    "        return self.left_stack.is_empty and self.right_stack.is_empty\n",
    "\n",
    "    @property\n",
    "    def size(self):\n",
    "        return self.left_stack.size + self.right_stack.size\n",
    "\n",
    "    def enqueue(self, item):\n",
    "        self.right_stack.push(item)\n",
    "    \n",
    "    def right_to_left (self):\n",
    "        while not self.right_stack.is_empty:\n",
    "            item = self.right_stack.pop()\n",
    "            self.left_stack.push(item)\n",
    "    \n",
    "    def dequeue(self):\n",
    "        if self.left_stack.is_empty:\n",
    "            self.right_to_left()\n",
    "        return self.left_stack.pop()\n",
    "    \n",
    "    def peek(self):\n",
    "        if self.left_stack.is_empty:\n",
    "            self.right_to_left()\n",
    "        return self.left_stack.peek()"
   ]
  },
  {
   "cell_type": "code",
   "execution_count": 33,
   "metadata": {
    "colab": [],
    "colab_type": "code",
    "id": "TO9xbSWPy06k"
   },
   "outputs": [],
   "source": [
    "class Dequeue(Queue):\n",
    "  \n",
    "    def add_front(self, item):\n",
    "        self.left_stack.push(item)\n",
    "      \n",
    "    def remove_front(self):\n",
    "        return self.dequeue()\n",
    "    \n",
    "    def add_rear(self, item):\n",
    "        self.enqueue(item)\n",
    "    \n",
    "    def remove_rear(self):\n",
    "        if self.right_stack.is_empty:\n",
    "            self.left_to_right()\n",
    "        return self.right_stack.pop()\n",
    "    \n",
    "    def left_to_right (self):\n",
    "        while not self.left_stack.is_empty:\n",
    "            item = self.left_stack.pop()\n",
    "            self.right_stack.push(item)\n",
    "    \n",
    "    def peek_front(self):\n",
    "        return self.peek()\n",
    "    \n",
    "    def peek_rear(self):\n",
    "        if self.right_stack.is_empty:\n",
    "            self.left_to_right()\n",
    "        return self.right_stack.peek()"
   ]
  },
  {
   "cell_type": "code",
   "execution_count": 34,
   "metadata": {
    "colab": [],
    "colab_type": "code",
    "deletable": false,
    "editable": false,
    "id": "-XK4KFyY0VxR",
    "nbgrader": {
     "grade": true,
     "grade_id": "cs41",
     "locked": true,
     "points": "1",
     "solution": false
    }
   },
   "outputs": [],
   "source": [
    "q1 = Dequeue()\n",
    "q1.add_front(1)\n",
    "q1.add_front(2)\n",
    "q1.add_front(3)\n",
    "assert q1.remove_rear()==1\n",
    "assert q1.remove_rear()==2\n",
    "assert q1.remove_rear()==3\n",
    "\n",
    "q1.add_rear(3)\n",
    "q1.add_rear(2)\n",
    "q1.add_rear(1)\n",
    "assert q1.remove_front()==3\n",
    "assert q1.remove_front()==2\n",
    "assert q1.remove_front()==1\n",
    "\n",
    "q1.add_front(1)\n",
    "q1.add_rear(2)\n",
    "q1.add_front(3)\n",
    "q1.add_rear(4)\n",
    "q1.add_front(5)\n",
    "q1.add_rear(6)\n",
    "assert q1.remove_rear()==6\n",
    "assert q1.remove_rear()==4\n",
    "assert q1.remove_rear()==2\n",
    "assert q1.remove_rear()==1\n",
    "assert q1.remove_rear()==3\n",
    "assert q1.remove_front()==5"
   ]
  },
  {
   "cell_type": "code",
   "execution_count": 35,
   "metadata": {
    "deletable": false,
    "editable": false,
    "nbgrader": {
     "grade": true,
     "grade_id": "cs42",
     "locked": true,
     "points": "1",
     "solution": false
    }
   },
   "outputs": [],
   "source": [
    "###\n",
    "### AUTOGRADER TEST - DO NOT REMOVE\n",
    "###\n"
   ]
  },
  {
   "cell_type": "markdown",
   "metadata": {
    "deletable": false,
    "editable": false,
    "nbgrader": {
     "grade": false,
     "locked": true,
     "solution": false
    }
   },
   "source": [
    "**CS5-Prelude.** *ArrayFixedSize class (Given):* Write a class called `ArrayFixedSize` that simulate a fixed size array. This class should inherint from `collections.abc.Iterable` base class. A fixed size array is like a list which size cannot change once it is set. The size and its data type is specified during object instantiation. Use Numpy's array for its internal data storage. At the start you can use `np.empty(size)` to create an uninitalized empty array. The class should have the following methods:\n",
    "\n",
    "- `__getitem__(index)`: which returns the element at a given `index` using the bracket operator, i.e. `array[index]`.\n",
    "- `__setitem__(index, value)`: which set the item at a given `index` with a particular `value` using the bracket and assignment operators, i.e. `array[index] = value`.\n",
    "- `__iter__()`: which returns the iterable object so that it can be used in a for loop and other iterable object operators.\n",
    "- `__str__()`: which returns the string object representation of the object. It should displays as follows: `[el1, el2, el3, ...]`.\n",
    "- `__len__()`: which returns the number of items in the array when `len()` function is called upon this object."
   ]
  },
  {
   "cell_type": "code",
   "execution_count": 36,
   "metadata": {},
   "outputs": [],
   "source": [
    "import  collections.abc as c\n",
    "import numpy as np\n",
    "\n",
    "class ArrayFixedSize(c.Iterable):\n",
    "    \n",
    "    def __init__(self, size, dtype=int):\n",
    "        self.__data = np.empty(size)\n",
    "        self.__data = self.__data.astype(dtype)\n",
    "        \n",
    "    def __getitem__(self, index):\n",
    "        return self.__data[index]\n",
    "    \n",
    "    def __setitem__(self, index, value):\n",
    "        self.__data[index] = value      \n",
    "        \n",
    "    def __iter__(self):\n",
    "        return iter(self.__data)\n",
    "    \n",
    "    def __len__(self):\n",
    "        return len(self.__data)\n",
    "        \n",
    "    def __str__(self):\n",
    "        out = \"[\"\n",
    "        for item in self:\n",
    "            out += f\"{item:}, \"\n",
    "        if self.__data != []:\n",
    "            return out[:-2] + \"]\"\n",
    "        else:\n",
    "            return \"[]\""
   ]
  },
  {
   "cell_type": "markdown",
   "metadata": {
    "deletable": false,
    "editable": false,
    "nbgrader": {
     "grade": false,
     "locked": true,
     "solution": false
    }
   },
   "source": [
    "**CS5.** Implement a class called `MyAbstractList` which is a subclass of Python's `collections.abc.Iterator` class. This class is meant to be an abstract class for two kinds of List data structures, i.e. `MyArrayList` and `MyLinkedList`. In this exercise, you will implement `MyAbstractList`.\n",
    "\n",
    "This class has the following attribute and computed property property:\n",
    "- `size`: which gives you the size of the list in integer.\n",
    "- `is_empty`: which returns either `True` or `False` depending whether the list is empty or not.\n",
    "\n",
    "Implement also several other methods:\n",
    "- `__init__(self, list_of_items)`: which initializes the list by adding the items in list argument using the `add(item)` method.\n",
    "- `__getitem__(index)`: which returns the element at a given `index` using the bracket operator, i.e. `array[index]`. This method should call the child's method `get(index)`.\n",
    "- `__setitem__(index, value)`: which set the item at a given `index` with a particular `value` using the bracket and assignment operators, i.e. `array[index] = value`. This method should call the child's method `set_at(index, item)`.\n",
    "- `__delitem__(index)`: which removes the item at a given `index` using the `del` operator, i.e. `del array[index]`. This method should call the child's method `remove_at(index)`.\n",
    "- `append(item)`: which adds an item at the end of the list. This method should call `add_at(index, item)` in the child class which adds the item at the specified index. \n",
    "- `remove(item)`: which removes the first occurence of the item in the list. This method should call `remove(index)` in the child class which removes the item at the specified index.\n",
    "- `__next__()`: which returns the next element in the iterator. This method should call `get(index)` in the child class which returns the item at the specified index. If there is no more element, it should `raise StopIteration`.\n",
    "\n",
    "Create any other attributes that you think is necessary.\n",
    "\n",
    "\n",
    "\n"
   ]
  },
  {
   "cell_type": "code",
   "execution_count": 37,
   "metadata": {},
   "outputs": [],
   "source": [
    "import collections.abc as c\n",
    "\n",
    "class MyAbstractList(c.Iterator):\n",
    "    \n",
    "    \n",
    "    def __init__(self, list_items):\n",
    "        # iterate over every element and call self.add(item)\n",
    "        self.size = 0\n",
    "        self._idx = 0\n",
    "        \n",
    "        for items in list_items:\n",
    "            self.append(items)\n",
    "    \n",
    "    @property\n",
    "    def is_empty(self):\n",
    "        return self.size == 0\n",
    "    \n",
    "    def append(self, item):\n",
    "        # call add_at() method here\n",
    "        self.add_at(self.size, item)\n",
    "        \n",
    "    def remove(self, item):\n",
    "        # you should use remove_at() method here\n",
    "        index = self.index_of(item)\n",
    "        if index >= 0:\n",
    "            self.remove_at(index)\n",
    "        \n",
    "    def __getitem__(self, index):\n",
    "        return self.get(index)\n",
    "    \n",
    "    def __setitem__(self, index, value):\n",
    "        # call set_at(index, value) method here\n",
    "        self.set_at(index, value)\n",
    "        \n",
    "    def __delitem__(self, index):\n",
    "        # call remove_at() method here\n",
    "        self.remove_at(index)\n",
    "    \n",
    "    def __len__(self):\n",
    "        return self.size\n",
    "        \n",
    "    def __iter__(self):\n",
    "        self._idx = 0\n",
    "        return self\n",
    "        \n",
    "    def __next__(self):\n",
    "        if self._idx < self.size:\n",
    "            n_item = self.get(self._idx)\n",
    "            self._idx += 1\n",
    "            return n_item\n",
    "        else:\n",
    "            raise StopIteration"
   ]
  },
  {
   "cell_type": "code",
   "execution_count": 38,
   "metadata": {
    "deletable": false,
    "editable": false,
    "nbgrader": {
     "grade": false,
     "locked": true,
     "solution": false
    }
   },
   "outputs": [],
   "source": [
    "# creating a class PythonList inheriting from MyAbstractList\n",
    "# this is just for testing the MyAbstractList class\n",
    "\n",
    "class PythonList(MyAbstractList):\n",
    "    data = []\n",
    "    \n",
    "    def __init__(self):\n",
    "        self.data = []\n",
    "        super().__init__(list(range(10)))\n",
    "    \n",
    "    def add_at(self, index, item):\n",
    "        self.data.insert(index, item)\n",
    "        self.size += 1\n",
    "        \n",
    "    def set_at(self, index, item):\n",
    "        self.data[index] = item\n",
    "        \n",
    "    def remove_at(self, index):\n",
    "        self.data.pop(index)\n",
    "        self.size -= 1\n",
    "        \n",
    "    def get(self, index):\n",
    "        if 0 <= index < self.size:\n",
    "            return self.data[index]\n",
    "        else:\n",
    "            raise IndexError()\n",
    "            \n",
    "    def index_of(self, item):\n",
    "        try:\n",
    "            idx = self.data.index(item)\n",
    "            return idx\n",
    "        except:\n",
    "            return -1\n"
   ]
  },
  {
   "cell_type": "code",
   "execution_count": 39,
   "metadata": {
    "deletable": false,
    "editable": false,
    "nbgrader": {
     "grade": true,
     "grade_id": "cs51",
     "locked": true,
     "points": "1",
     "solution": false
    }
   },
   "outputs": [],
   "source": [
    "f = PythonList()\n",
    "\n",
    "# Testing init\n",
    "assert f.data == list(range(10))\n",
    "\n",
    "# Testing size property\n",
    "assert f.size == 10\n",
    "\n",
    "# Testing is_empty property\n",
    "assert not f.is_empty\n",
    "\n",
    "# Testing add method\n",
    "f.append(10)\n",
    "assert f.data == list(range(11))\n",
    "\n",
    "# Testing remove method\n",
    "f.remove(5)\n",
    "assert f.data == [0, 1, 2, 3, 4, 6, 7, 8, 9, 10]\n",
    "f.add_at(5, 5)\n",
    "f.append(5)\n",
    "f.remove(5)\n",
    "assert f.data == [0, 1, 2, 3, 4, 6, 7, 8, 9, 10, 5]\n",
    "assert not f.remove(11)\n",
    "\n",
    "# Testing getitem method\n",
    "assert [f[i] for i in range(len(f))] == [0, 1, 2, 3, 4, 6, 7, 8, 9, 10, 5]\n",
    "f[0] = -1\n",
    "assert [f[i] for i in range(len(f))] == [-1, 1, 2, 3, 4, 6, 7, 8, 9, 10, 5]\n",
    "\n",
    "# Testing delitem\n",
    "del f[0]\n",
    "assert f[0] == 1\n",
    "\n",
    "# Testing __next__\n",
    "assert [x for x in f] == [ 1, 2, 3, 4, 6, 7, 8, 9, 10, 5]\n",
    "# Testing __iter__\n",
    "assert [x for x in f] == [ 1, 2, 3, 4, 6, 7, 8, 9, 10, 5]"
   ]
  },
  {
   "cell_type": "markdown",
   "metadata": {
    "deletable": false,
    "editable": false,
    "nbgrader": {
     "grade": false,
     "locked": true,
     "solution": false
    }
   },
   "source": [
    "**CS6.** Implement the class `MyArrayList` which is a subclass of `MyAbstractList`. `MyArrayList` should implement the `ArrayFixedSize` class instead of Python's list as in `PythonList` class above. You need to implement the following methods:\n",
    "- `__init__(self, items)`: where items are used to initialize the array.\n",
    "- `add_at(self, index, item)`: which add the `item` at a particular `index`. The algorithm for this method is as follows:\n",
    "    - calls `ensure_capacity()` which doubles the size of the array into a new array and copies the data.\n",
    "    - shift all the items by one for every position after the `index`.\n",
    "    - add the `item` at `index`.\n",
    "    - add the `size` attribute by 1.\n",
    "- `set_at(self, index, value)`: this method replaces the item at `index` with a new value. \n",
    "- `remove_at(self, index)`: which removes the item at `index`.\n",
    "- `get(self, index)`: which returns the item at `index` if the index is valid, otherwise, it raise `IndexError()`.\n",
    "- `index_of(self, item)`: which return the index of the given `item`, otherwise, it returns `-1`.\n",
    "- `clear(self)`: which set the data back to zero with the size of the initial capacity.\n",
    "\n",
    "Since we are using `ArrayFixedSize` as the internal data type, take a look at the following hints:\n",
    "- We will create the array data in blocks of 16. For example, in the beginning, even if you have data less 16, we will create 16 data blocks. We will only initialize the value in that block to what we need.\n",
    "- When we add data into the list, we need to ensure we have enough capacity. So when the initialized data has reach the end of 16 blocks, we need to create a new block with double the size. You then need to copy the data from the old block to the new block. "
   ]
  },
  {
   "cell_type": "code",
   "execution_count": 40,
   "metadata": {},
   "outputs": [],
   "source": [
    "import numpy as np\n",
    "\n",
    "class MyArrayList(MyAbstractList):\n",
    "    INITIAL_CAPACITY = 16\n",
    "    \n",
    "    def __init__(self, items, dtype=int):\n",
    "        size = len(items)\n",
    "        self.data = ArrayFixedSize(MyArrayList.INITIAL_CAPACITY, dtype)\n",
    "        # iterate over every items and call add(item)\n",
    "        super().__init__(items)\n",
    "        \n",
    "    def add_at(self, index, item):\n",
    "        self.ensure_capacity()\n",
    "        # do the following:\n",
    "        # 1. copy data by shifting it to the right from index position to the end\n",
    "        # 2. set item at index\n",
    "        # 3. add size by 1\n",
    "        for i in range(self.size - 1, index - 1, -1):\n",
    "            self.data[i + 1] = self.data[i]\n",
    "        self.data[index] = item\n",
    "        self.size += 1\n",
    "        \n",
    "    def set_at(self, index, value):\n",
    "        self.data[index] = value\n",
    "        \n",
    "    def remove_at(self, index):\n",
    "        if 0 <= index < self.size:\n",
    "            # do the following\n",
    "            # 1. get the element at index\n",
    "            # 2. copy the data by shifting it to the left from index to the end\n",
    "            # 3. return the element at index\n",
    "            # 4. reduce the size\n",
    "            element = self.data[index]\n",
    "            for i in range (index, self.size - 1):\n",
    "                self.data[i] = self.data[i + 1]\n",
    "            self.size -= 1\n",
    "            return element\n",
    "        else:\n",
    "            raise IndexError()\n",
    "        \n",
    "    def get(self, index):\n",
    "        if 0 <= index < self.size:\n",
    "            return self.data[index]\n",
    "        else:\n",
    "            raise IndexError()\n",
    "            \n",
    "    def index_of(self, item):\n",
    "        for i in range(self.size):\n",
    "            if item == self.data[i]:\n",
    "                return i\n",
    "        \n",
    "        return -1\n",
    "        \n",
    "        \n",
    "    def ensure_capacity(self):\n",
    "        if self.size >= len(self.data):\n",
    "            new_data = ArrayFixedSize(self.size * 2 + 1)\n",
    "            self.copy(self.data, 0, new_data, 0)\n",
    "            self.data = new_data\n",
    "            \n",
    "    def copy(self, source, idx_s, dest, idx_d):\n",
    "        for idx in range(idx_s,len(source)):\n",
    "            offset = idx - idx_s\n",
    "            dest[idx_d + offset] = source[idx]\n",
    "            \n",
    "    def clear(self):\n",
    "        self.data = ArrayFixedSize(MyArrayList.INITIAL_CAPACITY)\n",
    "        self.size = 0\n",
    "        \n",
    "    def __str__(self):\n",
    "        out = \"[\"\n",
    "        for idx in range(self.size):\n",
    "            out += f\"{self.get(idx):}, \"\n",
    "        return out[:-2] + \"]\""
   ]
  },
  {
   "cell_type": "code",
   "execution_count": 41,
   "metadata": {
    "deletable": false,
    "editable": false,
    "nbgrader": {
     "grade": true,
     "grade_id": "cs61",
     "locked": true,
     "points": "1",
     "solution": false
    }
   },
   "outputs": [],
   "source": [
    "a = MyArrayList([1,2,3])\n",
    "assert [x for x in a] == [1,2,3]\n",
    "assert a.size == 3\n",
    "assert not a.is_empty\n",
    "a.append(4)\n",
    "assert a.size == 4\n",
    "assert [x for x in a] == [1,2,3,4]\n",
    "assert [a[i] for i in range(len(a))] == [1,2,3,4]\n",
    "a[0] = -1\n",
    "assert [x for x in a] == [-1, 2,3,4]\n",
    "del a[0]\n",
    "assert [x for x in a] == [2,3,4]"
   ]
  },
  {
   "cell_type": "code",
   "execution_count": 42,
   "metadata": {
    "deletable": false,
    "editable": false,
    "nbgrader": {
     "grade": true,
     "grade_id": "cs62",
     "locked": true,
     "points": "1",
     "solution": false
    }
   },
   "outputs": [],
   "source": [
    "###\n",
    "### AUTOGRADER TEST - DO NOT REMOVE\n",
    "###\n"
   ]
  }
 ],
 "metadata": {
  "colab": {
   "authorship_tag": "ABX9TyMFMqVWcyy6ppXAKkZCjU2p",
   "collapsed_sections": [],
   "include_colab_link": true,
   "name": "Week06_ProblemSet.ipynb",
   "provenance": []
  },
  "kernelspec": {
   "display_name": "Python 3",
   "language": "python",
   "name": "python3"
  },
  "language_info": {
   "codemirror_mode": {
    "name": "ipython",
    "version": 3
   },
   "file_extension": ".py",
   "mimetype": "text/x-python",
   "name": "python",
   "nbconvert_exporter": "python",
   "pygments_lexer": "ipython3",
   "version": "3.8.3"
  }
 },
 "nbformat": 4,
 "nbformat_minor": 4
}
