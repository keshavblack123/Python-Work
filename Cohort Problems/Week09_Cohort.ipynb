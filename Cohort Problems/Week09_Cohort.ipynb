{
 "cells": [
  {
   "cell_type": "markdown",
   "metadata": {
    "colab_type": "text",
    "deletable": false,
    "editable": false,
    "id": "OCOLpicpY9A0",
    "nbgrader": {
     "grade": false,
     "locked": true,
     "solution": false
    }
   },
   "source": [
    "# Week 12 Problem Set\n",
    "\n",
    "## Cohort Sessions"
   ]
  },
  {
   "cell_type": "markdown",
   "metadata": {
    "colab_type": "text",
    "deletable": false,
    "editable": false,
    "id": "hABvyhX9Y_56",
    "nbgrader": {
     "grade": false,
     "locked": true,
     "solution": false
    }
   },
   "source": [
    "**CS1.** Define an Abstract Class for a State Machine, called `StateMachine`. The class has two properties:\n",
    "- `state`: which is the current state of the machine\n",
    "- `start_state`: which is the initial state of the machine\n",
    "\n",
    "The class should define the following methods:\n",
    "- `start()`: this method set the `state` property using the value in `start_state`. Once `state` has a value, the machine is considered started.\n",
    "- `step(inp)`: this method takes in the current input and returns the current output. This method should move the state machine to the next state based on the current input and its current state. You should call `get_next_values(state, inp)` in your implementation.\n",
    "- `done(state)`: this method always return `False`. A child class can override thid method to give a different condition to end the state machine.\n",
    "- `is_done()`: is to be used internally to check if the state machine should terminate or not. This method simply calls `done(state)` and pass on the current `state`. The method `transduce(inp_list)` calls this method to check if it should terminates or not.\n",
    "- `transduce(inp_list)`: this method calls `start()` to initialize the `state` with the `start_state` and run the state machine by calling `step(inp)` for every item in the `inp_list`. The method runs the state machine and produces the output list according to the number of input in the `inp_list` or when the state machine terminates according to the output of `is_done()` method. This method should call `is_done()` to see if it should terminate at a particular state.\n",
    "\n",
    "This class should be an Abstract Class. Implement the following way:\n",
    "- `SM` class inherits from `abc.ABC`, which is Python's Abstract Base Class (ABC). \n",
    "- Any implementation of State Machine's instances must declare the following property: `start_state`.\n",
    "- Any implementation of State Machine's instances must implement the following abstract method: `get_next_values()` that takes in the current `state` and the the current `input` and output a tuple of the `next_state` and the current `output` . \n"
   ]
  },
  {
   "cell_type": "code",
   "execution_count": 1,
   "metadata": {
    "colab": [],
    "colab_type": "code",
    "id": "RwW4UdOQY4m3"
   },
   "outputs": [],
   "source": [
    "from abc import ABC, abstractmethod\n",
    "\n",
    "class StateMachine(ABC):\n",
    "    \n",
    "    def start(self):\n",
    "        self.state = self.start_state\n",
    "\n",
    "    def step(self, inp):\n",
    "        ns, o = self.get_next_values(self.state, inp)\n",
    "        self.state = ns\n",
    "        return o\n",
    "        \n",
    "    def transduce(self, inp_list):\n",
    "        self.start()\n",
    "        out_list = []\n",
    "                            \n",
    "        for i in range(len(inp_list)):\n",
    "            if self.is_done() == True:\n",
    "                return out_list\n",
    "            else:\n",
    "                out_list.append(self.step(inp_list[i]))\n",
    "        \n",
    "        return out_list\n",
    "\n",
    "            \n",
    "\n",
    "    @abstractmethod\n",
    "    def get_next_values(self, state, inp):\n",
    "        pass\n",
    "\n",
    "    def done(self, state):\n",
    "        return False\n",
    "\n",
    "    def is_done(self):\n",
    "        return self.done(self.state)\n",
    "\n",
    "    "
   ]
  },
  {
   "cell_type": "code",
   "execution_count": 2,
   "metadata": {
    "colab": [],
    "colab_type": "code",
    "deletable": false,
    "editable": false,
    "id": "gYSp0wahg-Y5",
    "nbgrader": {
     "grade": false,
     "locked": true,
     "solution": false
    }
   },
   "outputs": [],
   "source": [
    "class Test(StateMachine):\n",
    "    start_state = 0\n",
    "\n",
    "    def get_next_values(self, state, inp):\n",
    "        next_state = state + inp\n",
    "        output = next_state\n",
    "        return next_state, output\n",
    "\n",
    "    def done(self, state):\n",
    "        if state == -1:\n",
    "            return True\n",
    "        else:\n",
    "            return False\n",
    "\n",
    "class NoImplement(StateMachine):\n",
    "    def __init__(self):\n",
    "        start_state = 0\n",
    "    \n",
    "t1 = Test()\n",
    "t1.start()\n",
    "assert t1.state == 0\n",
    "out = t1.step(2)\n",
    "assert t1.state ==2 and out == 2\n",
    "\n",
    "t2 = Test()\n",
    "out = t2.transduce([1,2,3,4])\n",
    "assert out == [1, 3, 6, 10]\n",
    "\n",
    "t3 = Test()\n",
    "out = t3.transduce([1, -2, 3])\n",
    "assert out == [1, -1]\n",
    "\n",
    "try:\n",
    "    t4 = NoImplement()\n",
    "    raise AssertionError\n",
    "except TypeError:\n",
    "    pass"
   ]
  },
  {
   "cell_type": "code",
   "execution_count": 3,
   "metadata": {
    "deletable": false,
    "editable": false,
    "nbgrader": {
     "grade": true,
     "grade_id": "hw11",
     "locked": true,
     "points": "1",
     "solution": false
    }
   },
   "outputs": [],
   "source": [
    "###\n",
    "### AUTOGRADER TEST - DO NOT REMOVE\n",
    "###\n"
   ]
  },
  {
   "cell_type": "markdown",
   "metadata": {
    "colab_type": "text",
    "deletable": false,
    "editable": false,
    "id": "0mOhDnQ2k3UH",
    "nbgrader": {
     "grade": false,
     "locked": true,
     "solution": false
    }
   },
   "source": [
    "**CS2.** *Coke Machine:* In this problem, you will implement in Python the behavior of a simplified coke-dispensing machine. The behavior of such a machine is captured in the state diagram shown in the Figure below. The machine consists of two states labelled 0 and 1. The state diagram does not show what the machine would do if an unexpected coin is inserted. Therefore, assume that any unexpected coin is returned to the user without a change in the machines state. Thus, on your own, you may want to complete the Figure below to add in the missing transitions.\n",
    "\n",
    "![](https://www.dropbox.com/s/kzk6nkdss7wvw85/coke_sm.png?raw=1)\n",
    "\n",
    "Each directed arc in the state diagram is labelled as $x/y$ where $x$ denotes the input received and $y$, the output generated. For example, the arc that connects state 0 to state 1 that’s labelled `50/(50, ’--’,0)` means that when the dispenser receives 50¢ (50 before the /) in state 0, it moves to state 1 and generates an output of `(50, ’--’,0)`. This tuple of values in the output indicates that the dispenser display shows 50 which is the amount deposited by the user, no coke has been dispensed yet as indicated by `--`, and no change has been returned to the user as indicated by the last entry which is a 0.\n",
    "The machine accepts only 50¢ and one dollar (100¢) coins. It has a display that shows how many cents have been deposited.\n",
    "- State 0: When a 50¢ coin is deposited the dispenser moves to state 1. At this moment in time, the display shows 50 but nothing is dispensed and no change is returned. If a dollar coin is deposited, the machine continues to display 0, dispenses coke, and does not return any money (well, why should it!).\n",
    "- State 1: When a 50¢ coin is deposited the dispenser moves to state 0. At this moment in time, the display shows 0, coke is dispensed and no change is returned. If a dollar coin is deposited the machine continues to display 0, dispenses coke, and returns 50¢.\n",
    "\n",
    "We wish to write a program that simulates the behavior of the coke dispenser as described above. We will write a class named CokeMachine that contains properties and methods as described below:\n",
    "- `CokeMachine` class is a subclass of `StateMachine` class.\n",
    "- `CokeMachine` class has a class attribute called start_state which is the starting state of the machine. This attribute should be initialized to 0, which represents state 0 in the diagram above.\n",
    "- `CokeMachine` class implements the abstract method `get_next_values(state, inp)` that takes in the current state and the input, and returns the next state and output as a tuple. Think about the following: which state represents the following scenarios?\n",
    "    - the coke machine is waiting for a valid coin to be deposited \n",
    "    - the coke machine has a 50-cent coin in it\n",
    "\n",
    "Sample Interaction:\n",
    "```\n",
    "cm = CokeMachine()\n",
    "cm.start()\n",
    "print(c.step(50))\n",
    "print(c.step(50))\n",
    "print(c.step(100))\n",
    "print(c.step(10))\n",
    "print(c.step(50))\n",
    "print(c.step(100))\n",
    "print(c.step(10))\n",
    "```\n",
    "\n",
    "The output should be:\n",
    "```\n",
    "(50, \"--\", 0)\n",
    "(0, \"coke\", 0)\n",
    "(0, \"coke\", 0)\n",
    "(0, \"--\", 10)\n",
    "(50, \"--\", 0)\n",
    "(0, \"coke\", 50)\n",
    "(0, \"--\", 10)\n",
    "``` "
   ]
  },
  {
   "cell_type": "code",
   "execution_count": 4,
   "metadata": {
    "colab": [],
    "colab_type": "code",
    "id": "MbnkA56Zlc7s"
   },
   "outputs": [],
   "source": [
    "class CokeMachine(StateMachine):\n",
    "\n",
    "    def __init__(self):\n",
    "        self.start_state = 0\n",
    "\n",
    "    def get_next_values(self, state, inp):\n",
    "        if state == 0:\n",
    "            if inp == 100:\n",
    "                next_state = 0\n",
    "                output = (0, \"coke\", 0)\n",
    "            elif inp == 50:\n",
    "                next_state = 1\n",
    "                output = (50, \"--\", 0)\n",
    "            else:\n",
    "                next_state = 0\n",
    "                output = (0, \"--\", inp)\n",
    "        else:\n",
    "            if inp == 100:\n",
    "                next_state = 0\n",
    "                output = (0, \"coke\", 50)\n",
    "            elif inp == 50:\n",
    "                next_state = 0\n",
    "                output = (0, \"coke\", 0)\n",
    "            else:\n",
    "                next_state = 1\n",
    "                output = (50, \"coke\", inp)\n",
    "        return next_state, output"
   ]
  },
  {
   "cell_type": "code",
   "execution_count": 5,
   "metadata": {
    "colab": [],
    "colab_type": "code",
    "deletable": false,
    "editable": false,
    "id": "-nijWtjhmHlc",
    "nbgrader": {
     "grade": true,
     "grade_id": "ps12_1",
     "locked": true,
     "points": "1",
     "solution": false
    }
   },
   "outputs": [],
   "source": [
    "cm = CokeMachine()\n",
    "cm.start()\n",
    "assert cm.state == 0\n",
    "out = cm.step(50)\n",
    "assert out == (50, \"--\", 0) and cm.state == 1\n",
    "out = cm.transduce([50, 50, 100, 10, 50, 100, 10])\n",
    "assert out == [(50, '--', 0), (0, 'coke', 0), (0, 'coke', 0), (0, '--', 10), (50, '--', 0), (0, 'coke', 50), (0, '--', 10)]"
   ]
  },
  {
   "cell_type": "code",
   "execution_count": 6,
   "metadata": {
    "deletable": false,
    "editable": false,
    "nbgrader": {
     "grade": true,
     "grade_id": "ps12_2",
     "locked": true,
     "points": "1",
     "solution": false
    }
   },
   "outputs": [],
   "source": [
    "###\n",
    "### AUTOGRADER TEST - DO NOT REMOVE\n",
    "###\n"
   ]
  },
  {
   "cell_type": "markdown",
   "metadata": {
    "colab_type": "text",
    "deletable": false,
    "editable": false,
    "id": "pSYhvY-DmsFh",
    "nbgrader": {
     "grade": false,
     "locked": true,
     "solution": false
    }
   },
   "source": [
    "**CS3.** *Simple Account:* In this problem, you will need to create a state machine that simulates a simple bank account. This is similar to the Accumulator state machine in the notes. The only difference is that any withdrawal when the balance is less than \\\\$100  incurs a \\\\$5 charge. The state machine should fulfill the following:\n",
    "- The starting balance is specified when instantiating the object.\n",
    "- The output of the state machine is the current balance after the transaction.\n",
    "\n",
    "Sample interaction:\n",
    "```\n",
    "acct = SimpleAccount(110)\n",
    "acct.start()\n",
    "print(acct.step(10))\n",
    "print(acct.step(-25))\n",
    "print(acct.step(-10))\n",
    "print(acct.step(-5))\n",
    "print(acct.step(20))\n",
    "print(acct.step(20))\n",
    "```\n",
    "\n",
    "The expected output is:\n",
    "```\n",
    "120\n",
    "95\n",
    "80\n",
    "70\n",
    "90\n",
    "110\n",
    "```"
   ]
  },
  {
   "cell_type": "code",
   "execution_count": 7,
   "metadata": {
    "colab": [],
    "colab_type": "code",
    "id": "uurLLTLSm9ct"
   },
   "outputs": [],
   "source": [
    "class SimpleAccount(StateMachine):\n",
    "    def __init__(self, balance):\n",
    "        self.start_state = balance\n",
    "\n",
    "    def get_next_values(self, state, inp):\n",
    "        if state < 100 and inp < 0:\n",
    "            next_state = state + inp - 5\n",
    "        else:\n",
    "            next_state = state + inp\n",
    "            \n",
    "        output = next_state\n",
    "                \n",
    "        return next_state, output"
   ]
  },
  {
   "cell_type": "code",
   "execution_count": 8,
   "metadata": {
    "colab": [],
    "colab_type": "code",
    "deletable": false,
    "editable": false,
    "id": "512nenF2nVSF",
    "nbgrader": {
     "grade": true,
     "grade_id": "ps12_3",
     "locked": true,
     "points": "1",
     "solution": false
    }
   },
   "outputs": [],
   "source": [
    "acct = SimpleAccount(110)\n",
    "out = acct.transduce([10, -25, -10, -5, 20, 20])\n",
    "assert out == [120, 95, 80, 70, 90, 110]"
   ]
  },
  {
   "cell_type": "code",
   "execution_count": 9,
   "metadata": {
    "deletable": false,
    "editable": false,
    "nbgrader": {
     "grade": true,
     "grade_id": "ps12_4",
     "locked": true,
     "points": "1",
     "solution": false
    }
   },
   "outputs": [],
   "source": [
    "###\n",
    "### AUTOGRADER TEST - DO NOT REMOVE\n",
    "###\n"
   ]
  },
  {
   "cell_type": "markdown",
   "metadata": {
    "colab_type": "text",
    "deletable": false,
    "editable": false,
    "id": "cftvQuMunlX4",
    "nbgrader": {
     "grade": false,
     "locked": true,
     "solution": false
    }
   },
   "source": [
    "**CS4.** *Graph:* We can consider graph search problem as a state-space search, where each state is a node in the graph and the transition between one state to another as an edge in the graph. Recall that we can represent graph using either a Dictionary or a Class. In this problem, we will use Dictionary to represent a graph where each node represents a state. For example, the image below can be represented as follows:\n",
    "\n",
    "```\n",
    "map = {\"S\": [\"A\", \"B\"],\n",
    "        \"A\": [\"S\", \"C\", \"D\"],\n",
    "        \"B\": [\"S\", \"D\", \"E\"],\n",
    "        \"C\": [\"A\", \"F\"],\n",
    "        \"D\": [\"A\", \"B\", \"F\", \"H\"],\n",
    "        \"E\": [\"B\", \"H\"],\n",
    "        \"F\": [\"C\", \"D\", \"G\"],\n",
    "        \"H\": [\"D\", \"E\", \"G\"],\n",
    "        \"G\": [\"F\", \"H\"]}\n",
    "```\n",
    "\n",
    "![](https://www.dropbox.com/s/3q0hsnbgssl2saa/state_space_map.png?raw=1)\n",
    "\n",
    "Let's consider an action to be the index of the list in that Dictionary. For example, if my current state is \"S\", action 0 will give \"A\" as the next state while action 1 will give \"B\" as the next state. \n",
    "\n",
    "Write `MapSM` class and override the `get_next_values()` method to \n",
    "- `__init__(start)`: which initialize the `start_state` with `start` during object instantiation.\n",
    "- `get_next_values(state, inp)`: this method produces the next state based on the input and the current state. The next states are the neighbours of the current vertex based on the `inp`. The `inp` argument is the index of the next vertex to be visited. The state machine should remain in the current state if the input is not valid or when the current vertex has no neighbours.\n",
    "\n",
    "The class `MapSM` should implement `StateSpaceSearch` class which is an abstract class inheriting from `StateMachine` abstract class. The `StateSpaceSearch` abstract class requires `MapSM` to implement the properties:\n",
    "- `statemap`: which gives the dictionary or the map of the state space.\n",
    "- `legal_inputs`: which gives a `set` of legal inputs of this state space. This is a set of integers from 0 up to $n-1$ where $n$ is the largest number of neighbours of a state in the graph. \n"
   ]
  },
  {
   "cell_type": "code",
   "execution_count": 10,
   "metadata": {
    "colab": [],
    "colab_type": "code",
    "id": "3eLrWzkh8lS7"
   },
   "outputs": [],
   "source": [
    "from abc import abstractmethod\n",
    "\n",
    "class StateSpaceSearch(StateMachine):\n",
    "    @property\n",
    "    @abstractmethod\n",
    "    def statemap(self):\n",
    "        pass\n",
    "\n",
    "    @property\n",
    "    @abstractmethod\n",
    "    def legal_inputs(self):\n",
    "        pass\n",
    "\n",
    "    "
   ]
  },
  {
   "cell_type": "code",
   "execution_count": 11,
   "metadata": {
    "colab": [],
    "colab_type": "code",
    "id": "7GRETpwhn-aJ"
   },
   "outputs": [],
   "source": [
    "class MapSM(StateSpaceSearch):\n",
    "        \n",
    "    def __init__(self, start):\n",
    "        self.start_state = start\n",
    "\n",
    "    @property\n",
    "    def statemap(self):\n",
    "        statemap = {\"S\": [\"A\", \"B\"],\n",
    "                    \"A\": [\"S\", \"C\", \"D\"],\n",
    "                    \"B\": [\"S\", \"D\", \"E\"],\n",
    "                    \"C\": [\"A\", \"F\"],\n",
    "                    \"D\": [\"A\", \"B\", \"F\", \"H\"],\n",
    "                    \"E\": [\"B\", \"H\"],\n",
    "                    \"F\": [\"C\", \"D\", \"G\"],\n",
    "                    \"H\": [\"D\", \"E\", \"G\"],\n",
    "                    \"G\": [\"F\", \"H\"]}\n",
    "        return statemap\n",
    "\n",
    "    @property\n",
    "    def legal_inputs(self):\n",
    "        maxsofar = -1\n",
    "        \n",
    "        for state, neighbours in self.statemap.items():\n",
    "            count = len(neighbours)\n",
    "            if count > maxsofar:\n",
    "                maxsofar = count\n",
    "        \n",
    "        return set(range(maxsofar))\n",
    "\n",
    "  \n",
    "    def get_next_values(self, state, inp):\n",
    "        neighbours = self.statemap.get(state)\n",
    "        if neighbours != None and inp < len(neighbours):\n",
    "            next_state = neighbours[inp]\n",
    "            return next_state, next_state\n",
    "        else:\n",
    "            return state, state\n",
    "    "
   ]
  },
  {
   "cell_type": "code",
   "execution_count": 12,
   "metadata": {
    "colab": [],
    "colab_type": "code",
    "deletable": false,
    "editable": false,
    "id": "bsU1E3Avo9iK",
    "nbgrader": {
     "grade": true,
     "grade_id": "ps12_5",
     "locked": true,
     "points": "1",
     "solution": false
    }
   },
   "outputs": [],
   "source": [
    "mapSM = MapSM(\"S\")\n",
    "mapSM.start()\n",
    "ans = mapSM.transduce([0, 1, 1, 2, 0])\n",
    "assert ans == [\"A\", \"C\", \"F\", \"G\", \"F\"]\n",
    "assert mapSM.legal_inputs == set(range(4))"
   ]
  },
  {
   "cell_type": "code",
   "execution_count": 13,
   "metadata": {
    "deletable": false,
    "editable": false,
    "nbgrader": {
     "grade": true,
     "grade_id": "ps12_6",
     "locked": true,
     "points": "1",
     "solution": false
    }
   },
   "outputs": [],
   "source": [
    "###\n",
    "### AUTOGRADER TEST - DO NOT REMOVE\n",
    "###\n"
   ]
  },
  {
   "cell_type": "markdown",
   "metadata": {
    "colab_type": "text",
    "deletable": false,
    "editable": false,
    "id": "aKNHheJ3OqcY",
    "nbgrader": {
     "grade": false,
     "locked": true,
     "solution": false
    }
   },
   "source": [
    "**CS5.** Create a class to represent a node in a state-space search called `SearchNode`. The object instance of `SearchNode` has the following properties which should be initialized during instantiation.\n",
    "- `state`: which is the state or the label of the node.\n",
    "- `action`: which is the action that was taken to arrive at the node.\n",
    "- `parent`: which is the parent search node from which the current search node can be reached. If a node has no parent, this property should be initialized to `None`.\n",
    "\n",
    "The class has the following method:\n",
    "- `path()`: which returns a list of `Step` from the root node to the current node. The `Step` object is a class and is defined in the template. A `Step` object has two properties: `action` and `state`. You should use recursion for this method `path()`. The base case is when the node has no parent. In this case the solution contains only one step which is the action and the state of the current node. The recursive case is when the current has a `parent` object. In this case, you have to traverse to the ancestors' node until it reach a node which has no `parent` object. \n",
    "- `in_path(state)`: which returns `True` if the state in the argument is in the path. *Hint: use recursion and the parent's `in_path()` method.*"
   ]
  },
  {
   "cell_type": "code",
   "execution_count": 14,
   "metadata": {},
   "outputs": [],
   "source": [
    "class Step:\n",
    "    def __init__(self, action, state):\n",
    "        self.action = action\n",
    "        self.state = state\n",
    "    \n",
    "    def __eq__(self, other):\n",
    "        return self.action == other.action and self.state == other.state\n",
    "  \n",
    "    def __str__(self):\n",
    "        return f\"action: {self.action:}, state: {self.state:}\""
   ]
  },
  {
   "cell_type": "code",
   "execution_count": 15,
   "metadata": {
    "colab": [],
    "colab_type": "code",
    "id": "VBDudTg8PD49"
   },
   "outputs": [],
   "source": [
    "class SearchNode:\n",
    "    def __init__(self, action, state, parent):\n",
    "        self.state = state\n",
    "        self.action = action\n",
    "        self.parent = parent\n",
    "  \n",
    "    def path(self):\n",
    "        if self.parent == None:\n",
    "            return [Step(self.action, self.state)]\n",
    "        else:\n",
    "            return self.parent.path() + [Step(self.action, self.state)]\n",
    "  \n",
    "    def in_path(self, state):\n",
    "        if self.state == state:\n",
    "            return True\n",
    "        elif self.parent == None:\n",
    "            return False\n",
    "        else:\n",
    "            return self.parent.in_path(state)\n",
    "  \n",
    "    def __eq__(self, other):\n",
    "        if self is None and other is None:\n",
    "            return True\n",
    "        elif self is None:\n",
    "            return False\n",
    "        elif other is None:\n",
    "            return False\n",
    "        else:\n",
    "            return self.state == other.state and self.parent == other.parent and \\\n",
    "                   self.action == other.action"
   ]
  },
  {
   "cell_type": "code",
   "execution_count": 16,
   "metadata": {
    "colab": [],
    "colab_type": "code",
    "deletable": false,
    "editable": false,
    "id": "C7BtnDpjQx2q",
    "nbgrader": {
     "grade": true,
     "grade_id": "ps12_7",
     "locked": true,
     "points": "1",
     "solution": false
    }
   },
   "outputs": [],
   "source": [
    "s = SearchNode(None, \"S\", None)\n",
    "a = SearchNode(0, \"A\", s)\n",
    "b = SearchNode(1, \"B\", s)\n",
    "s1 = SearchNode(0, \"S\", a)\n",
    "c = SearchNode(1, \"C\", a)\n",
    "d1 = SearchNode(2, \"D\", a)\n",
    "s2 = SearchNode(0, \"S\", b)\n",
    "d2 = SearchNode(1, \"D\", b)\n",
    "e = SearchNode(2, \"E\", b)\n",
    "a1 = SearchNode(0, \"A\", s1)\n",
    "b1 = SearchNode(1, \"B\", s1)\n",
    "a2 = SearchNode(0, \"A\", c)\n",
    "f1 = SearchNode(1, \"F\", c)\n",
    "a3 = SearchNode(0, \"A\", d1)\n",
    "b2 = SearchNode(1, \"B\", d1)\n",
    "f2 = SearchNode(2, \"F\", d1)\n",
    "h1 = SearchNode(3, \"H\", d1)\n",
    "a4 = SearchNode(0, \"A\", s2)\n",
    "b3 = SearchNode(1, \"B\", s2)\n",
    "a5 = SearchNode(0, \"A\", d2)\n",
    "b4 = SearchNode(1, \"B\", d2)\n",
    "f3 = SearchNode(2, \"F\", d2)\n",
    "h2 = SearchNode(3, \"H\", d2)\n",
    "b5 = SearchNode(0, \"B\", e)\n",
    "h3 = SearchNode(1, \"H\", e)\n",
    "\n",
    "assert s.parent == None\n",
    "assert a.state == \"A\" and a.parent == s and a.action == 0\n",
    "assert b.state == \"B\" and b.parent == s and b.action == 1\n",
    "assert h3.state == \"H\" and h3.parent == e and h3.action == 1\n",
    "assert a5.path() == [Step(None, \"S\"), Step(1, \"B\"), Step(1, \"D\"), Step(0, \"A\")]\n",
    "assert b5.in_path(\"B\")\n",
    "assert b5.in_path(\"S\")\n",
    "assert b5.in_path(\"E\")"
   ]
  },
  {
   "cell_type": "code",
   "execution_count": 17,
   "metadata": {
    "deletable": false,
    "editable": false,
    "nbgrader": {
     "grade": true,
     "grade_id": "ps12_8",
     "locked": true,
     "points": "1",
     "solution": false
    }
   },
   "outputs": [],
   "source": [
    "###\n",
    "### AUTOGRADER TEST - DO NOT REMOVE\n",
    "###\n"
   ]
  }
 ],
 "metadata": {
  "colab": {
   "authorship_tag": "ABX9TyMsrjE4/RG3uAz1unox/1ZQ",
   "collapsed_sections": [],
   "include_colab_link": true,
   "name": "Week08_ProblemSet.ipynb",
   "provenance": []
  },
  "kernelspec": {
   "display_name": "Python 3",
   "language": "python",
   "name": "python3"
  },
  "language_info": {
   "codemirror_mode": {
    "name": "ipython",
    "version": 3
   },
   "file_extension": ".py",
   "mimetype": "text/x-python",
   "name": "python",
   "nbconvert_exporter": "python",
   "pygments_lexer": "ipython3",
   "version": "3.8.3"
  }
 },
 "nbformat": 4,
 "nbformat_minor": 4
}
