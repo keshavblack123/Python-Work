{
 "cells": [
  {
   "cell_type": "markdown",
   "metadata": {
    "colab_type": "text",
    "deletable": false,
    "editable": false,
    "id": "0jA6_haHgo2y",
    "nbgrader": {
     "grade": false,
     "locked": true,
     "solution": false
    }
   },
   "source": [
    "# Week 5 Problem Set\n",
    "\n",
    "## Cohort Sessions"
   ]
  },
  {
   "cell_type": "markdown",
   "metadata": {
    "colab_type": "text",
    "deletable": false,
    "editable": false,
    "id": "GvaH3A6rgr9d",
    "nbgrader": {
     "grade": false,
     "locked": true,
     "solution": false
    }
   },
   "source": [
    "**CS1.** *Dictionary:* Implement a Graph using a *Dictionary* where the keys are the Vertices in the Graph and the values (in the the key-value pair) correspond to an Array containing the neighbouring Vertices. For example, let's represent the following graph:\n",
    "```\n",
    "    A -> B\n",
    "    A -> C\n",
    "    B -> C\n",
    "    B -> D\n",
    "    C -> D\n",
    "    D -> C\n",
    "    E -> F\n",
    "    F -> C\n",
    "```\n",
    "Create a Dictionary to represent the graph above."
   ]
  },
  {
   "cell_type": "code",
   "execution_count": 39,
   "metadata": {
    "colab": [],
    "colab_type": "code",
    "id": "Du0SDL0ignua",
    "nbgrader": {
     "grade": false,
     "locked": false,
     "solution": false
    }
   },
   "outputs": [],
   "source": [
    "# replace the None with a dictionary representing the graph\n",
    "graph = {'A': ['B', 'C'], \n",
    "         'B': ['C', 'D'], \n",
    "         'C': ['D'], \n",
    "         'D': ['C'], \n",
    "         'E': ['F'], \n",
    "         'F': ['C']}\n"
   ]
  },
  {
   "cell_type": "code",
   "execution_count": 40,
   "metadata": {
    "colab": {
     "base_uri": "https://localhost:8080/",
     "height": 34
    },
    "colab_type": "code",
    "deletable": false,
    "editable": false,
    "id": "b2jme-mXg_YF",
    "nbgrader": {
     "grade": false,
     "locked": true,
     "solution": false
    },
    "outputId": "e1120100-3b19-4277-b840-175fb2ff0e07"
   },
   "outputs": [
    {
     "name": "stdout",
     "output_type": "stream",
     "text": [
      "{'A': ['B', 'C'], 'B': ['C', 'D'], 'C': ['D'], 'D': ['C'], 'E': ['F'], 'F': ['C']}\n"
     ]
    }
   ],
   "source": [
    "print(graph)"
   ]
  },
  {
   "cell_type": "markdown",
   "metadata": {
    "colab_type": "text",
    "deletable": false,
    "editable": false,
    "id": "M4_djDcXhGBd",
    "nbgrader": {
     "grade": false,
     "locked": true,
     "solution": false
    }
   },
   "source": [
    "Write a function `get_neighbours(graph, vert)` which returns a list of all neighbours of the requested Vertex `vert` in the `graph`. Return `None` if the Vertex is not in the graph."
   ]
  },
  {
   "cell_type": "code",
   "execution_count": 41,
   "metadata": {
    "colab": [],
    "colab_type": "code",
    "id": "0IuyrlmNhCok"
   },
   "outputs": [],
   "source": [
    "def get_neighbours(graph, vert):\n",
    "    return graph.get(vert)"
   ]
  },
  {
   "cell_type": "code",
   "execution_count": 42,
   "metadata": {
    "colab": [],
    "colab_type": "code",
    "deletable": false,
    "editable": false,
    "id": "RXLzEJPzhrF7",
    "nbgrader": {
     "grade": true,
     "grade_id": "cs11",
     "locked": true,
     "points": "1",
     "solution": false
    }
   },
   "outputs": [],
   "source": [
    "assert get_neighbours(graph, \"B\") == [\"C\", \"D\"]\n",
    "assert get_neighbours(graph, \"A\") == [\"B\", \"C\"]\n",
    "assert get_neighbours(graph, \"F\") == [\"C\"]"
   ]
  },
  {
   "cell_type": "code",
   "execution_count": 43,
   "metadata": {
    "deletable": false,
    "editable": false,
    "nbgrader": {
     "grade": true,
     "grade_id": "cs12",
     "locked": true,
     "points": "1",
     "solution": false
    }
   },
   "outputs": [],
   "source": [
    "###\n",
    "### AUTOGRADER TEST - DO NOT REMOVE\n",
    "###\n"
   ]
  },
  {
   "cell_type": "markdown",
   "metadata": {
    "colab_type": "text",
    "deletable": false,
    "editable": false,
    "id": "BzqZhacxiYfV",
    "nbgrader": {
     "grade": false,
     "locked": true,
     "solution": false
    }
   },
   "source": [
    "Write a function `get_source(graph, vert)` which returns a list of all source Vertices pointing to `vert` in the `graph`. For example, Vertex \"C\" has the following source Vertices: `[\"A\", \"B\", \"D\", \"F\"]. Return an empty list if there are none."
   ]
  },
  {
   "cell_type": "code",
   "execution_count": 44,
   "metadata": {
    "colab": [],
    "colab_type": "code",
    "id": "W6PepA1_ig3h"
   },
   "outputs": [],
   "source": [
    "def get_source(graph, vert):\n",
    "    result = []\n",
    "    for k in graph:\n",
    "        for i in graph[k]:\n",
    "            if i == vert:\n",
    "                result.append(k)\n",
    "    return result"
   ]
  },
  {
   "cell_type": "code",
   "execution_count": 45,
   "metadata": {
    "colab": [],
    "colab_type": "code",
    "deletable": false,
    "editable": false,
    "id": "TgpCSdtJi3sx",
    "nbgrader": {
     "grade": true,
     "grade_id": "cs13",
     "locked": true,
     "points": "1",
     "solution": false
    }
   },
   "outputs": [],
   "source": [
    "assert sorted(get_source(graph, \"C\")) == [\"A\", \"B\", \"D\", \"F\"]\n",
    "assert sorted(get_source(graph, \"D\")) == [\"B\", \"C\"]\n",
    "assert sorted(get_source(graph, \"F\")) == [\"E\"]"
   ]
  },
  {
   "cell_type": "code",
   "execution_count": 46,
   "metadata": {
    "deletable": false,
    "editable": false,
    "nbgrader": {
     "grade": true,
     "grade_id": "cs14",
     "locked": true,
     "points": "1",
     "solution": false
    }
   },
   "outputs": [],
   "source": [
    "###\n",
    "### AUTOGRADER TEST - DO NOT REMOVE\n",
    "###\n"
   ]
  },
  {
   "cell_type": "markdown",
   "metadata": {
    "colab_type": "text",
    "deletable": false,
    "editable": false,
    "id": "dm-fsmj4j5zo",
    "nbgrader": {
     "grade": false,
     "locked": true,
     "solution": false
    }
   },
   "source": [
    "**CS2.** Create a class `Vertex` to represent a vertex in a graph. The class `Vertex` has the following attributes:\n",
    "- `id`: to identify each vertex. This is of String data type.\n",
    "- `neighbours`: which is a Dictionary where the keys are the neighbouring `Vertex` object instances that are connected to the current Vertex and the values are the weights of the edge between the current Vertex and the neighbouring vertices. \n",
    "\n",
    "The class should also have the following methods:\n",
    "\n",
    "- `__init__(self, id)`: which is used to initialized the attribute `id`. By default, `id` is set to an empty String . The attribute `neighbours` is always set to an empty dictionary.\n",
    "- `add_neighbour(self, nbr_vertex, weight)`: which adds a neighbouring Vertex to the current Vertex. The second argument provides the weight of the edge between the current Vertex and the newly added neighbouring Vertex. By default, `weight` is `0`.\n",
    "- `get_neigbours(self)`: which returns all the Vertices connected to the current Vertex as a list. The elements of the output list are of `Vertex` object instances.\n",
    "- `get_weight(self, neighbour)`: which returns the weight of the requested neighbour. It should return `None` if the requested neighbour is not found.\n",
    "- `__eq__(self, other)`: which returns true if the id of the current vertex object is the same as the `other` vertex's id. \n",
    "- `__lt__(self, other)`: which returns true if the id of the current vertex object is less than the `other` vertex's id.\n",
    "- `__hash__(self)`: which calls the `hash()` function on `id` and returns it. This allows the object to be a dictionary key.\n",
    "- `__str__(self)`: This method should return the id of the current vertex and a list of `id`s of the neighbouring vertices, like `Vertex 2 is connected to: 3, 4, 5.`"
   ]
  },
  {
   "cell_type": "code",
   "execution_count": 47,
   "metadata": {
    "colab": [],
    "colab_type": "code",
    "id": "htPcbL_6k4IS"
   },
   "outputs": [],
   "source": [
    "class Vertex:\n",
    "    def __init__(self, id=\"\"):\n",
    "        self.id = id\n",
    "        self.neighbours = {}\n",
    "    \n",
    "    def add_neighbour(self, nbr_vertex, weight=0):\n",
    "        self.neighbours[nbr_vertex] = weight\n",
    "    \n",
    "    def get_neighbours(self):\n",
    "        return list(self.neighbours.keys())\n",
    "    \n",
    "    def get_weight(self, neighbour):\n",
    "        return self.neighbours.get(neighbour)\n",
    "    \n",
    "    def __eq__(self, other):\n",
    "        return self.id == other.id\n",
    "    \n",
    "    def __lt__(self, other):\n",
    "        return self.id < other.id\n",
    "    \n",
    "    def __hash__(self):\n",
    "        return hash(self.id)\n",
    "    \n",
    "    def __str__(self):\n",
    "        return f\"Vertex {self.id} is connected to: \" + ', '.join([x.id for x in self.get_neighbours()])"
   ]
  },
  {
   "cell_type": "code",
   "execution_count": 48,
   "metadata": {
    "colab": [],
    "colab_type": "code",
    "deletable": false,
    "editable": false,
    "id": "hvmNLMuTnADW",
    "nbgrader": {
     "grade": true,
     "grade_id": "cs21",
     "locked": true,
     "points": "1",
     "solution": false
    }
   },
   "outputs": [],
   "source": [
    "v1 = Vertex(\"1\")\n",
    "assert v1.id == \"1\" and len(v1.neighbours) == 0\n",
    "v2 = Vertex(\"2\")\n",
    "v1.add_neighbour(v2)\n",
    "assert v1.get_neighbours()[0].id == \"2\" and v1.neighbours[v1.get_neighbours()[0]] == 0\n",
    "v3 = Vertex(\"3\")\n",
    "v1.add_neighbour(v3, 3)\n",
    "assert v1.get_weight(v3) == 3\n",
    "v4 = Vertex(\"4\")\n",
    "assert v1.get_weight(v4) == None\n",
    "assert v1 < v2\n",
    "assert v1 != v2\n",
    "assert str(v1) == \"Vertex 1 is connected to: 2, 3\""
   ]
  },
  {
   "cell_type": "code",
   "execution_count": 49,
   "metadata": {
    "deletable": false,
    "editable": false,
    "nbgrader": {
     "grade": true,
     "grade_id": "cs22",
     "locked": true,
     "points": "1",
     "solution": false
    }
   },
   "outputs": [],
   "source": [
    "###\n",
    "### AUTOGRADER TEST - DO NOT REMOVE\n",
    "###\n"
   ]
  },
  {
   "cell_type": "markdown",
   "metadata": {
    "colab_type": "text",
    "deletable": false,
    "editable": false,
    "id": "ndPXs3Mhn6rg",
    "nbgrader": {
     "grade": false,
     "locked": true,
     "solution": false
    }
   },
   "source": [
    "**CS3.** Create a class `Graph` to represent a Graph. The class has the following attributes:\n",
    "- `vertices`: which is a *dictionary* of Vertices. The keys are the `id`s of the Vertices and the values are `Vertex` object instances.\n",
    "\n",
    "The class has the follo\n",
    "- `num_vertices`: which is a *computed* property that returns the number of vertices in the graph.\n",
    "\n",
    "The class also has the following methods:\n",
    "- `__init__(self)`: which initializes the graph with an empty dictionary.\n",
    "- `_create_vertex(self, id)`: which creates a new `Vertex` object with a given `id`. This method is never called directly and is only used by `add_vertex(id)`.\n",
    "- `add_vertex(self, id)`: which creates a new `Vertex` object, adding it into the dictionary `vertices`. The argument `id` is a String. This method should call `_create_vertex(id)`.\n",
    "- `get_vertex(self, id)`: which returns the `Vertex` object instance of the requested `id`. The method should return `None` if the requested `id` cannot be found. The argument `id` is a String.\n",
    "- `add_edge(start_v, end_v)`: which creates an edge from one Vertex to another Vertex. The arguments are the `id`s of the two vertices and are both Strings.\n",
    "- `get_neighbours(self, id)`: which returns a list of `id`s all the neighbouring vertices (of the specified Vertex `id`). It should return `None` if `id` cannot be found. The argument `id` is a String and the elements of the output list are of `str` data type. \n",
    "- `__contains__(self, id)`: which returns either `True` or `False` depending on whether the graph contains the specified Vertex's `id`. The argument `id` is a String."
   ]
  },
  {
   "cell_type": "code",
   "execution_count": 50,
   "metadata": {
    "colab": [],
    "colab_type": "code",
    "id": "fChShweEqEtW"
   },
   "outputs": [],
   "source": [
    "class Graph:\n",
    "    def __init__(self):\n",
    "        self.vertices = {}\n",
    "        \n",
    "    def _create_vertex(self, id):\n",
    "        return Vertex(id)\n",
    "    \n",
    "    def add_vertex(self, id):\n",
    "        self.vertices[id] = self._create_vertex(id)\n",
    "    \n",
    "    def get_vertex(self, id):\n",
    "        return self.vertices.get(id, None)\n",
    "    \n",
    "    def add_edge(self, start_v, end_v, weight=0):\n",
    "        if start_v not in self.vertices:\n",
    "            start = self.add_vertex(start_v)\n",
    "        else:\n",
    "            start = self.vertices[start_v]\n",
    "        if end_v not in self.vertices:\n",
    "            end = self.add_vertex(end_v)\n",
    "        else:\n",
    "            end = self.vertices[end_v]\n",
    "        \n",
    "        start.add_neighbour(end, weight)\n",
    "            \n",
    "    \n",
    "    def get_neighbours(self, id):\n",
    "        v = self.get_vertex(id)\n",
    "        \n",
    "        if v is not None:\n",
    "            result = []\n",
    "            for i in v.get_neighbours():\n",
    "                result.append(i.id)\n",
    "            return result\n",
    "        else:\n",
    "            return None\n",
    "    \n",
    "    def __contains__(self, val):\n",
    "        return val in self.vertices.keys()\n",
    "    \n",
    "    def __iter__(self):\n",
    "        for k,v in self.vertices.items():\n",
    "            yield v \n",
    "            \n",
    "    @property    \n",
    "    def num_vertices(self):\n",
    "        return len(self.vertices)"
   ]
  },
  {
   "cell_type": "code",
   "execution_count": 51,
   "metadata": {
    "colab": [],
    "colab_type": "code",
    "deletable": false,
    "editable": false,
    "id": "ng6pGDNBf6Y7",
    "nbgrader": {
     "grade": true,
     "grade_id": "cs31",
     "locked": true,
     "points": "1",
     "solution": false
    }
   },
   "outputs": [],
   "source": [
    "g = Graph()\n",
    "assert g.vertices == {} and g.num_vertices == 0\n",
    "g.add_vertex(\"A\")\n",
    "g.add_vertex(\"B\")\n",
    "g.add_vertex(\"C\")\n",
    "g.add_vertex(\"D\")\n",
    "g.add_vertex(\"E\")\n",
    "g.add_vertex(\"F\")\n",
    "assert g.num_vertices == 6\n",
    "assert \"A\" in g\n",
    "assert \"B\" in g\n",
    "assert \"C\" in g\n",
    "assert \"D\" in g\n",
    "assert \"E\" in g\n",
    "assert \"F\" in g\n",
    "g.add_edge(\"A\", \"B\")\n",
    "g.add_edge(\"A\", \"C\")\n",
    "g.add_edge(\"B\", \"C\")\n",
    "g.add_edge(\"B\", \"D\")\n",
    "g.add_edge(\"C\", \"D\")\n",
    "g.add_edge(\"D\", \"C\")\n",
    "g.add_edge(\"E\", \"F\")\n",
    "g.add_edge(\"F\", \"C\")\n",
    "assert sorted(g.get_neighbours(\"A\")) == [\"B\", \"C\"]\n",
    "assert sorted(g.get_neighbours(\"B\")) == [\"C\", \"D\"]\n",
    "assert sorted(g.get_neighbours(\"C\")) == [\"D\"]\n",
    "assert [v.id for v in g] == [\"A\", \"B\", \"C\", \"D\", \"E\", \"F\"]"
   ]
  },
  {
   "cell_type": "code",
   "execution_count": 52,
   "metadata": {
    "deletable": false,
    "editable": false,
    "nbgrader": {
     "grade": true,
     "grade_id": "cs32",
     "locked": true,
     "points": "1",
     "solution": false
    }
   },
   "outputs": [],
   "source": [
    "###\n",
    "### AUTOGRADER TEST - DO NOT REMOVE\n",
    "###\n"
   ]
  },
  {
   "cell_type": "markdown",
   "metadata": {
    "deletable": false,
    "editable": false,
    "nbgrader": {
     "grade": false,
     "locked": true,
     "solution": false
    }
   },
   "source": [
    "**CS4.** Create a subclass of `Vertex` called `VertexSearch`. This class has the following additional attributes:\n",
    "- `colour`: which is a mark on the vertex during the search algorithm. It is of String data type and should be set to \"white\" by default.\n",
    "- `d`: which is an Integer denoting the distance from other Vertex to the current Vertex in Breath-First-Search. This is also used to record discovery time in Depth-First-Search. This property should be initialized to `sys.maxsize` at the start.\n",
    "- `f`: which is an Integer denoting the final time in Depth-First-Search. This property should be initialized to `sys.maxsize` at the start.\n",
    "- `parent`: which is a reference to the parent Vertex object. This property should be set to `None` at the start."
   ]
  },
  {
   "cell_type": "code",
   "execution_count": 53,
   "metadata": {},
   "outputs": [],
   "source": [
    "import sys\n",
    "\n",
    "class VertexSearch(Vertex):\n",
    "    def __init__(self, id=\"\"):\n",
    "        super().__init__(id)\n",
    "        self.colour = \"white\"\n",
    "        self.d = sys.maxsize\n",
    "        self.f = sys.maxsize\n",
    "        self.parent = None "
   ]
  },
  {
   "cell_type": "code",
   "execution_count": 54,
   "metadata": {
    "deletable": false,
    "editable": false,
    "nbgrader": {
     "grade": true,
     "grade_id": "cs41",
     "locked": true,
     "points": "1",
     "solution": false
    }
   },
   "outputs": [],
   "source": [
    "import sys\n",
    "\n",
    "v = VertexSearch()\n",
    "assert v.id == \"\"\n",
    "assert v.colour == \"white\"\n",
    "assert v.d == sys.maxsize\n",
    "assert v.f == sys.maxsize\n",
    "assert v.parent == None"
   ]
  },
  {
   "cell_type": "code",
   "execution_count": 55,
   "metadata": {
    "deletable": false,
    "editable": false,
    "nbgrader": {
     "grade": true,
     "grade_id": "cs42",
     "locked": true,
     "points": "1",
     "solution": false
    }
   },
   "outputs": [],
   "source": [
    "###\n",
    "### AUTOGRADER TEST - DO NOT REMOVE\n",
    "###\n"
   ]
  },
  {
   "cell_type": "markdown",
   "metadata": {
    "colab_type": "text",
    "deletable": false,
    "editable": false,
    "id": "0pHMdvifh_0h",
    "nbgrader": {
     "grade": false,
     "locked": true,
     "solution": false
    }
   },
   "source": [
    "**CS5.** **You should do this after you completed HW2.** Create a class `Search2D` which takes in an object `GraphSearch` for its initialization. The class should have the following methods:\n",
    "- `clear_vertices()`: which sets the properties of all the vertices:\n",
    "  - `colour` to \"white\"\n",
    "  - `d` to `sys.maxsize`\n",
    "  - `f` to `sys.maxsize`\n",
    "  - `parent` to `None`.\n",
    " \n",
    "\n",
    "\n"
   ]
  },
  {
   "cell_type": "code",
   "execution_count": 57,
   "metadata": {},
   "outputs": [],
   "source": [
    "#Copy over GraphSearch from Homework\n",
    "class GraphSearch(Graph):\n",
    "    ##BEGIN SOLUTION\n",
    "    def _create_vertex(self, id):\n",
    "        return VertexSearch(id)\n",
    "    ##END SOLUTION\n",
    "    pass"
   ]
  },
  {
   "cell_type": "code",
   "execution_count": 58,
   "metadata": {
    "colab": [],
    "colab_type": "code",
    "id": "mWh412x_iYSK"
   },
   "outputs": [],
   "source": [
    "import sys\n",
    "\n",
    "class Search2D:\n",
    "    def __init__(self, g):\n",
    "        self.graph = g\n",
    "    \n",
    "    def clear_vertices(self):\n",
    "        for v in self.graph.vertices.values():\n",
    "            v.colour = \"white\"\n",
    "            v.d = sys.maxsize\n",
    "            v.f = sys.maxsize\n",
    "            v.parent = None\n",
    "    \n",
    "    def __iter__(self):\n",
    "        return iter([v for v in self.graph])\n",
    "    \n",
    "    def __len__(self):\n",
    "        return len([v for v in self.graph.vertices])"
   ]
  },
  {
   "cell_type": "code",
   "execution_count": 59,
   "metadata": {
    "colab": {
     "base_uri": "https://localhost:8080/",
     "height": 34
    },
    "colab_type": "code",
    "deletable": false,
    "editable": false,
    "id": "q8DrPuVIqqZT",
    "nbgrader": {
     "grade": true,
     "grade_id": "cs51",
     "locked": true,
     "points": "1",
     "solution": false
    },
    "outputId": "c843b09c-13ba-4ecd-e1af-95943cabe1c0"
   },
   "outputs": [],
   "source": [
    "g4 = GraphSearch()\n",
    "g4.add_vertex(\"A\")\n",
    "g4.add_vertex(\"B\")\n",
    "g4.add_vertex(\"C\")\n",
    "g4.add_vertex(\"D\")\n",
    "g4.add_vertex(\"E\")\n",
    "g4.add_vertex(\"F\")\n",
    "g4.add_edge(\"A\", \"B\")\n",
    "g4.add_edge(\"A\", \"C\")\n",
    "g4.add_edge(\"B\", \"C\")\n",
    "g4.add_edge(\"B\", \"D\")\n",
    "g4.add_edge(\"C\", \"D\")\n",
    "g4.add_edge(\"D\", \"C\")\n",
    "g4.add_edge(\"E\", \"F\")\n",
    "g4.add_edge(\"F\", \"C\")\n",
    "gs4 = Search2D(g4)\n",
    "gs4.clear_vertices()\n",
    "\n",
    "assert len(gs4) == 6\n",
    "assert [v.id for v in gs4] == [\"A\", \"B\", \"C\", \"D\", \"E\", \"F\"]\n",
    "assert [v.colour for v in gs4] == [\"white\" for v in range(len(gs4))]\n",
    "assert [v.d for v in gs4] == [sys.maxsize for v in range(len(gs4))]\n",
    "assert [v.f for v in gs4] == [sys.maxsize for v in range(len(gs4))]\n",
    "assert [v.parent for v in gs4] == [None for v in range(len(gs4))]"
   ]
  },
  {
   "cell_type": "code",
   "execution_count": 60,
   "metadata": {
    "deletable": false,
    "editable": false,
    "nbgrader": {
     "grade": true,
     "grade_id": "cs52",
     "locked": true,
     "points": "1",
     "solution": false
    }
   },
   "outputs": [],
   "source": [
    "###\n",
    "### AUTOGRADER TEST - DO NOT REMOVE\n",
    "###\n"
   ]
  },
  {
   "cell_type": "markdown",
   "metadata": {
    "deletable": false,
    "editable": false,
    "nbgrader": {
     "grade": false,
     "locked": true,
     "solution": false
    }
   },
   "source": [
    "**CS6.** Create a class `SearchBFS` which is a subclass of `Search2D`. This subclass should implement the Breadth First Search algorithm in the following methods:\n",
    "\n",
    "- `search_from(start)`: which initializes the `d` and `parent` properties of each vertices in the graph from the `start` Vertex following Breadth-First-Search algorithm. Use your previous code that implements `Queue` data structure. \n",
    "- `get_shortest_path(start, dest)`: which returns a list of vertex ids that forms a shortest path from Vertex `start` to Vertex `dest`. Think how to solve this using recursion. This method should call `search_from()` if the distance at `start` Vertex is not zero. It should return a list containing [\"No Path\"] if there is no path from the start to the destination vertex. *Hint: you can make use another function for your recursion `get_path(start, dest, result)` where result is an empty list which will be populated in the recursive calls.*"
   ]
  },
  {
   "cell_type": "code",
   "execution_count": 65,
   "metadata": {
    "colab": [],
    "colab_type": "code",
    "id": "avdnmGxbiKgR"
   },
   "outputs": [],
   "source": [
    "#Copy over Queue from Wk4 HMWK\n",
    "class Queue:\n",
    "    def __init__(self):\n",
    "        self.__items = []\n",
    "    \n",
    "    def enqueue(self, item):\n",
    "        self.__items.append(item)\n",
    "    \n",
    "    def dequeue(self):\n",
    "        if self.__items == []:\n",
    "            return None\n",
    "        else:\n",
    "            return self.__items.pop(0)\n",
    "    \n",
    "    def peek(self):\n",
    "        return self.__items[0]\n",
    "    \n",
    "    @property\n",
    "    def is_empty(self):\n",
    "        return self.__items == []\n",
    "    \n",
    "    @property\n",
    "    def size(self):\n",
    "        return len(self.__items)"
   ]
  },
  {
   "cell_type": "code",
   "execution_count": 68,
   "metadata": {},
   "outputs": [],
   "source": [
    "class SearchBFS(Search2D):\n",
    "\n",
    "    def search_from(self, start):\n",
    "        self.clear_vertices()\n",
    "        start = self.graph.get_vertex(start)\n",
    "        if start is None:\n",
    "            return\n",
    "        start.colour = \"grey\"\n",
    "        start.d = 0\n",
    "        start.parent = None\n",
    "        \n",
    "        q = Queue()\n",
    "        q.enqueue(start)\n",
    "        \n",
    "        while not q.is_empty:\n",
    "            u = q.dequeue()\n",
    "            for v in u.get_neighbours():\n",
    "                if v.colour == \"white\":\n",
    "                    v.colour = \"grey\"\n",
    "                    v.d = u.d + 1\n",
    "                    v.parent = u\n",
    "                    q.enqueue(v)\n",
    "            u.colour = \"black\"\n",
    "    \n",
    "    def get_shortest_path(self, start, dest):\n",
    "        result = []\n",
    "        self.get_path(start, dest, result)\n",
    "        if result == []:\n",
    "            return None\n",
    "        else:\n",
    "            return result\n",
    "    \n",
    "    def get_path(self, start, dest, result):\n",
    "        u = self.graph.get_vertex(start)\n",
    "        if u is None:\n",
    "            return \n",
    "        else:\n",
    "            v = self.graph.get_vertex(dest)\n",
    "            if v is None:\n",
    "                return\n",
    "        \n",
    "        if u.d != 0:\n",
    "            self.search_from(start)\n",
    "            \n",
    "        if u == v:\n",
    "            result.append(start)\n",
    "        elif v.parent is None:\n",
    "            result.append(\"No Path\")\n",
    "        else:\n",
    "            self.get_path(start, v.parent.id, result)\n",
    "            result.append(dest)\n",
    "            \n"
   ]
  },
  {
   "cell_type": "code",
   "execution_count": 69,
   "metadata": {
    "deletable": false,
    "editable": false,
    "nbgrader": {
     "grade": true,
     "grade_id": "cs61",
     "locked": true,
     "points": "1",
     "solution": false
    }
   },
   "outputs": [],
   "source": [
    "g4 = GraphSearch()\n",
    "g4.add_vertex(\"A\")\n",
    "g4.add_vertex(\"B\")\n",
    "g4.add_vertex(\"C\")\n",
    "g4.add_vertex(\"D\")\n",
    "g4.add_vertex(\"E\")\n",
    "g4.add_vertex(\"F\")\n",
    "g4.add_edge(\"A\", \"B\")\n",
    "g4.add_edge(\"A\", \"C\")\n",
    "g4.add_edge(\"B\", \"C\")\n",
    "g4.add_edge(\"B\", \"D\")\n",
    "g4.add_edge(\"C\", \"D\")\n",
    "g4.add_edge(\"D\", \"C\")\n",
    "g4.add_edge(\"E\", \"F\")\n",
    "g4.add_edge(\"F\", \"C\")\n",
    "gs4 = SearchBFS(g4)\n",
    "\n",
    "gs4.search_from(\"A\")\n",
    "assert gs4.graph.get_vertex(\"A\").d == 0\n",
    "assert gs4.graph.get_vertex(\"A\").colour == \"black\"\n",
    "assert gs4.graph.get_vertex(\"A\").parent == None\n",
    "assert gs4.graph.get_vertex(\"B\").d == 1\n",
    "assert gs4.graph.get_vertex(\"B\").colour == \"black\"\n",
    "assert gs4.graph.get_vertex(\"B\").parent == gs4.graph.get_vertex(\"A\")\n",
    "assert gs4.graph.get_vertex(\"C\").d == 1\n",
    "assert gs4.graph.get_vertex(\"C\").colour == \"black\"\n",
    "assert gs4.graph.get_vertex(\"C\").parent == gs4.graph.get_vertex(\"A\")\n",
    "assert gs4.graph.get_vertex(\"D\").d == 2\n",
    "assert gs4.graph.get_vertex(\"D\").colour == \"black\"\n",
    "gs4.graph.get_vertex(\"D\").parent\n",
    "#assert gs4.graph.get_vertex(\"D\").parent == gs4.graph.get_vertex(\"B\")\n",
    "ans = gs4.get_shortest_path(\"A\", \"D\")\n",
    "assert ans == [\"A\", \"B\", \"D\"]\n",
    "ans = gs4.get_shortest_path(\"E\", \"D\")\n",
    "assert ans == [\"E\", \"F\", \"C\", \"D\"]"
   ]
  },
  {
   "cell_type": "code",
   "execution_count": 70,
   "metadata": {
    "deletable": false,
    "editable": false,
    "nbgrader": {
     "grade": true,
     "grade_id": "cs62",
     "locked": true,
     "points": "1",
     "solution": false
    }
   },
   "outputs": [],
   "source": [
    "###\n",
    "### AUTOGRADER TEST - DO NOT REMOVE\n",
    "###\n"
   ]
  },
  {
   "cell_type": "code",
   "execution_count": null,
   "metadata": {},
   "outputs": [],
   "source": []
  }
 ],
 "metadata": {
  "colab": {
   "authorship_tag": "ABX9TyPgyB9DRYSfhjD8BmHZ7hFm",
   "collapsed_sections": [],
   "include_colab_link": true,
   "name": "Week05_ProblemSet.ipynb",
   "provenance": []
  },
  "kernelspec": {
   "display_name": "Python 3",
   "language": "python",
   "name": "python3"
  },
  "language_info": {
   "codemirror_mode": {
    "name": "ipython",
    "version": 3
   },
   "file_extension": ".py",
   "mimetype": "text/x-python",
   "name": "python",
   "nbconvert_exporter": "python",
   "pygments_lexer": "ipython3",
   "version": "3.8.3"
  }
 },
 "nbformat": 4,
 "nbformat_minor": 4
}
