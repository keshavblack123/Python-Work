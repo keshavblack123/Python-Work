{
 "cells": [
  {
   "cell_type": "markdown",
   "metadata": {
    "colab_type": "text",
    "deletable": false,
    "editable": false,
    "id": "gzjE5NwZrqz0",
    "nbgrader": {
     "grade": false,
     "locked": true,
     "solution": false
    }
   },
   "source": [
    "# Week 4 Problem Set\n",
    "\n",
    "## Cohort Sessions"
   ]
  },
  {
   "cell_type": "markdown",
   "metadata": {
    "deletable": false,
    "editable": false,
    "nbgrader": {
     "grade": false,
     "locked": true,
     "solution": false
    }
   },
   "source": [
    "**CS1.** We are going to create a simple Car Racing game. First, let's create a class Car with the following properties:\n",
    "- `racer` which stores the name of the driver. This property must be non-empty string. This property should be initialized upon object instantiation.\n",
    "- `speed` which stores the speed of the car. This property can only be non-negative values and must be less than a maximum speed.\n",
    "- `pos` which is an integer specifying the position of the car which can only be non-negative values.\n",
    "- `is_finished` which is a computed property that returns `True` or `False` depending whether the position has reached the finish line.\n",
    "\n",
    "Each car also has the following attributes:\n",
    "- `max_speed` which specifies the maximum speed the car can have. This attribute should be initialized upon object instantiation.\n",
    "- `finish` which stores the finish distance the car has to go through. Upon initialization, it should be set to -1. \n",
    "\n",
    "The class has the following methods:\n",
    "- `start(init_speed, finish_distance)` which set the speed property to some initial value. The method also set the finish distance to some value and set the `pos` property to 0.\n",
    "- `race(acceleration)` which takes in an integer value for its acceleratin and modify both the speed and the position of the car.\n",
    "\n"
   ]
  },
  {
   "cell_type": "code",
   "execution_count": 23,
   "metadata": {},
   "outputs": [],
   "source": [
    "class RacingCar:\n",
    "    \n",
    "    def __init__(self, name, max_speed):\n",
    "        self.name = name\n",
    "        self.max_speed = max_speed\n",
    "        self.finish = -1\n",
    "    \n",
    "    #getter\n",
    "    @property\n",
    "    def racer(self):\n",
    "        return self.name\n",
    "    \n",
    "    @racer.setter\n",
    "    def racer(self, name):\n",
    "        if isinstance(name, str) and name != \"\":\n",
    "            self.name = name\n",
    "            \n",
    "    #getter\n",
    "    @property\n",
    "    def speed(self):\n",
    "        return self._speed\n",
    "    \n",
    "    @speed.setter\n",
    "    def speed(self, val):\n",
    "        if val <= self.max_speed and val >= 0:\n",
    "            self._speed = val\n",
    "    \n",
    "    #getter\n",
    "    @property\n",
    "    def pos(self):\n",
    "        return self._pos\n",
    "    \n",
    "    @pos.setter\n",
    "    def pos(self, val):\n",
    "        if isinstance(val, int) and val >= 0:\n",
    "            self._pos = val\n",
    "     \n",
    "    #getter\n",
    "    @property\n",
    "    def is_finished(self):\n",
    "        if self.finish > 0:\n",
    "            return self._pos >= self.finish\n",
    "        else:\n",
    "            return False\n",
    "    \n",
    "    #method\n",
    "    def start(self, init_speed, finish_dist):\n",
    "        self._speed = init_speed\n",
    "        self.finish = finish_dist\n",
    "        self._pos = 0\n",
    "    \n",
    "    #method\n",
    "    def race(self, acc):\n",
    "        if isinstance(acc, int):\n",
    "            self._speed += acc\n",
    "            self._pos = self._pos + self._speed\n",
    "    \n",
    "    #???    \n",
    "    def __str__(self):\n",
    "        return f\"Racing Car {self.racer} at position: {self.pos}, with speed: {self.speed}.\"\n",
    "    \n",
    "            \n",
    "    "
   ]
  },
  {
   "cell_type": "code",
   "execution_count": 24,
   "metadata": {
    "deletable": false,
    "editable": false,
    "nbgrader": {
     "grade": true,
     "grade_id": "cs1",
     "locked": true,
     "points": "1",
     "solution": false
    }
   },
   "outputs": [],
   "source": [
    "car = RacingCar(\"Hamilton\", 200)\n",
    "assert car.racer == \"Hamilton\"\n",
    "assert car.max_speed == 200\n",
    "assert car.finish == -1\n",
    "\n",
    "car.racer = \"Bottas\"\n",
    "assert car.racer == \"Bottas\"\n",
    "car.racer = \"\"\n",
    "assert car.racer == \"Bottas\"\n",
    "car.racer = 21\n",
    "assert car.racer == \"Bottas\"\n",
    "\n",
    "car.speed = 10\n",
    "assert car.speed == 10\n",
    "car.speed = 0\n",
    "assert car.speed == 0\n",
    "car.speed = -10\n",
    "assert car.speed == 0\n",
    "car.speed = car.max_speed\n",
    "assert car.speed == car.max_speed\n",
    "car.speed = car.max_speed + 10\n",
    "assert car.speed == car.max_speed\n",
    "\n",
    "car.pos = 10\n",
    "assert car.pos == 10\n",
    "car.pos = -10\n",
    "assert car.pos == 10\n",
    "car.pos = 0\n",
    "assert car.pos == 0\n",
    "\n",
    "assert not car.is_finished\n",
    "car.finish = 20\n",
    "car.pos = 10\n",
    "assert not car.is_finished\n",
    "car.pos = 20\n",
    "assert car.is_finished\n",
    "car.pos = 22\n",
    "assert car.is_finished\n",
    "\n",
    "car.start(50, 200)\n",
    "assert car.pos == 0\n",
    "assert car.speed == 50\n",
    "assert car.finish == 200\n",
    "\n",
    "car.race(0)\n",
    "assert car.speed == 50\n",
    "assert car.pos == 50\n",
    "assert not car.is_finished\n",
    "\n",
    "car.race(10)\n",
    "assert car.speed == 60\n",
    "assert car.pos == 110\n",
    "assert not car.is_finished\n",
    "\n",
    "car.race(-10)\n",
    "assert car.speed == 50\n",
    "assert car.pos == 160\n",
    "assert not car.is_finished\n",
    "\n",
    "car.race(0)\n",
    "assert car.is_finished"
   ]
  },
  {
   "cell_type": "markdown",
   "metadata": {
    "deletable": false,
    "editable": false,
    "nbgrader": {
     "grade": false,
     "locked": true,
     "solution": false
    }
   },
   "source": [
    "**CS2.** Implement a `RacingGame` class that plays car racing using Python `random` module to simulate car's acceleration. The class has the following attribute(s):\n",
    "- `car_list` which is a dictionary containing all the `RacingCar` objects where the keys are the racer's name.\n",
    "\n",
    "The class has the following properties:\n",
    "- `winners` which list the winners from the first to the last. If there is no winner, it should return `None`.\n",
    "\n",
    "Upon instantiation, it should initalize the game with some **random seed**. This is to ensure that the behaviour can be predicted.\n",
    "\n",
    "It has the following methods:\n",
    "- `add_car(name, max_speed)` which creates a new `RacingCar` object and add it into the `car_list`. \n",
    "- `start(finish_distance)` which uses the `random` module to assign different initial speeds (0 to 50) to each of the racing car and set the same finish distance for all cars.\n",
    "- `play(finish)` which contains the main loop of the game that calls the `RacingCar`'s method `race()` until all cars reach the finish line. It takes in an argument for the finish distance.\n",
    "\n"
   ]
  },
  {
   "cell_type": "code",
   "execution_count": 25,
   "metadata": {
    "nbgrader": {
     "grade": false,
     "locked": false,
     "solution": false
    }
   },
   "outputs": [],
   "source": [
    "import random\n",
    "\n",
    "class RacingGame:\n",
    "    \n",
    "    def __init__(self, seed):\n",
    "        self.car_list = {}\n",
    "        self._winners = []\n",
    "        random.seed(seed)\n",
    "        \n",
    "    @property\n",
    "    def winners(self):\n",
    "        if len(self._winners) == 0:\n",
    "            return None\n",
    "        else:\n",
    "            return self._winners\n",
    "        \n",
    "    def add_car(self, name, speed):\n",
    "        car = RacingCar(name, speed)\n",
    "        self.car_list[car.racer] = car\n",
    "        \n",
    "        \n",
    "    def start(self, finish):\n",
    "        for car in self.car_list.values():\n",
    "            init_speed = random.randint(0, 50)\n",
    "            car.start(init_speed, finish)\n",
    "    \n",
    "    def play(self, finish):\n",
    "        self.start(finish)\n",
    "        finished_car = 0\n",
    "        while True:\n",
    "            for racer, car in self.car_list.items():\n",
    "                if not car.is_finished:\n",
    "                    acc = random.randint(-10, 20)\n",
    "                    car.race(acc)\n",
    "                    # you can comment out the line below to check the output\n",
    "                    # print(car)\n",
    "                    if car.is_finished:\n",
    "                        self._winners.append(racer)\n",
    "                        finished_car +=1\n",
    "            if finished_car == len(self.car_list):\n",
    "                break\n",
    "            "
   ]
  },
  {
   "cell_type": "code",
   "execution_count": 26,
   "metadata": {
    "deletable": false,
    "editable": false,
    "nbgrader": {
     "grade": true,
     "grade_id": "cs21",
     "locked": true,
     "points": "1",
     "solution": false
    }
   },
   "outputs": [],
   "source": [
    "game = RacingGame(100)\n",
    "assert game.car_list == {}\n",
    "assert game.winners == None\n",
    "\n",
    "game.add_car(\"Hamilton\", 250)\n",
    "assert len(game.car_list) == 1\n",
    "assert game.car_list[\"Hamilton\"].racer == \"Hamilton\"\n",
    "\n",
    "game.add_car(\"Vettel\", 200)\n",
    "assert len(game.car_list) == 2\n",
    "assert game.car_list[\"Vettel\"].racer == \"Vettel\"\n",
    "\n",
    "game.start(200)\n",
    "assert [ car.pos for car in game.car_list.values()] == [0, 0]\n",
    "assert [ car.speed for car in game.car_list.values()] == [9, 29]\n",
    "assert [ car.finish for car in game.car_list.values()] == [200, 200]\n",
    "\n",
    "game.play(200)\n",
    "assert game.winners == [\"Vettel\", \"Hamilton\"]\n",
    "\n",
    "game = RacingGame(200)\n",
    "game.add_car(\"Hamilton\", 250)\n",
    "game.add_car(\"Vettel\", 200)\n",
    "game.play(200)\n",
    "assert game.winners == [\"Hamilton\", \"Vettel\"]"
   ]
  },
  {
   "cell_type": "code",
   "execution_count": 27,
   "metadata": {
    "deletable": false,
    "editable": false,
    "nbgrader": {
     "grade": true,
     "grade_id": "cs22",
     "locked": true,
     "points": "1",
     "solution": false
    }
   },
   "outputs": [],
   "source": [
    "###\n",
    "### AUTOGRADER TEST - DO NOT REMOVE\n",
    "###\n"
   ]
  },
  {
   "cell_type": "markdown",
   "metadata": {
    "colab_type": "text",
    "deletable": false,
    "editable": false,
    "id": "x7_z1uFVrtoN",
    "nbgrader": {
     "grade": false,
     "locked": true,
     "solution": false
    }
   },
   "source": [
    "**CS3.** Implement the `Stack` abstract data type using a Class. You can use `list` Python data type as its internal data structure. Name this `list` as `items`.\n",
    "\n",
    "The class should have the following interface:\n",
    "- `__init__()` to initialize an empty list for the stack to store the items.\n",
    "- `push(item)` which stores an Integer into the top of the stack.\n",
    "- `pop()` which returns and removes the top element of the stack. The return value is optional as it may return `None` if there are no more elements in the stack.\n",
    "- `peek()` which returns the top element of the stack. If the stack is empty, it returns `None`.\n",
    "\n",
    "The class should have the following properties:\n",
    "- `is_empty` is a computed property which returns either `true` or `false` depending whether the stack is empty or not.\n",
    "- `size` is a computed property which returns the number of items in the stack.\n"
   ]
  },
  {
   "cell_type": "code",
   "execution_count": 28,
   "metadata": {
    "colab": [],
    "colab_type": "code",
    "id": "qyEcgTAXre4j"
   },
   "outputs": [],
   "source": [
    "class Stack:\n",
    "    def __init__(self):\n",
    "        self.__items = []\n",
    "        \n",
    "    def push(self, item):\n",
    "        self.__items.append(item)\n",
    "\n",
    "    def pop(self):\n",
    "        if not self.is_empty:\n",
    "            return self.__items.pop()\n",
    "\n",
    "    def peek(self):\n",
    "        if not self.is_empty:\n",
    "            return self.__items[-1]\n",
    "\n",
    "    @property\n",
    "    def is_empty(self):\n",
    "        return self.__items == []\n",
    "\n",
    "    @property\n",
    "    def size(self):\n",
    "        return len(self.__items)\n",
    "\n"
   ]
  },
  {
   "cell_type": "code",
   "execution_count": 29,
   "metadata": {
    "colab": [],
    "colab_type": "code",
    "deletable": false,
    "editable": false,
    "id": "3FVPl3zWskyg",
    "nbgrader": {
     "grade": true,
     "grade_id": "cs31",
     "locked": true,
     "points": "1",
     "solution": false
    }
   },
   "outputs": [],
   "source": [
    "s1 = Stack()\n",
    "s1.push(2)\n",
    "assert not s1.is_empty\n",
    "assert s1.pop() == 2\n",
    "assert s1.is_empty\n",
    "assert s1.pop() == None\n",
    "s1.push(1)\n",
    "s1.push(2)\n",
    "s1.push(3)\n",
    "assert not s1.is_empty\n",
    "assert s1._Stack__items == [1, 2, 3]\n",
    "assert s1.peek() == 3\n",
    "assert s1.size == 3"
   ]
  },
  {
   "cell_type": "code",
   "execution_count": 30,
   "metadata": {
    "deletable": false,
    "editable": false,
    "nbgrader": {
     "grade": true,
     "grade_id": "cs32",
     "locked": true,
     "points": "1",
     "solution": false
    }
   },
   "outputs": [],
   "source": [
    "###\n",
    "### AUTOGRADER TEST - DO NOT REMOVE\n",
    "###\n"
   ]
  },
  {
   "cell_type": "markdown",
   "metadata": {
    "colab": [],
    "colab_type": "code",
    "deletable": false,
    "editable": false,
    "id": "zi2aM5JZOZN0",
    "nbgrader": {
     "grade": false,
     "locked": true,
     "solution": false
    }
   },
   "source": [
    "**CS4.** Write a class called `EvaluatePostfix` that evaluates postfix notation implemented using Stack data structure. Postfix notation is a way of writing expressions without parenthesis. For example, the expression `(1+2)*3` would be written as `1 2 + 3 *`. The class `EvaluatePostfix` has the following methods:\n",
    "- `input(inp)`: which pushes the input one at a time. For example, to create a postfix notation `1 2 + 3 *`, we can call this method repetitively, e.g. `e.input('1'); e.input('2'); e.input('+'); e.input('3'); e.input('*')`. Notice that the input is of String data type. \n",
    "- `evaluate()`: which returns the output of the expression.\n",
    "\n",
    "Postfix notation is evaluated using a Stack. The input streams from `input()` are stored in a Queue, which we will implement using Python's List. Note: If you have finished your homework on Queue, you can replace this part with your Queue. \n",
    "\n",
    "If the output of the Queue is a number, the item is pushed onto the stack. If it is an operator, we will apply the operator to the top two items in the stacks, pushing the result back onto the stack. "
   ]
  },
  {
   "cell_type": "code",
   "execution_count": 31,
   "metadata": {},
   "outputs": [],
   "source": [
    "class EvaluatePostfix:\n",
    "\n",
    "    operands = \"0123456789\"\n",
    "    operators = \"+-*/\"\n",
    "\n",
    "    def __init__(self):\n",
    "        self.expression = []\n",
    "        self.stack = Stack()\n",
    "\n",
    "    def input(self, item):\n",
    "        self.expression.insert(0, item)\n",
    "        \n",
    "    def operator(self, left, right, op):\n",
    "        if op == \"+\":\n",
    "            return left + right\n",
    "        elif op == \"-\":\n",
    "            return left - right\n",
    "        elif op == \"*\":\n",
    "            return left * right\n",
    "        elif op == \"/\":\n",
    "            return left / right\n",
    "\n",
    "    def evaluate(self):\n",
    "        while self.expression != []:\n",
    "            item = self.expression.pop()\n",
    "            if item in self.operators and len(item) == 1:\n",
    "                right = self.stack.pop()\n",
    "                left = self.stack.pop()\n",
    "                result = self.operator(left, right, item)\n",
    "                self.stack.push(result)\n",
    "            else:\n",
    "                self.stack.push(int(item))\n",
    "        return self.stack.pop()\n",
    "            "
   ]
  },
  {
   "cell_type": "code",
   "execution_count": 32,
   "metadata": {
    "deletable": false,
    "editable": false,
    "nbgrader": {
     "grade": true,
     "grade_id": "cs41",
     "locked": true,
     "points": "1",
     "solution": false
    }
   },
   "outputs": [],
   "source": [
    "pe = EvaluatePostfix()\n",
    "pe.input(\"2\")\n",
    "pe.input(\"3\")\n",
    "pe.input(\"+\")\n",
    "assert pe.evaluate()== 5\n",
    "\n",
    "pe.input(\"2\")\n",
    "pe.input(\"3\")\n",
    "pe.input(\"+\")\n",
    "pe.input(\"6\")\n",
    "pe.input(\"-\")\n",
    "assert pe.evaluate()== -1"
   ]
  },
  {
   "cell_type": "code",
   "execution_count": 33,
   "metadata": {
    "deletable": false,
    "editable": false,
    "nbgrader": {
     "grade": true,
     "grade_id": "cs42",
     "locked": true,
     "points": "1",
     "solution": false
    }
   },
   "outputs": [],
   "source": [
    "###\n",
    "### AUTOGRADER TEST - DO NOT REMOVE\n",
    "###\n"
   ]
  },
  {
   "cell_type": "markdown",
   "metadata": {
    "deletable": false,
    "editable": false,
    "nbgrader": {
     "grade": false,
     "locked": true,
     "solution": false
    }
   },
   "source": [
    "**CS5.** Implement a Queue abstract data structure using two Stacks instead of Python's list. For this double-stack implementation, the Queue has a *left* Stack and a *right* Stack. The enqueue and dequeue operations work as follows:\n",
    "- enqueue: This operation just pushes the new item into the *right* Stack.\n",
    "- dequeue: This operation is done as follows:\n",
    "    - if the *left* Stack is empty: create a new *left* Stack which is the reverse of the items in the *right* Stack. You should then empty the *right* stack.\n",
    "    - if the *left* Stack is not empty: pop from the *left* Stack."
   ]
  },
  {
   "cell_type": "code",
   "execution_count": 34,
   "metadata": {},
   "outputs": [],
   "source": [
    "#Copy the Cohort implementation\n",
    "\n",
    "class Stack:\n",
    "    def __init__(self):\n",
    "        self.__items = []\n",
    "        \n",
    "    def push(self, item):\n",
    "        self.__items.append(item)\n",
    "\n",
    "    def pop(self):\n",
    "        if not self.is_empty:\n",
    "            return self.__items.pop()\n",
    "\n",
    "    def peek(self):\n",
    "        if not self.is_empty:\n",
    "            return self.__items[-1]\n",
    "\n",
    "    @property\n",
    "    def is_empty(self):\n",
    "        return self.__items == []\n",
    "\n",
    "    @property\n",
    "    def size(self):\n",
    "        return len(self.__items)"
   ]
  },
  {
   "cell_type": "code",
   "execution_count": 35,
   "metadata": {},
   "outputs": [],
   "source": [
    "class Queue:\n",
    "    def __init__(self):\n",
    "        self.left_stack = Stack()\n",
    "        self.right_stack = Stack()\n",
    "    \n",
    "    def enqueue(self, item):\n",
    "        self.right_stack.push(item)\n",
    "    \n",
    "    def right_to_left (self):\n",
    "        while not self.right_stack.is_empty:\n",
    "            item = self.right_stack.pop()\n",
    "            self.left_stack.push(item)\n",
    "    \n",
    "    def dequeue(self):\n",
    "        if self.left_stack.is_empty:\n",
    "            self.right_to_left()\n",
    "        return self.left_stack.pop()\n",
    "    \n",
    "    def peek(self):\n",
    "        if self.left_stack.is_empty:\n",
    "            self.right_to_left()\n",
    "        return self.left_stack.peek()\n",
    "    \n",
    "    @property\n",
    "    def is_empty(self):\n",
    "        return self.left_stack.is_empty and self.right_stack.is_empty\n",
    "    \n",
    "    @property\n",
    "    def size(self):\n",
    "        return self.left_stack.size + self.right_stack.size\n"
   ]
  },
  {
   "cell_type": "code",
   "execution_count": 36,
   "metadata": {
    "deletable": false,
    "editable": false,
    "nbgrader": {
     "grade": true,
     "grade_id": "cs51",
     "locked": true,
     "points": "1",
     "solution": false
    }
   },
   "outputs": [],
   "source": [
    "q1 = Queue()\n",
    "q1.enqueue(2)\n",
    "assert not q1.is_empty \n",
    "assert q1.size == 1\n",
    "assert q1.dequeue() == 2\n",
    "assert q1.is_empty\n",
    "q1.enqueue(1)\n",
    "q1.enqueue(2)\n",
    "q1.enqueue(3)\n",
    "assert q1.size == 3\n",
    "assert q1.peek() == 1\n",
    "assert q1.dequeue() == 1\n",
    "assert q1.dequeue() == 2\n",
    "assert q1.dequeue() == 3\n",
    "assert q1.peek() == None"
   ]
  },
  {
   "cell_type": "code",
   "execution_count": 37,
   "metadata": {
    "deletable": false,
    "editable": false,
    "nbgrader": {
     "grade": true,
     "grade_id": "cs52",
     "locked": true,
     "points": "1",
     "solution": false
    }
   },
   "outputs": [],
   "source": [
    "###\n",
    "### AUTOGRADER TEST - DO NOT REMOVE\n",
    "###\n"
   ]
  },
  {
   "cell_type": "markdown",
   "metadata": {
    "deletable": false,
    "editable": false,
    "nbgrader": {
     "grade": false,
     "locked": true,
     "solution": false
    }
   },
   "source": [
    "**CS6.** **You need to complete CS5 before attempting this question.** Compute the computational time to do enqueue operation for a list based Queue implementation versus a double-stack based Queue implementation. Which one is faster? Why? There are a few parts you need to fill up.\n",
    "- `enqueue(q, array)`, which is a function to enqueue every element in the array to the Queue `q`.\n",
    "- `dequeue(q, array)`, which is a function to dequeue every element in the array from the Queue `q`. *Hint: you don't need the argument `array` but it is put here so that we can make use of the `run_function(f, x, y)`*.\n",
    "\n",
    "You also need to replace some of the `None` in the code to compute the computational time inside the for-loop.\n",
    "\n",
    "First you need to paste the Queue implementation using list-based."
   ]
  },
  {
   "cell_type": "code",
   "execution_count": 38,
   "metadata": {},
   "outputs": [],
   "source": [
    "class Queue:\n",
    "    def __init__(self):\n",
    "        self.__items = []\n",
    "    \n",
    "    def enqueue(self, item):\n",
    "        self.__items.append(item)\n",
    "    \n",
    "    def dequeue(self):\n",
    "        if self.__items == []:\n",
    "            return None\n",
    "        else:\n",
    "            return self.__items.pop(0)\n",
    "    \n",
    "    def peek(self):\n",
    "        return self.__items[0]\n",
    "    \n",
    "    @property\n",
    "    def is_empty(self):\n",
    "        return self.__items == []\n",
    "    \n",
    "    @property\n",
    "    def size(self):\n",
    "        return len(self.__items)"
   ]
  },
  {
   "cell_type": "code",
   "execution_count": 39,
   "metadata": {},
   "outputs": [
    {
     "name": "stdout",
     "output_type": "stream",
     "text": [
      "[6.198883056640625e-06, 1.52587890625e-05, 0.00013589859008789062, 0.0012710094451904297, 0.014780998229980469]\n",
      "[8.106231689453125e-06, 2.8133392333984375e-05, 0.00030493736267089844, 0.13085293769836426, 13.581891059875488]\n"
     ]
    }
   ],
   "source": [
    "import time\n",
    "import random\n",
    "\n",
    "def run_function(f, x, y):\n",
    "    start = time.time()\n",
    "    f(x, y)\n",
    "    end = time.time()\n",
    "    return end-start\n",
    "\n",
    "def enqueue(q, array):\n",
    "    for i in array:\n",
    "        q.enqueue(i)\n",
    "\n",
    "def dequeue(q, array):\n",
    "    while not q.is_empty:\n",
    "        q.dequeue()\n",
    "\n",
    "time_enqueue_list = []\n",
    "time_dequeue_list = []\n",
    "\n",
    "# set the maximum power for 10^power number of inputs\n",
    "maxpower = 5\n",
    "for n in range(1, maxpower + 1):\n",
    "    # create array for 10^1, 10^2, 10^3, etc \n",
    "    # use seed = 100\n",
    "    array = list(range(0, 10**n))\n",
    "    \n",
    "    # create queue\n",
    "    queue = Queue()\n",
    "    \n",
    "    # call run_function for enqueue\n",
    "    result_enqueue = run_function(enqueue, queue, array)\n",
    "    \n",
    "    # call run_function for dequeue\n",
    "    result_dequeue = run_function(dequeue, queue, array)\n",
    "    \n",
    "    ###\n",
    "    ### YOUR CODE HERE\n",
    "    ###\n",
    "    \n",
    "    time_enqueue_list.append(result_enqueue)\n",
    "    time_dequeue_list.append(result_dequeue)\n",
    "\n",
    "print(time_enqueue_list)\n",
    "print(time_dequeue_list)"
   ]
  },
  {
   "cell_type": "markdown",
   "metadata": {
    "deletable": false,
    "editable": false,
    "nbgrader": {
     "grade": false,
     "locked": true,
     "solution": false
    }
   },
   "source": [
    "Paste the code for the Queue using double Stack implementation."
   ]
  },
  {
   "cell_type": "code",
   "execution_count": 40,
   "metadata": {},
   "outputs": [],
   "source": [
    "class Queue:\n",
    "    def __init__(self):\n",
    "        self.left_stack = Stack()\n",
    "        self.right_stack = Stack()\n",
    "    \n",
    "    def enqueue(self, item):\n",
    "        self.right_stack.push(item)\n",
    "    \n",
    "    def right_to_left (self):\n",
    "        while not self.right_stack.is_empty:\n",
    "            item = self.right_stack.pop()\n",
    "            self.left_stack.push(item)\n",
    "    \n",
    "    def dequeue(self):\n",
    "        if self.left_stack.is_empty:\n",
    "            self.right_to_left()\n",
    "        return self.left_stack.pop()\n",
    "    \n",
    "    def peek(self):\n",
    "        if self.left_stack.is_empty:\n",
    "            self.right_to_left()\n",
    "        return self.left_stack.peek()\n",
    "    \n",
    "    @property\n",
    "    def is_empty(self):\n",
    "        return self.left_stack.is_empty and self.right_stack.is_empty\n",
    "    \n",
    "    @property\n",
    "    def size(self):\n",
    "        return self.left_stack.size + self.right_stack.size\n",
    "\n"
   ]
  },
  {
   "cell_type": "code",
   "execution_count": 41,
   "metadata": {},
   "outputs": [
    {
     "name": "stdout",
     "output_type": "stream",
     "text": [
      "[1.6927719116210938e-05, 2.4080276489257812e-05, 0.0006780624389648438, 0.002811908721923828, 0.024688720703125]\n",
      "[1.9311904907226562e-05, 0.00011801719665527344, 0.0012040138244628906, 0.012275934219360352, 0.12127995491027832]\n"
     ]
    }
   ],
   "source": [
    "import time\n",
    "import random\n",
    "\n",
    "def run_function(f, x, y):\n",
    "    start = time.time()\n",
    "    f(x, y)\n",
    "    end = time.time()\n",
    "    return end-start\n",
    "\n",
    "\n",
    "def enqueue(q, array):\n",
    "    for i in array:\n",
    "        q.enqueue(i)\n",
    "\n",
    "def dequeue(q, array):\n",
    "    while not q.is_empty:\n",
    "        q.dequeue()\n",
    "\n",
    "time_enqueue_stack = []\n",
    "time_dequeue_stack = []\n",
    "\n",
    "# set the maximum power for 10^power number of inputs\n",
    "maxpower = 5\n",
    "for n in range(1, maxpower + 1):\n",
    "    # create array for 10^1, 10^2, 10^3, etc \n",
    "    # use seed = 100\n",
    "    array = list(range(0, 10**n))\n",
    "    \n",
    "    # create queue\n",
    "    queue = Queue()\n",
    "    \n",
    "    # call run_function for enqueue\n",
    "    result_enqueue = run_function(enqueue, queue, array)\n",
    "    \n",
    "    # call run_function for dequeue\n",
    "    result_dequeue = run_function(dequeue, queue, array)\n",
    "    \n",
    "    ###\n",
    "    ### YOUR CODE HERE\n",
    "    ###\n",
    "    \n",
    "    time_enqueue_stack.append(result_enqueue)\n",
    "    time_dequeue_stack.append(result_dequeue)\n",
    "\n",
    "\n",
    "print(time_enqueue_stack)\n",
    "print(time_dequeue_stack)"
   ]
  },
  {
   "cell_type": "code",
   "execution_count": 42,
   "metadata": {
    "deletable": false,
    "editable": false,
    "nbgrader": {
     "grade": false,
     "locked": true,
     "solution": false
    }
   },
   "outputs": [],
   "source": [
    "import matplotlib.pyplot as plt"
   ]
  },
  {
   "cell_type": "code",
   "execution_count": 43,
   "metadata": {
    "deletable": false,
    "editable": false,
    "nbgrader": {
     "grade": false,
     "locked": true,
     "solution": false
    }
   },
   "outputs": [
    {
     "data": {
      "text/plain": [
       "Text(0.5, 1.0, 'Enqueue Time')"
      ]
     },
     "execution_count": 43,
     "metadata": {},
     "output_type": "execute_result"
    },
    {
     "data": {
      "image/png": "[encoded data removed]",
      "text/plain": [
       "<Figure size 432x288 with 1 Axes>"
      ]
     },
     "metadata": {
      "needs_background": "light"
     },
     "output_type": "display_data"
    }
   ],
   "source": [
    "plt.plot(time_enqueue_list,'o-')\n",
    "plt.plot(time_enqueue_stack,'x-')\n",
    "plt.ylabel(\"Time (s)\")\n",
    "plt.xlabel(\"order of input size, 10^n\")\n",
    "plt.title(\"Enqueue Time\")"
   ]
  },
  {
   "cell_type": "code",
   "execution_count": 45,
   "metadata": {},
   "outputs": [
    {
     "data": {
      "text/plain": [
       "Text(0.5, 1.0, 'Enqueue Time')"
      ]
     },
     "execution_count": 45,
     "metadata": {},
     "output_type": "execute_result"
    },
    {
     "data": {
      "image/png": "[encoded data removed]",
      "text/plain": [
       "<Figure size 432x288 with 1 Axes>"
      ]
     },
     "metadata": {
      "needs_background": "light"
     },
     "output_type": "display_data"
    }
   ],
   "source": [
    "plt.plot(time_dequeue_list,'o-')\n",
    "plt.plot(time_dequeue_stack,'x-')\n",
    "plt.ylabel(\"Time (s)\")\n",
    "plt.xlabel(\"order of input size, 10^n\")\n",
    "plt.title(\"Enqueue Time\")"
   ]
  },
  {
   "cell_type": "code",
   "execution_count": null,
   "metadata": {},
   "outputs": [],
   "source": [
    "class Queue:\n",
    "    def __init__(self):\n",
    "        self.__items = []\n",
    "    \n",
    "    def enqueue(self, item):\n",
    "        self.__items.append(item)\n",
    "    \n",
    "    def dequeue(self):\n",
    "        if self.__items == []:\n",
    "            return None\n",
    "        else:\n",
    "            return self.__items.pop(0)\n",
    "    \n",
    "    def peek(self):\n",
    "        return self.__items[0]\n",
    "    \n",
    "    @property\n",
    "    def is_empty(self):\n",
    "        return self.__items == []\n",
    "    \n",
    "    @property\n",
    "    def size(self):\n",
    "        return len(self.__items)"
   ]
  }
 ],
 "metadata": {
  "colab": {
   "collapsed_sections": [],
   "name": "Week04_ProblemSet.ipynb",
   "provenance": []
  },
  "kernelspec": {
   "display_name": "Python 3",
   "language": "python",
   "name": "python3"
  },
  "language_info": {
   "codemirror_mode": {
    "name": "ipython",
    "version": 3
   },
   "file_extension": ".py",
   "mimetype": "text/x-python",
   "name": "python",
   "nbconvert_exporter": "python",
   "pygments_lexer": "ipython3",
   "version": "3.8.3"
  }
 },
 "nbformat": 4,
 "nbformat_minor": 4
}
