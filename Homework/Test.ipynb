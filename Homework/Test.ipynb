{
 "cells": [
  {
   "cell_type": "code",
   "execution_count": 16,
   "metadata": {},
   "outputs": [
    {
     "name": "stdout",
     "output_type": "stream",
     "text": [
      "['n', 'o', ' ', 'x', ' ', 'i', 'n', ' ', 'n', 'i', 'x', 'o', 'n']\n"
     ]
    }
   ],
   "source": [
    "s = \"no x in nixon\"\n",
    "characters = list(s)\n",
    "print (characters)"
   ]
  },
  {
   "cell_type": "code",
   "execution_count": 18,
   "metadata": {},
   "outputs": [
    {
     "name": "stdout",
     "output_type": "stream",
     "text": [
      "True\n",
      "False\n",
      "True\n",
      "True\n",
      "False\n",
      "False\n",
      "False\n"
     ]
    }
   ],
   "source": [
    "def palindrome(s):\n",
    "    c = list(s)\n",
    "    for i in range (len(c)):\n",
    "        if c[i] != c[-i - 1]:\n",
    "            return False\n",
    "        \n",
    "    return True\n",
    "\n",
    "print (palindrome(\"rotator\"))\n",
    "print (palindrome(\"table\"))\n",
    "print (palindrome(\"radar\"))\n",
    "print (palindrome(\"madam\"))\n",
    "print (palindrome(\"watch\"))\n",
    "print (palindrome(\"bottle\"))\n",
    "print (palindrome(\"no x in nixon\"))"
   ]
  },
  {
   "cell_type": "code",
   "execution_count": 14,
   "metadata": {},
   "outputs": [
    {
     "name": "stdout",
     "output_type": "stream",
     "text": [
      "n is 12 new_n is 1    array is [3, 10, 8, 47, 1, 0, -39, 8, 4, 7, 6, -5] inner is 1\n",
      "n is 12 new_n is 2    array is [3, 8, 10, 47, 1, 0, -39, 8, 4, 7, 6, -5] inner is 2\n",
      "n is 12 new_n is 4    array is [3, 8, 10, 1, 47, 0, -39, 8, 4, 7, 6, -5] inner is 4\n",
      "n is 12 new_n is 5    array is [3, 8, 10, 1, 0, 47, -39, 8, 4, 7, 6, -5] inner is 5\n",
      "n is 12 new_n is 6    array is [3, 8, 10, 1, 0, -39, 47, 8, 4, 7, 6, -5] inner is 6\n",
      "n is 12 new_n is 7    array is [3, 8, 10, 1, 0, -39, 8, 47, 4, 7, 6, -5] inner is 7\n",
      "n is 12 new_n is 8    array is [3, 8, 10, 1, 0, -39, 8, 4, 47, 7, 6, -5] inner is 8\n",
      "n is 12 new_n is 9    array is [3, 8, 10, 1, 0, -39, 8, 4, 7, 47, 6, -5] inner is 9\n",
      "n is 12 new_n is 10    array is [3, 8, 10, 1, 0, -39, 8, 4, 7, 6, 47, -5] inner is 10\n",
      "n is 12 new_n is 11    array is [3, 8, 10, 1, 0, -39, 8, 4, 7, 6, -5, 47] inner is 11\n",
      "n is 11 new_n is 3    array is [3, 8, 1, 10, 0, -39, 8, 4, 7, 6, -5, 47] inner is 3\n",
      "n is 11 new_n is 4    array is [3, 8, 1, 0, 10, -39, 8, 4, 7, 6, -5, 47] inner is 4\n",
      "n is 11 new_n is 5    array is [3, 8, 1, 0, -39, 10, 8, 4, 7, 6, -5, 47] inner is 5\n",
      "n is 11 new_n is 6    array is [3, 8, 1, 0, -39, 8, 10, 4, 7, 6, -5, 47] inner is 6\n",
      "n is 11 new_n is 7    array is [3, 8, 1, 0, -39, 8, 4, 10, 7, 6, -5, 47] inner is 7\n",
      "n is 11 new_n is 8    array is [3, 8, 1, 0, -39, 8, 4, 7, 10, 6, -5, 47] inner is 8\n",
      "n is 11 new_n is 9    array is [3, 8, 1, 0, -39, 8, 4, 7, 6, 10, -5, 47] inner is 9\n",
      "n is 11 new_n is 10    array is [3, 8, 1, 0, -39, 8, 4, 7, 6, -5, 10, 47] inner is 10\n",
      "n is 10 new_n is 2    array is [3, 1, 8, 0, -39, 8, 4, 7, 6, -5, 10, 47] inner is 2\n",
      "n is 10 new_n is 3    array is [3, 1, 0, 8, -39, 8, 4, 7, 6, -5, 10, 47] inner is 3\n",
      "n is 10 new_n is 4    array is [3, 1, 0, -39, 8, 8, 4, 7, 6, -5, 10, 47] inner is 4\n",
      "n is 10 new_n is 6    array is [3, 1, 0, -39, 8, 4, 8, 7, 6, -5, 10, 47] inner is 6\n",
      "n is 10 new_n is 7    array is [3, 1, 0, -39, 8, 4, 7, 8, 6, -5, 10, 47] inner is 7\n",
      "n is 10 new_n is 8    array is [3, 1, 0, -39, 8, 4, 7, 6, 8, -5, 10, 47] inner is 8\n",
      "n is 10 new_n is 9    array is [3, 1, 0, -39, 8, 4, 7, 6, -5, 8, 10, 47] inner is 9\n",
      "n is 9 new_n is 1    array is [1, 3, 0, -39, 8, 4, 7, 6, -5, 8, 10, 47] inner is 1\n",
      "n is 9 new_n is 2    array is [1, 0, 3, -39, 8, 4, 7, 6, -5, 8, 10, 47] inner is 2\n",
      "n is 9 new_n is 3    array is [1, 0, -39, 3, 8, 4, 7, 6, -5, 8, 10, 47] inner is 3\n",
      "n is 9 new_n is 5    array is [1, 0, -39, 3, 4, 8, 7, 6, -5, 8, 10, 47] inner is 5\n",
      "n is 9 new_n is 6    array is [1, 0, -39, 3, 4, 7, 8, 6, -5, 8, 10, 47] inner is 6\n",
      "n is 9 new_n is 7    array is [1, 0, -39, 3, 4, 7, 6, 8, -5, 8, 10, 47] inner is 7\n",
      "n is 9 new_n is 8    array is [1, 0, -39, 3, 4, 7, 6, -5, 8, 8, 10, 47] inner is 8\n",
      "n is 8 new_n is 1    array is [0, 1, -39, 3, 4, 7, 6, -5, 8, 8, 10, 47] inner is 1\n",
      "n is 8 new_n is 2    array is [0, -39, 1, 3, 4, 7, 6, -5, 8, 8, 10, 47] inner is 2\n",
      "n is 8 new_n is 6    array is [0, -39, 1, 3, 4, 6, 7, -5, 8, 8, 10, 47] inner is 6\n",
      "n is 8 new_n is 7    array is [0, -39, 1, 3, 4, 6, -5, 7, 8, 8, 10, 47] inner is 7\n",
      "n is 7 new_n is 1    array is [-39, 0, 1, 3, 4, 6, -5, 7, 8, 8, 10, 47] inner is 1\n",
      "n is 7 new_n is 6    array is [-39, 0, 1, 3, 4, -5, 6, 7, 8, 8, 10, 47] inner is 6\n",
      "n is 6 new_n is 5    array is [-39, 0, 1, 3, -5, 4, 6, 7, 8, 8, 10, 47] inner is 5\n",
      "n is 5 new_n is 4    array is [-39, 0, 1, -5, 3, 4, 6, 7, 8, 8, 10, 47] inner is 4\n",
      "n is 4 new_n is 3    array is [-39, 0, -5, 1, 3, 4, 6, 7, 8, 8, 10, 47] inner is 3\n",
      "n is 3 new_n is 2    array is [-39, -5, 0, 1, 3, 4, 6, 7, 8, 8, 10, 47] inner is 2\n",
      "[-39, -5, 0, 1, 3, 4, 6, 7, 8, 8, 10, 47] 66\n"
     ]
    }
   ],
   "source": [
    "def bubble_sort(array):\n",
    "    count = 0\n",
    "    n = len(array)\n",
    "    swapped = True\n",
    "    while swapped == True:\n",
    "        swapped = False\n",
    "        new_n = 0\n",
    "        for inner in range (1, n):\n",
    "            first = array[inner - 1]\n",
    "            second = array[inner]\n",
    "            count += 1\n",
    "            if first > second:\n",
    "                array[inner - 1], array[inner] =  array[inner], array[inner - 1]\n",
    "                swapped = True\n",
    "                new_n = inner\n",
    "                print (\"n is\", n, \"new_n is\", new_n, \"   array is\", array, \"inner is\", inner)\n",
    "        n = new_n\n",
    "    return count\n",
    "\n",
    "array = [10,3,8,47,1,0,-39,8,4,7,6,-5]\n",
    "count = bubble_sort(array)\n",
    "print(array, count)"
   ]
  },
  {
   "cell_type": "code",
   "execution_count": 1,
   "metadata": {},
   "outputs": [],
   "source": [
    "def heapsort(array):\n",
    "    result = []\n",
    "\n",
    "    build_min_heap(array)\n",
    "    heap_end_pos = len(array)-1\n",
    "    for index in range(heap_end_pos, -1, -1):\n",
    "        array[0],array[heap_end_pos] = array[heap_end_pos], array[0]\n",
    "        heap_end_pos -= 1\n",
    "        element = array.pop(-1)\n",
    "        result.append(element)\n",
    "        min_heapify(array, 0, len(array))\n",
    "        \n",
    "    return result"
   ]
  },
  {
   "cell_type": "code",
   "execution_count": 6,
   "metadata": {},
   "outputs": [
    {
     "name": "stdout",
     "output_type": "stream",
     "text": [
      "('a', 1)\n",
      "('b', 2)\n",
      "('c', 3)\n",
      "dict_keys(['a', 'b', 'c'])\n"
     ]
    }
   ],
   "source": [
    "dd = {'a':1, 'b':2, 'c':3}\n",
    "for k in dd.items():\n",
    "    print(k)\n",
    "    \n",
    "print(dd.keys())"
   ]
  },
  {
   "cell_type": "code",
   "execution_count": null,
   "metadata": {},
   "outputs": [],
   "source": []
  }
 ],
 "metadata": {
  "kernelspec": {
   "display_name": "Python 3",
   "language": "python",
   "name": "python3"
  },
  "language_info": {
   "codemirror_mode": {
    "name": "ipython",
    "version": 3
   },
   "file_extension": ".py",
   "mimetype": "text/x-python",
   "name": "python",
   "nbconvert_exporter": "python",
   "pygments_lexer": "ipython3",
   "version": "3.8.3"
  }
 },
 "nbformat": 4,
 "nbformat_minor": 4
}
