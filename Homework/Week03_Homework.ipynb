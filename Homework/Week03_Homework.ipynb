{
 "cells": [
  {
   "cell_type": "markdown",
   "metadata": {
    "colab_type": "text",
    "deletable": false,
    "editable": false,
    "id": "acuSsZsDvgyx",
    "nbgrader": {
     "grade": false,
     "locked": true,
     "solution": false
    }
   },
   "source": [
    "# Week 3 Problem Set\n",
    "\n",
    "## Homeworks\n",
    "\n",
    "**HW1.** *Fibonaci:* Write a function to find the Fibonacci number given an index. These are the example of a the first few numbers in Fibonacci series.\n",
    "\n",
    "| Indices    | 0 | 1 | 2 | 3 | 4 | 5 | 6 | 7  | 8  | 9  |\n",
    "|------------|---|---|---|---|---|---|---|----|----|----|\n",
    "| The series | 0 | 1 | 1 | 2 | 3 | 5 | 8 | 13 | 21 | 34 |\n",
    "\n",
    "We can write that the Fibonacci number at index *i* is given by:\n",
    "\n",
    "$fibo(i) = fibo(i-1) + fibo(i-2)$\n",
    "\n",
    "User recursion for your implementation."
   ]
  },
  {
   "cell_type": "code",
   "execution_count": 9,
   "metadata": {
    "colab": [],
    "colab_type": "code",
    "id": "jxIGTY0evkDL"
   },
   "outputs": [],
   "source": [
    "def fibonacci(index):\n",
    "    if index == 0:\n",
    "        return 0\n",
    "    elif index == 1:\n",
    "        return 1\n",
    "    else:\n",
    "        return fibonacci(index - 1) + fibonacci(index - 2)\n"
   ]
  },
  {
   "cell_type": "code",
   "execution_count": 10,
   "metadata": {
    "deletable": false,
    "editable": false,
    "nbgrader": {
     "grade": true,
     "grade_id": "hw11",
     "locked": true,
     "points": "1",
     "solution": false
    }
   },
   "outputs": [],
   "source": [
    "assert fibonacci(0) == 0\n",
    "assert fibonacci(1) == 1\n",
    "assert fibonacci(3) == 2\n",
    "assert fibonacci(7) == 13\n",
    "assert fibonacci(9) == 34"
   ]
  },
  {
   "cell_type": "code",
   "execution_count": 3,
   "metadata": {
    "collapsed": true,
    "deletable": false,
    "editable": false,
    "nbgrader": {
     "grade": true,
     "grade_id": "hw12",
     "locked": true,
     "points": "1",
     "solution": false
    }
   },
   "outputs": [],
   "source": [
    "###\n",
    "### AUTOGRADER TEST - DO NOT REMOVE\n",
    "###\n"
   ]
  },
  {
   "cell_type": "markdown",
   "metadata": {
    "colab_type": "text",
    "deletable": false,
    "editable": false,
    "id": "20H_lJq1v52I",
    "nbgrader": {
     "grade": false,
     "locked": true,
     "solution": false
    }
   },
   "source": [
    "**HW2.** *Max-Heapify:* Recall the algorithm for max-heapify in restoring the *max-heap property* of a binary heap tree. In the previous implementation, we used iteration. Implement the same algorithm using recursion. "
   ]
  },
  {
   "cell_type": "code",
   "execution_count": 25,
   "metadata": {
    "colab": {
     "base_uri": "https://localhost:8080/",
     "height": 51
    },
    "colab_type": "code",
    "executionInfo": {
     "elapsed": 830,
     "status": "ok",
     "timestamp": 1573111720760,
     "user": {
      "displayName": "Oka Kurniawan",
      "photoUrl": "https://lh3.googleusercontent.com/a-/AAuE7mAnRP7A15yGfrraUO-0BiNVbNmYjI2f9jaZikjr=s64",
      "userId": "05233922875329103764"
     },
     "user_tz": -480
    },
    "id": "6z3KGhnjv7NY",
    "outputId": "66fcd4d5-777c-441e-9042-b3cc3f536d6e"
   },
   "outputs": [],
   "source": [
    "def left_of(index):\n",
    "    return (index * 2) + 1\n",
    "\n",
    "def right_of(index):\n",
    "    return (index + 1) * 2\n",
    "\n",
    "def max_heapify(array, index, heap_size):\n",
    "    left = left_of(index)\n",
    "    right = right_of(index)\n",
    "    if left > heap_size:\n",
    "        return array\n",
    "    else:\n",
    "        if right >= heap_size:\n",
    "            max_child = left\n",
    "        elif array[right] > array[left]:\n",
    "            max_child = right\n",
    "        else:\n",
    "            max_child = left\n",
    "            \n",
    "        if array[max_child] > array[index]:\n",
    "            array[max_child], array[index] = array[index], array[max_child]\n",
    "            max_heapify(array, max_child, heap_size)"
   ]
  },
  {
   "cell_type": "code",
   "execution_count": 26,
   "metadata": {
    "deletable": false,
    "editable": false,
    "nbgrader": {
     "grade": true,
     "grade_id": "hw21",
     "locked": true,
     "points": "1",
     "solution": false
    }
   },
   "outputs": [
    {
     "name": "stdout",
     "output_type": "stream",
     "text": [
      "[16, 14, 10, 8, 7, 9, 3, 2, 4, 1]\n",
      "[4, 16, 10, 14, 7, 9, 3, 2, 8, 1]\n"
     ]
    }
   ],
   "source": [
    "result = [16, 4, 10, 14, 7, 9, 3, 2, 8, 1]\n",
    "max_heapify(result, 1, len(result))\n",
    "print(result)\n",
    "assert result == [16, 14, 10, 8, 7, 9, 3, 2, 4, 1]\n",
    "result = [4, 1, 10, 14, 16, 9, 3, 2, 8, 7]\n",
    "max_heapify(result, 1, len(result))\n",
    "print(result)\n",
    "assert result == [4, 16, 10, 14, 7, 9, 3, 2, 8, 1]"
   ]
  },
  {
   "cell_type": "code",
   "execution_count": 6,
   "metadata": {
    "collapsed": true,
    "deletable": false,
    "editable": false,
    "nbgrader": {
     "grade": true,
     "grade_id": "hw22",
     "locked": true,
     "points": "1",
     "solution": false
    }
   },
   "outputs": [],
   "source": [
    "###\n",
    "### AUTOGRADER TEST - DO NOT REMOVE\n",
    "###\n"
   ]
  },
  {
   "cell_type": "markdown",
   "metadata": {
    "colab_type": "text",
    "deletable": false,
    "editable": false,
    "id": "p40-50nDxLSv",
    "nbgrader": {
     "grade": false,
     "locked": true,
     "solution": false
    }
   },
   "source": [
    "**HW3.** *String Permutation:* Write two functions to return an array of all the permutations of a string. For example, if the input is `abc`, the output should be\n",
    "\n",
    "```\n",
    "output = [\"abc\", \"acb\", \"bac\", \"bca\", \"cab\", \"cba\"]\n",
    "```\n",
    "\n",
    "The first function only has one argument which is the input string, i.e. `permutate(s)`. The second function is the recursive function with two arguments String 1 (`str1`) and and String 2 (`str2`). The first function calls the second method `permutate(\"\", s)` at the beginning. The second function should use a loop to move a character from `str2` to `str1` and recursively invokes it with a new `str1` and `str2`. "
   ]
  },
  {
   "cell_type": "code",
   "execution_count": 29,
   "metadata": {
    "colab": [],
    "colab_type": "code",
    "id": "xqgZRgR3xPrK"
   },
   "outputs": [
    {
     "ename": "SyntaxError",
     "evalue": "positional argument follows keyword argument (<ipython-input-29-b26c6adda1dc>, line 20)",
     "output_type": "error",
     "traceback": [
      "\u001b[0;36m  File \u001b[0;32m\"<ipython-input-29-b26c6adda1dc>\"\u001b[0;36m, line \u001b[0;32m20\u001b[0m\n\u001b[0;31m    result = permutate_recursive(output = [],\"\", s)\u001b[0m\n\u001b[0m                                             ^\u001b[0m\n\u001b[0;31mSyntaxError\u001b[0m\u001b[0;31m:\u001b[0m positional argument follows keyword argument\n"
     ]
    }
   ],
   "source": [
    "# def permutate(s):\n",
    "#     return permutate_recursive(\"\", s)\n",
    "    \n",
    "# def permutate_recursive(str1, str2):\n",
    "    \n",
    "#     #base case\n",
    "#     output = []\n",
    "#     n = len(str2)\n",
    "#     if n == 0:\n",
    "#         output.append(str1)\n",
    "    \n",
    "#     #recursive case\n",
    "#     for i in range(len(str2)):\n",
    "#         str1 = str1 + str2[i]\n",
    "#         str2 = str2[0:i] + str2[i+1:]\n",
    "#         permutate_recursive(str1, str2)\n",
    "#     return output\n",
    "        \n",
    "def permutate(s):\n",
    "    output = []\n",
    "    result = permutate_recursive(output,\"\", s)\n",
    "    return output\n",
    "\n",
    "def permutate_recursive(output, str1, str2):\n",
    "    n = len(str2)\n",
    "    if n == 0:\n",
    "        output.append(str1)\n",
    "        \n",
    "    for i in range(len(str2)):\n",
    "        tempStr1 = str1 + str2[i]\n",
    "        tempStr2 = str2[0:i] + str2[i+1:]\n",
    "        permutate_recursive(output, tempStr1, tempStr2)\n",
    "    return output    \n",
    "\n",
    "print(permutate(\"abc\"))\n",
    "print(permutate(\"abcd\"))\n",
    "\n",
    "# def permutate(s): #calls the second function at the beginning\n",
    "#     newS = \"\"\n",
    "#     permed = permutater(newS,s)\n",
    "#     string = \"\"\n",
    "#     outlist = []\n",
    "#     for index in range(0, len(permed), len(s)):\n",
    "#         #outlist[index] = permed[index:index + len(s)]\n",
    "#         string = string + '\"' + permed[index:index + len(s)] + '\"' + \", \"\n",
    "#     string = \"[\" + string[0:-2] + \"]\"\n",
    "#     print(string)\n",
    "#     return string\n",
    "#     #return outlist\n",
    "#     pass\n",
    "\n",
    "\n",
    "# def permutater(newS, s):\n",
    "#     TempnewS = \"\"\n",
    "#     if len(s) == 1:\n",
    "#         return newS + s\n",
    "#     else:\n",
    "#         for item in s:\n",
    "#             TempnewS = TempnewS + permutater(newS + item, s.replace(item,''))\n",
    "#         return TempnewS"
   ]
  },
  {
   "cell_type": "code",
   "execution_count": 28,
   "metadata": {
    "deletable": false,
    "editable": false,
    "nbgrader": {
     "grade": true,
     "grade_id": "hw31",
     "locked": true,
     "points": "1",
     "solution": false
    }
   },
   "outputs": [],
   "source": [
    "assert set(permutate(\"abc\"))==set([\"abc\", \"acb\", \"bac\", \"bca\", \"cab\", \"cba\"])\n",
    "assert set(permutate(\"abcd\"))==set([\"abcd\", \"abdc\", \"acbd\", \"acdb\", \"adbc\", \"adcb\", \"bacd\", \"badc\", \"bcad\", \"bcda\", \"bdac\", \"bdca\", \"cabd\", \"cadb\", \"cbad\", \"cbda\", \"cdab\", \"cdba\", \"dabc\", \"dacb\", \"dbac\", \"dbca\", \"dcab\", \"dcba\"])"
   ]
  },
  {
   "cell_type": "code",
   "execution_count": 9,
   "metadata": {
    "collapsed": true,
    "deletable": false,
    "editable": false,
    "nbgrader": {
     "grade": true,
     "grade_id": "hw32",
     "locked": true,
     "points": "1",
     "solution": false
    }
   },
   "outputs": [],
   "source": [
    "###\n",
    "### AUTOGRADER TEST - DO NOT REMOVE\n",
    "###\n"
   ]
  },
  {
   "cell_type": "markdown",
   "metadata": {
    "colab_type": "text",
    "deletable": false,
    "editable": false,
    "id": "beTE9RrB0Zo4",
    "nbgrader": {
     "grade": false,
     "locked": true,
     "solution": false
    }
   },
   "source": [
    "**HW4.** *GCD:* Implement the recursive implementation of Euclid's algorithm for Greatest Common Divisor (GCD).\n",
    "\n",
    "Hint: [Wikipedia: Greatest Common Divisor](https://en.wikipedia.org/wiki/Greatest_common_divisor#Euclid's_algorithm)"
   ]
  },
  {
   "cell_type": "code",
   "execution_count": 18,
   "metadata": {
    "colab": [],
    "colab_type": "code",
    "id": "rdcLfu6i0amV",
    "nbgrader": {
     "grade": false,
     "grade_id": "hw41",
     "locked": false,
     "points": "1",
     "solution": false
    }
   },
   "outputs": [],
   "source": [
    "def gcd(a, b):\n",
    "    if a == b or b == 0:\n",
    "        return a\n",
    "    elif a == 0:\n",
    "        return b\n",
    "    else:\n",
    "        if a > b:\n",
    "            a = a - b\n",
    "            return gcd(a, b)\n",
    "        else:\n",
    "            b = b - a\n",
    "            return gcd(a, b)"
   ]
  },
  {
   "cell_type": "code",
   "execution_count": 19,
   "metadata": {
    "deletable": false,
    "editable": false,
    "nbgrader": {
     "grade": true,
     "grade_id": "hw41",
     "locked": true,
     "points": "1",
     "solution": false
    }
   },
   "outputs": [],
   "source": [
    "assert gcd(0,0) == 0\n",
    "assert gcd(2,0) == 2\n",
    "assert gcd(0,2) == 2\n",
    "assert gcd(2,3) == 1\n",
    "assert gcd(4, 28) == 4\n",
    "assert gcd(1024, 526) == 2"
   ]
  },
  {
   "cell_type": "code",
   "execution_count": 12,
   "metadata": {
    "collapsed": true,
    "deletable": false,
    "editable": false,
    "nbgrader": {
     "grade": true,
     "grade_id": "hw42",
     "locked": true,
     "points": "1",
     "solution": false
    }
   },
   "outputs": [],
   "source": [
    "###\n",
    "### AUTOGRADER TEST - DO NOT REMOVE\n",
    "###\n"
   ]
  }
 ],
 "metadata": {
  "kernelspec": {
   "display_name": "Python 3",
   "language": "python",
   "name": "python3"
  },
  "language_info": {
   "codemirror_mode": {
    "name": "ipython",
    "version": 3
   },
   "file_extension": ".py",
   "mimetype": "text/x-python",
   "name": "python",
   "nbconvert_exporter": "python",
   "pygments_lexer": "ipython3",
   "version": "3.8.3"
  }
 },
 "nbformat": 4,
 "nbformat_minor": 4
}
