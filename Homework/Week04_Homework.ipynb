{
 "cells": [
  {
   "cell_type": "markdown",
   "metadata": {
    "colab_type": "text",
    "deletable": false,
    "editable": false,
    "id": "Hqgr4IZohVt8",
    "nbgrader": {
     "grade": false,
     "locked": true,
     "solution": false
    }
   },
   "source": [
    "# Week 4 Problem Set\n",
    "\n",
    "## Homeworks"
   ]
  },
  {
   "cell_type": "markdown",
   "metadata": {
    "colab_type": "text",
    "deletable": false,
    "editable": false,
    "id": "OJpqny0LhW8N",
    "nbgrader": {
     "grade": false,
     "locked": true,
     "solution": false
    }
   },
   "source": [
    "**HW1.** Implement `Queue` abstract data structure using a Class. This `Queue` only stores items of Integer data type. You can use a `list` as its internal data structure. The class should have the following interface:\n",
    "- `__init__()` to initialize an empty List for the queue to store the items.\n",
    "- `enqueue(item)` which inserts an Integer into the queue.\n",
    "- `dequeue()` which returns and removes the element at the head of the queue. The return value is an optional as it may return `None` if there are no more elements in the queue.\n",
    "- `peek()` which returns the element at the head of the queue.\n",
    "\n",
    "The class Queue has two computed properties:\n",
    "- `is_empty` which returns either `True` or `False` depending on whether the queue is empty or not.\n",
    "- `size` which returns the number of items in the queue."
   ]
  },
  {
   "cell_type": "code",
   "execution_count": 6,
   "metadata": {
    "colab": [],
    "colab_type": "code",
    "id": "uhUd80y9ho2F"
   },
   "outputs": [],
   "source": [
    "class Queue:\n",
    "    def __init__(self):\n",
    "        self.__items = []\n",
    "    \n",
    "    def enqueue(self, item):\n",
    "        self.__items.append(item)\n",
    "    \n",
    "    def dequeue(self):\n",
    "        if self.__items == []:\n",
    "            return None\n",
    "        else:\n",
    "            return self.__items.pop(0)\n",
    "    \n",
    "    def peek(self):\n",
    "        return self.__items[0]\n",
    "    \n",
    "    @property\n",
    "    def is_empty(self):\n",
    "        return self.__items == []\n",
    "    \n",
    "    @property\n",
    "    def size(self):\n",
    "        return len(self.__items)"
   ]
  },
  {
   "cell_type": "code",
   "execution_count": 7,
   "metadata": {
    "colab": [],
    "colab_type": "code",
    "deletable": false,
    "editable": false,
    "id": "POny7R3BivVW",
    "nbgrader": {
     "grade": true,
     "grade_id": "hw11",
     "locked": true,
     "points": "1",
     "solution": false
    }
   },
   "outputs": [],
   "source": [
    "q1 = Queue()\n",
    "q1.enqueue(2)\n",
    "assert not q1.is_empty\n",
    "assert q1.size == 1\n",
    "ans = q1.dequeue()\n",
    "assert ans == 2\n",
    "assert q1.is_empty\n",
    "q1.enqueue(1)\n",
    "q1.enqueue(2)\n",
    "q1.enqueue(3)\n",
    "assert q1.size == 3\n",
    "assert q1.peek() == 1\n",
    "assert q1.dequeue() == 1\n",
    "assert q1.dequeue() == 2\n",
    "assert q1.dequeue() == 3"
   ]
  },
  {
   "cell_type": "code",
   "execution_count": 8,
   "metadata": {
    "deletable": false,
    "editable": false,
    "nbgrader": {
     "grade": true,
     "grade_id": "hw12",
     "locked": true,
     "points": "1",
     "solution": false
    }
   },
   "outputs": [],
   "source": [
    "###\n",
    "### AUTOGRADER TEST - DO NOT REMOVE\n",
    "###\n"
   ]
  },
  {
   "cell_type": "code",
   "execution_count": 9,
   "metadata": {
    "colab": [],
    "colab_type": "code",
    "deletable": false,
    "editable": false,
    "id": "SWA-08cdkF-r",
    "nbgrader": {
     "grade": true,
     "grade_id": "hw13",
     "locked": true,
     "points": "1",
     "solution": false
    }
   },
   "outputs": [],
   "source": [
    "###\n",
    "### AUTOGRADER TEST - DO NOT REMOVE\n",
    "###\n"
   ]
  },
  {
   "cell_type": "markdown",
   "metadata": {
    "deletable": false,
    "editable": false,
    "nbgrader": {
     "grade": false,
     "locked": true,
     "solution": false
    }
   },
   "source": [
    "**HW2.** We are going to create a class that contains both `RobotTurtle` and `Coordinate` class. The name of the class is `TurtleWorld` which is used to simulate when `RobotTurtle` is moving around some two dimensional space. The class has the following methods:\n",
    "\n",
    "- `add_turtle(name)` which is to add a new `RobotTurtle` into the world with the specified name.\n",
    "- `remove_turtle(name)` which is to remove the object `RobotTurtle` with the specified name from the world. \n",
    "- `list_turtles()` which is to list all the turtles in the world using their names in an ascending order.\n",
    "\n",
    "We give you here the class definition for the `Coordinate` and the `RobotTurtle` from the Notes."
   ]
  },
  {
   "cell_type": "code",
   "execution_count": 10,
   "metadata": {
    "deletable": false,
    "editable": false,
    "nbgrader": {
     "grade": false,
     "locked": true,
     "solution": false
    }
   },
   "outputs": [],
   "source": [
    "import math\n",
    "\n",
    "class Coordinate:\n",
    "    \n",
    "    def __init__(self, x=0, y=0):\n",
    "        self.x = x\n",
    "        self.y = y\n",
    "        \n",
    "    @property\n",
    "    def distance(self):\n",
    "        return math.sqrt(self.x * self.x + self.y * self.y)\n",
    "    \n",
    "    def __str__(self):\n",
    "        return f\"({self.x}, {self.y})\""
   ]
  },
  {
   "cell_type": "code",
   "execution_count": 11,
   "metadata": {
    "deletable": false,
    "editable": false,
    "nbgrader": {
     "grade": false,
     "locked": true,
     "solution": false
    }
   },
   "outputs": [],
   "source": [
    "# Class definition\n",
    "class RobotTurtle:\n",
    "    # Attributes:\n",
    "    def __init__(self, name, speed=1):\n",
    "        self.name = name\n",
    "        self.speed = speed\n",
    "        self._pos = Coordinate(0, 0)\n",
    "        \n",
    "    # property getter\n",
    "    @property\n",
    "    def name(self):\n",
    "        return self._name\n",
    "    \n",
    "    # property setter\n",
    "    @name.setter\n",
    "    def name(self, value):\n",
    "        if isinstance(value, str) and value != \"\":\n",
    "            self._name = value\n",
    "            \n",
    "    # property getter\n",
    "    @property\n",
    "    def speed(self):\n",
    "        return self._speed\n",
    "    \n",
    "    # property setter\n",
    "    @speed.setter\n",
    "    def speed(self, value):\n",
    "        if isinstance(value, int) and value > 0:\n",
    "            self._speed = value\n",
    "\n",
    "    # property getter\n",
    "    @property\n",
    "    def pos(self):\n",
    "        return self._pos\n",
    "    \n",
    "    # Methods:\n",
    "    def move(self, direction):\n",
    "        update = {'up' : Coordinate(self.pos.x, self.pos.y + self.speed),\n",
    "                  'down' : Coordinate(self.pos.x, self.pos.y - self.speed),\n",
    "                  'left' : Coordinate(self.pos.x - self.speed, self.pos.y),\n",
    "                  'right' : Coordinate(self.pos.x + self.speed, self.pos.y)}\n",
    "        self._pos = update[direction]\n",
    "\n",
    "        \n",
    "    def tell_name(self):\n",
    "        print(f\"My name is {self.name}\")\n"
   ]
  },
  {
   "cell_type": "markdown",
   "metadata": {
    "deletable": false,
    "editable": false,
    "nbgrader": {
     "grade": false,
     "locked": true,
     "solution": false
    }
   },
   "source": [
    "Now fill in the class definition for `TurtleWorld`. You may want to look into the test cases in the following cell to make sure you define the class properly."
   ]
  },
  {
   "cell_type": "code",
   "execution_count": 12,
   "metadata": {},
   "outputs": [],
   "source": [
    "class TurtleWorld:\n",
    "    \n",
    "    def __init__(self):\n",
    "        self.turtles = {}\n",
    "        \n",
    "    def add_turtle(self, name, speed):\n",
    "        turtle = RobotTurtle(name, speed)\n",
    "        self.turtles[turtle.name] = turtle\n",
    "        \n",
    "    def remove_turtle(self, name):\n",
    "        self.turtles.pop(name)\n",
    "        \n",
    "    def list_turtles(self):\n",
    "        result = list(self.turtles.keys())\n",
    "        result.sort()\n",
    "        return result"
   ]
  },
  {
   "cell_type": "code",
   "execution_count": 13,
   "metadata": {
    "deletable": false,
    "editable": false,
    "nbgrader": {
     "grade": true,
     "grade_id": "hw21",
     "locked": true,
     "points": "1",
     "solution": false
    }
   },
   "outputs": [],
   "source": [
    "world = TurtleWorld()\n",
    "world.add_turtle('t1', 1)\n",
    "assert world.list_turtles() == ['t1']\n",
    "\n",
    "world.add_turtle('t2', 2)\n",
    "assert world.list_turtles() == ['t1', 't2']\n",
    "\n",
    "world.add_turtle('abc', 3)\n",
    "assert world.list_turtles() == ['abc', 't1', 't2']\n",
    "\n",
    "world.remove_turtle('t2')\n",
    "assert world.list_turtles() == ['abc', 't1']\n",
    "\n",
    "world.remove_turtle('abc')\n",
    "assert world.list_turtles() == ['t1']"
   ]
  },
  {
   "cell_type": "code",
   "execution_count": 14,
   "metadata": {
    "deletable": false,
    "editable": false,
    "nbgrader": {
     "grade": true,
     "grade_id": "hw22",
     "locked": true,
     "points": "1",
     "solution": false
    }
   },
   "outputs": [],
   "source": [
    "###\n",
    "### AUTOGRADER TEST - DO NOT REMOVE\n",
    "###\n"
   ]
  },
  {
   "cell_type": "markdown",
   "metadata": {
    "deletable": false,
    "editable": false,
    "nbgrader": {
     "grade": false,
     "locked": true,
     "solution": false
    }
   },
   "source": [
    "**HW3.** Modify the class `TurtleWorld` to add the following method:\n",
    "- `move_turtle(name, movement)` which is to move the turtle with the specified name with a given input `movement`. The argument `movement` is a string containing letters: `l` for left, `r` for right, `u` for up, and `d` for down. The movement should be based on the speed. This means that if the turtle has speed of 2 and the `movement` argument is `uulrdd`, the turtle should move up four units, move left two units, move right two units and move down four units."
   ]
  },
  {
   "cell_type": "code",
   "execution_count": 17,
   "metadata": {},
   "outputs": [
    {
     "name": "stdout",
     "output_type": "stream",
     "text": [
      "{'abc': <__main__.RobotTurtle object at 0x7fc0d5776c10>, 't1': <__main__.RobotTurtle object at 0x7fc0d5776970>}\n"
     ]
    }
   ],
   "source": [
    "class TurtleWorld:\n",
    "    valid_movements = set('udlr')\n",
    "    movement_map = {'u': 'up', \n",
    "                    'd': 'down', \n",
    "                    'l': 'left', \n",
    "                    'r': 'right'}\n",
    "    \n",
    "    def __init__(self):\n",
    "        self.turtles = {}\n",
    "        \n",
    "    def move_turtle(self, name, movement):\n",
    "        if self.turtles.get(name) != None:\n",
    "            for i in movement:\n",
    "                direc = self.movement_map.get(i)\n",
    "                self.turtles[name].move(direc)\n",
    "    \n",
    "    def add_turtle(self, name, speed):\n",
    "        turtle = RobotTurtle(name, speed)\n",
    "        self.turtles[turtle.name] = turtle\n",
    "        \n",
    "    def remove_turtle(self, name):\n",
    "        self.turtles.pop(name)\n",
    "        \n",
    "    def list_turtles(self):\n",
    "        result = list(self.turtles.keys())\n",
    "        result.sort()\n",
    "        return result"
   ]
  },
  {
   "cell_type": "code",
   "execution_count": 11,
   "metadata": {
    "deletable": false,
    "editable": false,
    "nbgrader": {
     "grade": true,
     "grade_id": "hw31",
     "locked": true,
     "points": "1",
     "solution": false
    }
   },
   "outputs": [],
   "source": [
    "world = TurtleWorld()\n",
    "world.add_turtle('abc', 1)\n",
    "world.move_turtle('abc', 'uu')\n",
    "assert str(world.turtles['abc'].pos) == '(0, 2)'\n",
    "\n",
    "world.move_turtle('abc', 'rrr')\n",
    "assert str(world.turtles['abc'].pos) == '(3, 2)'\n",
    "\n",
    "world.move_turtle('abc', 'd')\n",
    "assert str(world.turtles['abc'].pos) == '(3, 1)'\n",
    "\n",
    "world.move_turtle('abc', 'llll')\n",
    "assert str(world.turtles['abc'].pos) == '(-1, 1)'\n",
    "\n",
    "world.add_turtle('t1', 2)\n",
    "world.move_turtle('t1', 'uulrdd')\n",
    "assert str(world.turtles['t1'].pos) == '(0, 0)'\n",
    "\n",
    "world.move_turtle('t1', 'ururur')\n",
    "assert str(world.turtles['t1'].pos) == '(6, 6)'\n",
    "\n",
    "\n"
   ]
  },
  {
   "cell_type": "code",
   "execution_count": 12,
   "metadata": {
    "deletable": false,
    "editable": false,
    "nbgrader": {
     "grade": true,
     "grade_id": "hw32",
     "locked": true,
     "points": "1",
     "solution": false
    }
   },
   "outputs": [],
   "source": [
    "###BEGIN HIDDEN TEST\n",
    "world = TurtleWorld()\n",
    "world.add_turtle('dabc', 1)\n",
    "world.move_turtle('dabc', 'u')\n",
    "assert str(world.turtles['dabc'].pos) == '(0, 1)'\n",
    "\n",
    "world.move_turtle('dabc', 'rr')\n",
    "assert str(world.turtles['dabc'].pos) == '(2, 1)'\n",
    "\n",
    "world.move_turtle('dabc', 'dd')\n",
    "assert str(world.turtles['dabc'].pos) == '(2, -1)'\n",
    "\n",
    "world.move_turtle('dabc', 'llll')\n",
    "assert str(world.turtles['dabc'].pos) == '(-2, -1)'\n",
    "\n",
    "world.add_turtle('t1', 2)\n",
    "world.move_turtle('t1', 'ulrd')\n",
    "assert str(world.turtles['t1'].pos) == '(0, 0)'\n",
    "\n",
    "world.move_turtle('t1', 'dldldl')\n",
    "assert str(world.turtles['t1'].pos) == '(-6, -6)'\n",
    "###BEGIN HIDDEN TEST"
   ]
  },
  {
   "cell_type": "markdown",
   "metadata": {
    "deletable": false,
    "editable": false,
    "nbgrader": {
     "grade": false,
     "locked": true,
     "solution": false
    }
   },
   "source": [
    "**HW4.** Modify the class `TurtleWorld` to include the following method:\n",
    "- `add_movement(turtle, movement)` which adds turtle movement to a queue to be run later. The argument `turtle` is a string containing the turtle's name. The argument `movement` is another string for the movement. For example, value for `turtle` can be something like `'t1'` while the value for the `movement` can be something like `'uullrrdd'`.\n",
    "- `run()` which executes all the movements in the queue."
   ]
  },
  {
   "cell_type": "code",
   "execution_count": 33,
   "metadata": {},
   "outputs": [],
   "source": [
    "class TurtleWorld:\n",
    "    valid_movements = set('udlr')\n",
    "    movement_map = {'u': 'up', 'd': 'down', 'l': 'left', 'r': 'right'}\n",
    "    \n",
    "    def __init__(self):\n",
    "        self.turtles = {}\n",
    "        # add a code to create a Queue for the movement\n",
    "        self.move_queue = {}\n",
    "        \n",
    "    def add_movement(self, turtle, movement):\n",
    "        new_move = {turtle: movement}\n",
    "        self.move_queue.update(new_move)\n",
    "    \n",
    "    def run(self):\n",
    "        for k, v in self.move_queue.items():\n",
    "            world.move_turtle(k, v)\n",
    "        self.move_queue.clear()\n",
    "        \n",
    "    def move_turtle(self, name, movement):\n",
    "        if self.turtles.get(name) != None:\n",
    "            for i in movement:\n",
    "                direc = self.movement_map.get(i)\n",
    "                self.turtles[name].move(direc)\n",
    "    \n",
    "    def add_turtle(self, name, speed):\n",
    "        turtle = RobotTurtle(name, speed)\n",
    "        self.turtles[turtle.name] = turtle\n",
    "        \n",
    "    def remove_turtle(self, name):\n",
    "        self.turtles.pop(name)\n",
    "        self.move_queue.pop(name)\n",
    "        \n",
    "    def list_turtles(self):\n",
    "        result = list(self.turtles.keys())\n",
    "        result.sort()\n",
    "        return result"
   ]
  },
  {
   "cell_type": "code",
   "execution_count": 34,
   "metadata": {
    "deletable": false,
    "editable": false,
    "nbgrader": {
     "grade": true,
     "grade_id": "hw41",
     "locked": true,
     "points": "1",
     "solution": false
    }
   },
   "outputs": [],
   "source": [
    "world = TurtleWorld()\n",
    "world.add_turtle('t1', 1)\n",
    "world.add_turtle('t2', 2)\n",
    "world.add_movement('t1', 'ur')\n",
    "world.add_movement('t2', 'ur')\n",
    "assert str(world.turtles['t1'].pos) == '(0, 0)'\n",
    "assert str(world.turtles['t2'].pos) == '(0, 0)'\n",
    "\n",
    "world.run()\n",
    "assert str(world.turtles['t1'].pos) == '(1, 1)'\n",
    "assert str(world.turtles['t2'].pos) == '(2, 2)'\n",
    "\n",
    "world.run()\n",
    "assert str(world.turtles['t1'].pos) == '(1, 1)'\n",
    "assert str(world.turtles['t2'].pos) == '(2, 2)'\n",
    "\n"
   ]
  },
  {
   "cell_type": "code",
   "execution_count": 35,
   "metadata": {
    "deletable": false,
    "editable": false,
    "nbgrader": {
     "grade": true,
     "grade_id": "hw42",
     "locked": true,
     "points": "1",
     "solution": false
    }
   },
   "outputs": [],
   "source": [
    "###BEGIN HIDDEN TEST\n",
    "world = TurtleWorld()\n",
    "world.add_turtle('t1', 1)\n",
    "world.add_turtle('t2', 2)\n",
    "world.add_movement('t2', 'dldldl')\n",
    "world.add_movement('t1', 'dldldl')\n",
    "\n",
    "world.run()\n",
    "assert str(world.turtles['t1'].pos) == '(-3, -3)'\n",
    "assert str(world.turtles['t2'].pos) == '(-6, -6)'\n",
    "###END HIDDEN TEST"
   ]
  },
  {
   "cell_type": "markdown",
   "metadata": {
    "colab_type": "text",
    "deletable": false,
    "editable": false,
    "id": "ALOwwLOYkUhb",
    "nbgrader": {
     "grade": false,
     "locked": true,
     "solution": false
    }
   },
   "source": [
    "**HW5.** Implement a radix sorting machine. A radix sort for base 10 integers is a *mechanical* sorting technique that utilizes a collection of bins:\n",
    "- one main bin \n",
    "- 10 digit-bins\n",
    "\n",
    "Each bin acts like a *queue* and maintains its values in the order that they arrive. The algorithm works as follows:\n",
    "- it begins by placing each number in the main bin. \n",
    "- Then it considers each value digit by digit. The first value is removed from the main bin and placed in a digit-bin corresponding to the digit being considered. For example, if the ones digit is being considered, 534 will be placed into digit-bin 4 and 667 will placed into digit-bin 7. \n",
    "- Once all the values are placed into their corresponding digit-bins, the values are collected from bin 0 to bin 9 and placed back in the main bin (in that order). \n",
    "- The process continues with the tens digit, the hundreds, and so on. \n",
    "- After the last digit is processed, the main bin will contain the values in ascending order.\n",
    "\n",
    "Create a class `RadixSort` that takes in a List of Integers during object instantiation. The class should have the following properties:\n",
    "- `items`: is a List of Integers containing the numbers.\n",
    "\n",
    "It should also have the following methods:\n",
    "- `sort()`: which returns the sorted numbers from `items` as an `list` of Integers.\n",
    "- `max_digit()`: which returns the maximum number of digits of all the numbers in `items`. For example, if the numbers are 101, 3, 1041, this method returns 4 as the result since the maximum digit is four from 1041. \n",
    "- `convert_to_str(items)`: which returns items as a list of Strings (instead of Integers). This function should pad the higher digits with 0 when converting an Integer to a String. For example if the maximum digit is 4, the following items are converted as follows. From `[101, 3, 1041]` to `[\"0101\", \"0003\", \"1041\"]`.\n",
    "\n",
    "Hint: Your implementation should make use of the generic `Queue` class, which you created, for the bins."
   ]
  },
  {
   "cell_type": "code",
   "execution_count": 36,
   "metadata": {
    "colab": [],
    "colab_type": "code",
    "id": "B66m4t_2kWQ0"
   },
   "outputs": [],
   "source": [
    "class RadixSort:\n",
    "    \n",
    "    def __init__(self, MyList):\n",
    "        self.items = MyList\n",
    "    \n",
    "    def max_digit(self):\n",
    "        return len(str(max(abs(x) for x in self.items)))\n",
    "    \n",
    "    def convert_to_str(self, items):\n",
    "        str_list = []\n",
    "        for i in items:\n",
    "            str_list.append(i)\n",
    "        return str_list\n",
    "    \n",
    "    def sort(self):\n",
    "        return self.items.sort()"
   ]
  },
  {
   "cell_type": "code",
   "execution_count": 37,
   "metadata": {
    "colab": {
     "base_uri": "https://localhost:8080/",
     "height": 34
    },
    "colab_type": "code",
    "deletable": false,
    "editable": false,
    "id": "8C5A76lyLHPE",
    "nbgrader": {
     "grade": true,
     "grade_id": "hw51",
     "locked": true,
     "points": "1",
     "solution": false
    },
    "outputId": "8fce9471-ccb5-4b5a-dd6b-037c548b3afd"
   },
   "outputs": [
    {
     "ename": "AssertionError",
     "evalue": "",
     "output_type": "error",
     "traceback": [
      "\u001b[0;31m---------------------------------------------------------------------------\u001b[0m",
      "\u001b[0;31mAssertionError\u001b[0m                            Traceback (most recent call last)",
      "\u001b[0;32m<ipython-input-37-95bb2b401033>\u001b[0m in \u001b[0;36m<module>\u001b[0;34m\u001b[0m\n\u001b[1;32m      2\u001b[0m \u001b[0;32massert\u001b[0m \u001b[0mlist1\u001b[0m\u001b[0;34m.\u001b[0m\u001b[0mitems\u001b[0m \u001b[0;34m==\u001b[0m \u001b[0;34m[\u001b[0m\u001b[0;36m101\u001b[0m\u001b[0;34m,\u001b[0m\u001b[0;36m3\u001b[0m\u001b[0;34m,\u001b[0m\u001b[0;36m1041\u001b[0m\u001b[0;34m]\u001b[0m\u001b[0;34m\u001b[0m\u001b[0;34m\u001b[0m\u001b[0m\n\u001b[1;32m      3\u001b[0m \u001b[0;32massert\u001b[0m \u001b[0mlist1\u001b[0m\u001b[0;34m.\u001b[0m\u001b[0mmax_digit\u001b[0m\u001b[0;34m(\u001b[0m\u001b[0;34m)\u001b[0m \u001b[0;34m==\u001b[0m \u001b[0;36m4\u001b[0m\u001b[0;34m\u001b[0m\u001b[0;34m\u001b[0m\u001b[0m\n\u001b[0;32m----> 4\u001b[0;31m \u001b[0;32massert\u001b[0m \u001b[0mlist1\u001b[0m\u001b[0;34m.\u001b[0m\u001b[0mconvert_to_str\u001b[0m\u001b[0;34m(\u001b[0m\u001b[0mlist1\u001b[0m\u001b[0;34m.\u001b[0m\u001b[0mitems\u001b[0m\u001b[0;34m)\u001b[0m \u001b[0;34m==\u001b[0m \u001b[0;34m[\u001b[0m\u001b[0;34m\"0101\"\u001b[0m\u001b[0;34m,\u001b[0m \u001b[0;34m\"0003\"\u001b[0m\u001b[0;34m,\u001b[0m \u001b[0;34m\"1041\"\u001b[0m\u001b[0;34m]\u001b[0m\u001b[0;34m\u001b[0m\u001b[0;34m\u001b[0m\u001b[0m\n\u001b[0m\u001b[1;32m      5\u001b[0m \u001b[0mans\u001b[0m \u001b[0;34m=\u001b[0m \u001b[0mlist1\u001b[0m\u001b[0;34m.\u001b[0m\u001b[0msort\u001b[0m\u001b[0;34m(\u001b[0m\u001b[0;34m)\u001b[0m\u001b[0;34m\u001b[0m\u001b[0;34m\u001b[0m\u001b[0m\n\u001b[1;32m      6\u001b[0m \u001b[0mprint\u001b[0m\u001b[0;34m(\u001b[0m\u001b[0mans\u001b[0m\u001b[0;34m)\u001b[0m\u001b[0;34m\u001b[0m\u001b[0;34m\u001b[0m\u001b[0m\n",
      "\u001b[0;31mAssertionError\u001b[0m: "
     ]
    }
   ],
   "source": [
    "list1 = RadixSort([101, 3, 1041])\n",
    "assert list1.items == [101,3,1041]\n",
    "assert list1.max_digit() == 4\n",
    "assert list1.convert_to_str(list1.items) == [\"0101\", \"0003\", \"1041\"]\n",
    "ans = list1.sort()\n",
    "print(ans)\n",
    "assert ans == [3, 101, 1041]\n",
    "list2 = RadixSort([23, 1038, 8, 423, 10, 39, 3901])\n",
    "assert list2.sort() == [8, 10, 23, 39, 423, 1038, 3901]"
   ]
  },
  {
   "cell_type": "code",
   "execution_count": null,
   "metadata": {
    "deletable": false,
    "editable": false,
    "nbgrader": {
     "grade": true,
     "grade_id": "hw52",
     "locked": true,
     "points": "1",
     "solution": false
    }
   },
   "outputs": [],
   "source": [
    "###\n",
    "### AUTOGRADER TEST - DO NOT REMOVE\n",
    "###\n"
   ]
  }
 ],
 "metadata": {
  "kernelspec": {
   "display_name": "Python 3",
   "language": "python",
   "name": "python3"
  },
  "language_info": {
   "codemirror_mode": {
    "name": "ipython",
    "version": 3
   },
   "file_extension": ".py",
   "mimetype": "text/x-python",
   "name": "python",
   "nbconvert_exporter": "python",
   "pygments_lexer": "ipython3",
   "version": "3.8.3"
  }
 },
 "nbformat": 4,
 "nbformat_minor": 4
}
