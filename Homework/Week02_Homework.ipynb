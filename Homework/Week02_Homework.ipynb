{
 "cells": [
  {
   "cell_type": "markdown",
   "metadata": {
    "colab_type": "text",
    "deletable": false,
    "editable": false,
    "id": "w2y1-ePwMvu0",
    "nbgrader": {
     "grade": false,
     "locked": true,
     "solution": false
    }
   },
   "source": [
    "# Week 2 Problem Set\n",
    "\n",
    "## Homeworks"
   ]
  },
  {
   "cell_type": "markdown",
   "metadata": {
    "colab_type": "text",
    "deletable": false,
    "editable": false,
    "id": "Ft1Zw5gpMyMq",
    "nbgrader": {
     "grade": false,
     "locked": true,
     "solution": false
    }
   },
   "source": [
    "**HW1.** *Min-Heap:* Write the following function to implement *min-heap*. A *min-heap* is a binary heap that satisfies the *min-heap property*. This property can be described as:\n",
    "\n",
    "    For all nodes except the root:\n",
    "    \n",
    "    A[left(i)] >= A[i]\n",
    "    A[right(i)] >= A[i]\n",
    "\n",
    "- `min_child(heap, index)`: which returns the index of the node's smallest child. The node you are referring has index of value `index`\n",
    "- `min_heapify(array, index, size)`: which moves the node at `index` down the tree so as to satisfy the *min-heap property*. The argument `index` is the index of the node you want to start moving down in the array. The argument `size` is the size of the heap. This size may be the same or less than the number of elements in the array. Hint: You may need the `min_child()` function.\n",
    "- `build_min_heap(array)`: which build a *min-heap* from an arbitrary array of integers. This function should make use of `min_heapify(array, index)`. "
   ]
  },
  {
   "cell_type": "code",
   "execution_count": 1,
   "metadata": {},
   "outputs": [],
   "source": [
    "# Copy over the implementations of left_of & right_of from the Cohort qns\n",
    "def left_of(index):\n",
    "    return (index * 2) + 1\n",
    "\n",
    "def right_of(index):\n",
    "    return (index + 1) * 2"
   ]
  },
  {
   "cell_type": "code",
   "execution_count": 2,
   "metadata": {
    "colab": [],
    "colab_type": "code",
    "id": "Hqig98U9NS3g"
   },
   "outputs": [],
   "source": [
    "def min_child(heap, index):\n",
    "    \n",
    "    if right_of(index) >= len(heap):\n",
    "        return left_of(index)\n",
    "    else:\n",
    "        left = heap[left_of(index)]\n",
    "        right = heap[right_of(index)]\n",
    "        if left < right:\n",
    "            return left_of(index)\n",
    "        else:\n",
    "            return right_of(index)"
   ]
  },
  {
   "cell_type": "code",
   "execution_count": 3,
   "metadata": {
    "deletable": false,
    "editable": false,
    "nbgrader": {
     "grade": true,
     "grade_id": "hw11",
     "locked": true,
     "points": "1",
     "solution": false
    }
   },
   "outputs": [],
   "source": [
    "minheap = [1, 2, 4, 3, 9, 7, 8, 10, 14, 16]\n",
    "assert min_child(minheap, 0) == 1\n",
    "assert min_child(minheap, 2) == 5\n",
    "assert min_child(minheap, 3) == 7\n",
    "assert min_child(minheap, 1) == 3"
   ]
  },
  {
   "cell_type": "code",
   "execution_count": 4,
   "metadata": {
    "colab": [],
    "colab_type": "code",
    "id": "JWasCCnBOLUA"
   },
   "outputs": [],
   "source": [
    "def min_heapify(array, index, size):\n",
    "    current_index = index\n",
    "    swapped = True\n",
    "    while (left_of(current_index) < size) & swapped == True:\n",
    "        swapped = False\n",
    "        minchild_index = min_child(array, current_index)\n",
    "        if array[minchild_index] < array[current_index]:\n",
    "            array[minchild_index], array[current_index] = array[current_index], array[minchild_index]\n",
    "            swapped = True\n",
    "        current_index = minchild_index"
   ]
  },
  {
   "cell_type": "code",
   "execution_count": 5,
   "metadata": {
    "deletable": false,
    "editable": false,
    "nbgrader": {
     "grade": true,
     "grade_id": "hw12",
     "locked": true,
     "points": "1",
     "solution": false
    }
   },
   "outputs": [],
   "source": [
    "array = [1, 3, 4, 2, 9, 7, 8, 10, 14, 16]\n",
    "min_heapify(array, 1, len(array))\n",
    "assert array == [1, 2, 4, 3, 9, 7, 8, 10, 14, 16]"
   ]
  },
  {
   "cell_type": "code",
   "execution_count": 6,
   "metadata": {
    "deletable": false,
    "editable": false,
    "nbgrader": {
     "grade": true,
     "grade_id": "hw13",
     "locked": true,
     "points": "1",
     "solution": false
    }
   },
   "outputs": [],
   "source": [
    "###\n",
    "### AUTOGRADER TEST - DO NOT REMOVE\n",
    "###\n"
   ]
  },
  {
   "cell_type": "code",
   "execution_count": 7,
   "metadata": {
    "colab": {
     "base_uri": "https://localhost:8080/",
     "height": 51
    },
    "colab_type": "code",
    "executionInfo": {
     "elapsed": 35732,
     "status": "ok",
     "timestamp": 1572852549354,
     "user": {
      "displayName": "Oka Kurniawan",
      "photoUrl": "https://lh3.googleusercontent.com/a-/AAuE7mAnRP7A15yGfrraUO-0BiNVbNmYjI2f9jaZikjr=s64",
      "userId": "05233922875329103764"
     },
     "user_tz": -480
    },
    "id": "qVhvO4lzO82L",
    "outputId": "08ed2169-2e53-4aa4-e6d3-49a6448c4299"
   },
   "outputs": [],
   "source": [
    "def build_min_heap(array):\n",
    "    n = len(array)\n",
    "    start = int(n/2 -1)\n",
    "    for i in range (start, -1, -1):\n",
    "        min_heapify(array, i, len(array))"
   ]
  },
  {
   "cell_type": "code",
   "execution_count": 8,
   "metadata": {
    "deletable": false,
    "editable": false,
    "nbgrader": {
     "grade": true,
     "grade_id": "hw14",
     "locked": true,
     "points": "1",
     "solution": false
    }
   },
   "outputs": [
    {
     "name": "stdout",
     "output_type": "stream",
     "text": [
      "[16, 14, 10, 8, 7, 9, 3, 2, 4, 1]\n",
      "[1, 2, 3, 4, 7, 9, 10, 8, 16, 14]\n"
     ]
    }
   ],
   "source": [
    "array = [16, 14, 10, 8, 7, 9, 3, 2, 4, 1]\n",
    "print(array)\n",
    "build_min_heap(array)\n",
    "print(array)\n",
    "assert array == [1, 2, 3, 4, 7, 9, 10, 8, 16, 14]"
   ]
  },
  {
   "cell_type": "markdown",
   "metadata": {
    "colab_type": "text",
    "deletable": false,
    "editable": false,
    "id": "rTwYqPXjPhhD",
    "nbgrader": {
     "grade": false,
     "locked": true,
     "solution": false
    }
   },
   "source": [
    "**HW2.** *Heapsort:* Implement heapsort that makes use of *min-heap* instead of *max-heap*. This function returns a *new* array. The strategy is similar to max-heap, but we will use a new array to store the sorted output. Take note of the hints below:\n",
    "- The top of the min-heap is always the smallest. You can take this element and put it into the output array.\n",
    "- To find the next minimum, take the last element of the heap and put it into the first element of the array. Now, the tree is no longer a min-heap. Use `min_heapify()` to restore the min-heap property. This will result in a mean-heap where the first element of the array is the next minimum. You can then take out the top of the min-heap and put it into the output array.\n",
    "- Reduce the heap size as you go.\n",
    "- Return the new output array."
   ]
  },
  {
   "cell_type": "code",
   "execution_count": 9,
   "metadata": {},
   "outputs": [],
   "source": [
    "import random\n",
    "\n",
    "def gen_random_int(number, seed):\n",
    "    mylist = list(range(number))\n",
    "    random.seed(seed)\n",
    "    random.shuffle(mylist)\n",
    "    return mylist"
   ]
  },
  {
   "cell_type": "code",
   "execution_count": 10,
   "metadata": {
    "colab": [],
    "colab_type": "code",
    "id": "ORDGioxUPoY5"
   },
   "outputs": [],
   "source": [
    "def heapsort(array):\n",
    "    result = []\n",
    "    build_min_heap(array)\n",
    "    end_pos = len(array) - 1\n",
    "    while end_pos >= 0:\n",
    "        array[(end_pos)], array[0] = array[0], array[(end_pos)]\n",
    "        temp = array.pop(-1)\n",
    "        result.append(temp)\n",
    "        min_heapify(array, 0, end_pos)\n",
    "        end_pos -= 1\n",
    "    return result"
   ]
  },
  {
   "cell_type": "code",
   "execution_count": 11,
   "metadata": {
    "deletable": false,
    "editable": false,
    "nbgrader": {
     "grade": true,
     "grade_id": "hw21",
     "locked": true,
     "points": "1",
     "solution": false
    }
   },
   "outputs": [],
   "source": [
    "array = gen_random_int(10, 100)\n",
    "result = heapsort(array)\n",
    "assert result == [0, 1, 2, 3, 4, 5, 6, 7, 8, 9]"
   ]
  },
  {
   "cell_type": "markdown",
   "metadata": {
    "colab_type": "text",
    "deletable": false,
    "editable": false,
    "id": "lUQCfMxaWese",
    "nbgrader": {
     "grade": false,
     "locked": true,
     "solution": false
    }
   },
   "source": [
    "**HW3.** Compute the computational time for Heap Sort algorithm implemented in Python for various number of inputs. Make use of `gen_random_int(n)` to generate the input array. Use the template below to generate computation time for different number of inputs: 10, 100, 1000, etc."
   ]
  },
  {
   "cell_type": "code",
   "execution_count": 12,
   "metadata": {
    "colab": {
     "base_uri": "https://localhost:8080/",
     "height": 34
    },
    "colab_type": "code",
    "executionInfo": {
     "elapsed": 1876220,
     "status": "ok",
     "timestamp": 1572855614477,
     "user": {
      "displayName": "Oka Kurniawan",
      "photoUrl": "https://lh3.googleusercontent.com/a-/AAuE7mAnRP7A15yGfrraUO-0BiNVbNmYjI2f9jaZikjr=s64",
      "userId": "05233922875329103764"
     },
     "user_tz": -480
    },
    "id": "wD-pBWwCWl-I",
    "outputId": "f50a8a1c-fc2b-427f-b99b-fc8b2f89fa6e"
   },
   "outputs": [
    {
     "name": "stdout",
     "output_type": "stream",
     "text": [
      "[2.1457672119140625e-06, 9.059906005859375e-06, 0.00010085105895996094, 0.0015108585357666016, 0.019230127334594727]\n"
     ]
    }
   ],
   "source": [
    "import time\n",
    "import random\n",
    "\n",
    "def run_function(f, x):\n",
    "    start = time.time()\n",
    "    f(x)\n",
    "    end = time.time()\n",
    "    return end-start\n",
    "\n",
    "def gen_random_int(number, seed):\n",
    "    mylist = list(range(number))\n",
    "    random.seed(seed)\n",
    "    random.shuffle(mylist)\n",
    "    return mylist\n",
    "\n",
    "time_heapsort = []\n",
    "# set the maximum power for 10^power number of inputs\n",
    "maxpower = 5\n",
    "\n",
    "for n in range(1, maxpower + 1):\n",
    "    # create array for 10^1, 10^2, etc \n",
    "    # use seed 100\n",
    "    array = None\n",
    "    \n",
    "    # call run_function with heapsort and array as arguments\n",
    "    # result = run_function(None, None)\n",
    "    \n",
    "    array = gen_random_int(10**n, 100)\n",
    "    result = run_function(sorted, array)\n",
    "    \n",
    "    time_heapsort.append(result)\n",
    "\n",
    "print(time_heapsort)"
   ]
  },
  {
   "cell_type": "markdown",
   "metadata": {
    "colab_type": "text",
    "deletable": false,
    "editable": false,
    "id": "uhki2vZsXlC0",
    "nbgrader": {
     "grade": false,
     "locked": true,
     "solution": false
    }
   },
   "source": [
    "**HW4.** Plot the output of HW3 by first calculating a new x-axis computed as $n\\log_2(n)$. Use the template below.\n",
    "\n",
    "Reference:\n",
    "- [Numpy Log2 function](https://docs.scipy.org/doc/numpy/reference/generated/numpy.log2.html)"
   ]
  },
  {
   "cell_type": "code",
   "execution_count": 15,
   "metadata": {
    "colab": {
     "base_uri": "https://localhost:8080/",
     "height": 279
    },
    "colab_type": "code",
    "deletable": false,
    "editable": false,
    "executionInfo": {
     "elapsed": 1073,
     "status": "ok",
     "timestamp": 1572853721594,
     "user": {
      "displayName": "Oka Kurniawan",
      "photoUrl": "https://lh3.googleusercontent.com/a-/AAuE7mAnRP7A15yGfrraUO-0BiNVbNmYjI2f9jaZikjr=s64",
      "userId": "05233922875329103764"
     },
     "user_tz": -480
    },
    "id": "kXevgXjHXnmF",
    "nbgrader": {
     "grade": false,
     "locked": true,
     "solution": false
    },
    "outputId": "0b54258d-4124-4b4c-d836-6c615c5fd6ab"
   },
   "outputs": [
    {
     "data": {
      "image/png": "[encoded data removed]",
      "text/plain": [
       "<Figure size 432x288 with 1 Axes>"
      ]
     },
     "metadata": {
      "needs_background": "light"
     },
     "output_type": "display_data"
    }
   ],
   "source": [
    "import matplotlib.pyplot as plt\n",
    "import numpy as np\n",
    "\n",
    "maxpower = 5\n",
    "# create an iterable from 1 to maxpowers\n",
    "powers = range(1, maxpower + 1)\n",
    "# variable n stores the number of items to sort\n",
    "n = []\n",
    "\n",
    "# Create a list of n for our x axis\n",
    "for exp in powers:\n",
    "    n.append(10**exp)\n",
    "\n",
    "# convert to Numpy array\n",
    "n = np.array(n)\n",
    "\n",
    "# calculate n*log(n) for x axis \n",
    "x = n * np.log2(n)\n",
    "plt.plot(x, time_heapsort, \"-o\")\n",
    "plt.xlabel(\"number of input\")\n",
    "plt.ylabel(\"computation time (s)\")\n",
    "plt.show()"
   ]
  },
  {
   "cell_type": "code",
   "execution_count": null,
   "metadata": {},
   "outputs": [],
   "source": []
  }
 ],
 "metadata": {
  "kernelspec": {
   "display_name": "Python 3",
   "language": "python",
   "name": "python3"
  },
  "language_info": {
   "codemirror_mode": {
    "name": "ipython",
    "version": 3
   },
   "file_extension": ".py",
   "mimetype": "text/x-python",
   "name": "python",
   "nbconvert_exporter": "python",
   "pygments_lexer": "ipython3",
   "version": "3.8.3"
  }
 },
 "nbformat": 4,
 "nbformat_minor": 4
}
