{
    "cells": [
        {
            "cell_type": "markdown",
            "metadata": {
                "nbgrader": {
                    "grade": false,
                    "locked": true,
                    "solution": false
                },
                "editable": false,
                "deletable": false
            },
            "source": [
                "# Week 9 Problem Set\n",
                "\n",
                "## Homeworks"
            ]
        },
        {
            "cell_type": "code",
            "execution_count": 1,
            "metadata": {
                "collapsed": true,
                "nbgrader": {
                    "grade": false,
                    "locked": true,
                    "solution": false
                },
                "editable": false,
                "deletable": false
            },
            "outputs": [],
            "source": [
                "import numpy as np\n",
                "import pandas as pd\n",
                "import matplotlib.pyplot as plt\n",
                "import seaborn as sns"
            ]
        },
        {
            "cell_type": "markdown",
            "metadata": {
                "nbgrader": {
                    "grade": false,
                    "locked": true,
                    "solution": false
                },
                "editable": false,
                "deletable": false
            },
            "source": [
                "**HW0.** Copy and paste some of the functions from you cohort sessions and previous exercises that you will need in this homework. See below template and the list here:\n",
                "- `normalize_z()`\n",
                "- `get_features_targets()`\n",
                "- `prepare_feature()`\n",
                "- `prepare_target()`\n",
                "- `predict()`\n",
                "- `predict_norm()`\n",
                "- `split_data()`\n",
                "- `r2_score()`\n",
                "- `mean_squared_error()`\n",
                "\n",
                "Then do the following:\n",
                "- Read the CSV file `housing_processed.csv` and extract the following columns:\n",
                "    - x data: RM, DIS, and INDUS columns \n",
                "    - y data: MEDV column\n",
                "- Normalize the features using z normalization. \n",
                "- Plot the data using scatter plot. Use the following columns:\n"
            ]
        },
        {
            "cell_type": "code",
            "execution_count": 2,
            "metadata": {
                "collapsed": true
            },
            "outputs": [],
            "source": [
                "def normalize_z(df):\n",
                "    ###\n",
                "    ### YOUR CODE HERE\n",
                "    ###\n",
                "    pass\n",
                "\n",
                "def get_features_targets(df, feature_names, target_names):\n",
                "    ###\n",
                "    ### YOUR CODE HERE\n",
                "    ###\n",
                "    pass\n",
                "    return df_feature, df_target\n",
                "\n",
                "def prepare_feature(df_feature):\n",
                "    ###\n",
                "    ### YOUR CODE HERE\n",
                "    ###\n",
                "    pass\n",
                "\n",
                "def prepare_target(df_target):\n",
                "    ###\n",
                "    ### YOUR CODE HERE\n",
                "    ###\n",
                "    pass\n",
                "\n",
                "def predict(df_feature, beta):\n",
                "    ###\n",
                "    ### YOUR CODE HERE\n",
                "    ###\n",
                "    pass\n",
                "\n",
                "def predict_norm(X, beta):\n",
                "    ###\n",
                "    ### YOUR CODE HERE\n",
                "    ###\n",
                "    pass\n",
                "\n",
                "def split_data(df_feature, df_target, random_state=None, test_size=0.5):\n",
                "    ###\n",
                "    ### YOUR CODE HERE\n",
                "    ###\n",
                "    return df_feature_train, df_feature_test, df_target_train, df_target_test\n",
                "  \n",
                "def r2_score(y, ypred):\n",
                "    ###\n",
                "    ### YOUR CODE HERE\n",
                "    ###\n",
                "    pass\n",
                "\n",
                "def mean_squared_error(target, pred):\n",
                "    ###\n",
                "    ### YOUR CODE HERE\n",
                "    ###\n",
                "    pass"
            ]
        },
        {
            "cell_type": "code",
            "execution_count": 3,
            "metadata": {
                "collapsed": true
            },
            "outputs": [],
            "source": [
                "# Read the CSV file\n",
                "df = None\n",
                "\n",
                "# Extract the features and the targets\n",
                "df_features, df_target = None, None\n",
                "\n",
                "# Normalize using z normalization\n",
                "df_features = None\n",
                "\n",
                "###\n",
                "### YOUR CODE HERE\n",
                "###\n"
            ]
        },
        {
            "cell_type": "code",
            "execution_count": 4,
            "metadata": {
                "collapsed": true,
                "nbgrader": {
                    "grade": true,
                    "grade_id": "hw01",
                    "locked": true,
                    "points": "1",
                    "solution": false
                },
                "editable": false,
                "deletable": false
            },
            "outputs": [],
            "source": [
                "###\n",
                "### AUTOGRADER TEST - DO NOT REMOVE\n",
                "###\n"
            ]
        },
        {
            "cell_type": "code",
            "execution_count": 5,
            "metadata": {
                "nbgrader": {
                    "grade": true,
                    "grade_id": "hw02",
                    "locked": true,
                    "points": "1",
                    "solution": false
                },
                "editable": false,
                "deletable": false
            },
            "outputs": [],
            "source": [
                "display(df_features.describe())\n",
                "display(df_target.describe())\n",
                "assert np.isclose(df_features['RM'].mean(), 0)\n",
                "assert np.isclose(df_features['DIS'].mean(), 0)\n",
                "assert np.isclose(df_features['INDUS'].mean(), 0)\n",
                "\n",
                "assert np.isclose(df_features['RM'].std(), 1)\n",
                "assert np.isclose(df_features['DIS'].std(), 1)\n",
                "assert np.isclose(df_features['INDUS'].std(), 1)\n",
                "\n",
                "assert np.isclose(df_target['MEDV'].mean(), 22.532806)\n",
                "assert np.isclose(df_target['MEDV'].std(), 9.197104)\n",
                "\n",
                "assert np.isclose(df_features['RM'].median(), -0.1083583)\n",
                "assert np.isclose(df_features['DIS'].median(), -0.2790473)\n",
                "assert np.isclose(df_features['INDUS'].median(), -0.2108898)"
            ]
        },
        {
            "cell_type": "code",
            "execution_count": 6,
            "metadata": {
                "collapsed": true,
                "nbgrader": {
                    "grade": true,
                    "grade_id": "hw03",
                    "locked": true,
                    "points": "1",
                    "solution": false
                },
                "editable": false,
                "deletable": false
            },
            "outputs": [],
            "source": [
                "###\n",
                "### AUTOGRADER TEST - DO NOT REMOVE\n",
                "###\n"
            ]
        },
        {
            "cell_type": "code",
            "execution_count": 7,
            "metadata": {
                "nbgrader": {
                    "grade": false,
                    "locked": true,
                    "solution": false
                },
                "editable": false,
                "deletable": false
            },
            "outputs": [],
            "source": [
                "sns.set()\n",
                "plt.scatter(df_features[\"RM\"], df_target)"
            ]
        },
        {
            "cell_type": "code",
            "execution_count": 8,
            "metadata": {
                "nbgrader": {
                    "grade": false,
                    "locked": true,
                    "solution": false
                },
                "editable": false,
                "deletable": false
            },
            "outputs": [],
            "source": [
                "plt.scatter(df_features[\"DIS\"], df_target)"
            ]
        },
        {
            "cell_type": "code",
            "execution_count": 9,
            "metadata": {
                "nbgrader": {
                    "grade": false,
                    "locked": true,
                    "solution": false
                },
                "editable": false,
                "deletable": false
            },
            "outputs": [],
            "source": [
                "plt.scatter(df_features[\"INDUS\"], df_target)"
            ]
        },
        {
            "cell_type": "markdown",
            "metadata": {
                "nbgrader": {
                    "grade": false,
                    "locked": true,
                    "solution": false
                },
                "editable": false,
                "deletable": false
            },
            "source": [
                "**HW1.** *Multiple variables cost function:* Write a function `compute_cost_multi()` to compute the cost function of a linear regression model. The function should take in two 2-D numpy arrays. The first one is the matrix of the linear equation and the second one is the actual target value.\n",
                "\n",
                "Recall that:\n",
                "\n",
                "$$J(\\hat{\\beta}_0, \\hat{\\beta}_1) = \\frac{1}{2m}\\Sigma^m_{i=1}\\left(\\hat{y}(x^i)-y^i\\right)^2$$\n",
                "\n",
                "where\n",
                "\n",
                "$$\\hat{y}(x) =  \\hat{\\beta}_0 + \\hat{\\beta}_1 x_1 + \\hat{\\beta}_2 x_2 + \\ldots + \\hat{\\beta}_n x_n$$\n",
                "\n",
                "The function should receive three Numpy arrays:\n",
                "- `X`: is the feature 2D Numpy array\n",
                "- `y`: is the target 2D Numpy array\n",
                "- `beta`: is the parameter 2D Numpy array\n",
                "\n",
                "The function should return the cost which is a float.\n",
                "\n",
                "You can use the following function in your code:\n",
                "- `np.matmul(array1, array2)`\n",
                "\n",
                "Note that if you wrote your Cohort session's `compute_cost()` using proper Matrix operations to do the square and the summation, the code will be exactly the same here."
            ]
        },
        {
            "cell_type": "code",
            "execution_count": 10,
            "metadata": {
                "collapsed": true
            },
            "outputs": [],
            "source": [
                "def compute_cost(X, y, beta):\n",
                "    J = 0\n",
                "    ###\n",
                "    ### YOUR CODE HERE\n",
                "    ###\n",
                "    return J\n"
            ]
        },
        {
            "cell_type": "code",
            "execution_count": 11,
            "metadata": {
                "collapsed": true,
                "nbgrader": {
                    "grade": true,
                    "grade_id": "hw11",
                    "locked": true,
                    "points": "1",
                    "solution": false
                },
                "editable": false,
                "deletable": false
            },
            "outputs": [],
            "source": [
                "X = prepare_feature(df_features)\n",
                "target = prepare_target(df_target)\n",
                "\n",
                "assert isinstance(X, np.ndarray)\n",
                "assert isinstance(target, np.ndarray)\n",
                "assert X.shape == (506, 4)\n",
                "assert target.shape == (506, 1)"
            ]
        },
        {
            "cell_type": "code",
            "execution_count": 12,
            "metadata": {
                "collapsed": true,
                "nbgrader": {
                    "grade": true,
                    "grade_id": "hw12",
                    "locked": true,
                    "points": "1",
                    "solution": false
                },
                "editable": false,
                "deletable": false
            },
            "outputs": [],
            "source": [
                "###\n",
                "### AUTOGRADER TEST - DO NOT REMOVE\n",
                "###\n"
            ]
        },
        {
            "cell_type": "code",
            "execution_count": 13,
            "metadata": {
                "nbgrader": {
                    "grade": true,
                    "grade_id": "hw13",
                    "locked": true,
                    "points": "1",
                    "solution": false
                },
                "editable": false,
                "deletable": false
            },
            "outputs": [],
            "source": [
                "beta = np.zeros((4,1))\n",
                "J = compute_cost(X, target, beta)\n",
                "print(J)\n",
                "assert np.isclose(J, 296.0734)\n",
                "\n",
                "beta = np.ones((4,1))\n",
                "J = compute_cost(X, target, beta)\n",
                "print(J)\n",
                "assert np.isclose(J, 270.4083)\n",
                "\n",
                "beta = np.array([-1, 2, 1, 2]).reshape((4,1))\n",
                "J = compute_cost(X, target, beta)\n",
                "print(J)\n",
                "assert np.isclose(J, 314.8510)\n"
            ]
        },
        {
            "cell_type": "code",
            "execution_count": 14,
            "metadata": {
                "collapsed": true,
                "nbgrader": {
                    "grade": true,
                    "grade_id": "hw14",
                    "locked": true,
                    "points": "1",
                    "solution": false
                },
                "editable": false,
                "deletable": false
            },
            "outputs": [],
            "source": [
                "###\n",
                "### AUTOGRADER TEST - DO NOT REMOVE\n",
                "###\n"
            ]
        },
        {
            "cell_type": "markdown",
            "metadata": {
                "nbgrader": {
                    "grade": false,
                    "locked": true,
                    "solution": false
                },
                "editable": false,
                "deletable": false
            },
            "source": [
                "**HW2.** *Gradient Descent:* Write a function called `gradient_descent_multi()` that takes in four parameters:\n",
                "- `X`: is a 2-D numpy array for the features\n",
                "- `y`: is a vector array for the target\n",
                "- `alpha`: is the learning rate\n",
                "- `num_iters`: is the number of iteration to perform\n",
                "\n",
                "The function should return two arrays:\n",
                "- `beta`: is coefficient at the end of the iteration\n",
                "- `J_storage`: is the array that stores the cost value at each iteration\n",
                "\n",
                "You can use some of the following functions:\n",
                "- `np.matmul(array1, array2)`: which is to do matrix multiplication on two Numpy arrays.\n",
                "- `compute_cost()`: which the function you created in the previous problem set to compute the cost.\n",
                "\n",
                "Note that if you use proper matrix operations in your cohort sessions for the gradient descent function, the code will be the same here."
            ]
        },
        {
            "cell_type": "code",
            "execution_count": 15,
            "metadata": {
                "collapsed": true
            },
            "outputs": [],
            "source": [
                "def gradient_descent(X, y, beta, alpha, num_iters):\n",
                "    ###\n",
                "    ### YOUR CODE HERE\n",
                "    ###\n",
                "    return beta, J_storage\n"
            ]
        },
        {
            "cell_type": "code",
            "execution_count": 16,
            "metadata": {
                "nbgrader": {
                    "grade": true,
                    "grade_id": "hw21",
                    "locked": true,
                    "points": "1",
                    "solution": false
                },
                "editable": false,
                "deletable": false
            },
            "outputs": [],
            "source": [
                "iterations = 1500\n",
                "alpha = 0.01\n",
                "beta = np.zeros((4,1))\n",
                "\n",
                "beta, J_storage = gradient_descent(X, target, beta, alpha, iterations)\n",
                "print(beta)\n",
                "assert np.isclose(beta[0], 22.5328)\n",
                "assert np.isclose(beta[1], 5.4239)\n",
                "assert np.isclose(beta[2], -0.90367)\n",
                "assert np.isclose(beta[3], -2.95818)"
            ]
        },
        {
            "cell_type": "code",
            "execution_count": 17,
            "metadata": {
                "collapsed": true,
                "nbgrader": {
                    "grade": true,
                    "grade_id": "hw22",
                    "locked": true,
                    "points": "1",
                    "solution": false
                },
                "editable": false,
                "deletable": false
            },
            "outputs": [],
            "source": [
                "###\n",
                "### AUTOGRADER TEST - DO NOT REMOVE\n",
                "###\n"
            ]
        },
        {
            "cell_type": "code",
            "execution_count": 18,
            "metadata": {
                "nbgrader": {
                    "grade": false,
                    "locked": true,
                    "solution": false
                },
                "editable": false,
                "deletable": false
            },
            "outputs": [],
            "source": [
                "plt.plot(J_storage)"
            ]
        },
        {
            "cell_type": "markdown",
            "metadata": {
                "nbgrader": {
                    "grade": false,
                    "locked": true,
                    "solution": false
                },
                "editable": false,
                "deletable": false
            },
            "source": [
                "**HW3.** Do the following tasks:\n",
                "- Get the features and the targets.\n",
                "    - features: RM, DIS, INDUS\n",
                "    - target: MEDV\n",
                "- Use the previous functions called `predict()` to calculated the predicted values given the features and the model. \n",
                "- Create a target numpy array from the data frame."
            ]
        },
        {
            "cell_type": "code",
            "execution_count": 19,
            "metadata": {
                "collapsed": true
            },
            "outputs": [],
            "source": [
                "# This is from the previous result\n",
                "beta = np.array([[22.53279993],\n",
                "       [ 5.42386374],\n",
                "       [-0.90367449],\n",
                "       [-2.95818095]])\n",
                "\n",
                "# Extract the feature and the target\n",
                "df_features, df_target = None, None\n",
                "\n",
                "# Call predict()\n",
                "pred = None\n",
                "\n",
                "# Change target to numpy array\n",
                "target = None\n",
                "\n",
                "###\n",
                "### YOUR CODE HERE\n",
                "###\n",
                "\n"
            ]
        },
        {
            "cell_type": "code",
            "execution_count": null,
            "metadata": {
                "collapsed": true,
                "nbgrader": {
                    "grade": true,
                    "grade_id": "hw31",
                    "locked": true,
                    "points": "1",
                    "solution": false
                },
                "editable": false,
                "deletable": false
            },
            "outputs": [],
            "source": [
                "assert isinstance(pred, np.ndarray)\n",
                "assert np.isclose(pred.mean(), 22.5328)\n",
                "assert np.isclose(pred.std(), 6.7577)"
            ]
        },
        {
            "cell_type": "code",
            "execution_count": 20,
            "metadata": {
                "collapsed": true,
                "nbgrader": {
                    "grade": true,
                    "grade_id": "hw32",
                    "locked": true,
                    "points": "1",
                    "solution": false
                },
                "editable": false,
                "deletable": false
            },
            "outputs": [],
            "source": [
                "###\n",
                "### AUTOGRADER TEST - DO NOT REMOVE\n",
                "###\n"
            ]
        },
        {
            "cell_type": "code",
            "execution_count": 21,
            "metadata": {
                "nbgrader": {
                    "grade": false,
                    "locked": true,
                    "solution": false
                },
                "editable": false,
                "deletable": false
            },
            "outputs": [],
            "source": [
                "plt.scatter(df_features[\"RM\"],target)\n",
                "plt.scatter(df_features[\"RM\"],pred)\n",
                "### END HIDDEN TESTS"
            ]
        },
        {
            "cell_type": "code",
            "execution_count": 22,
            "metadata": {
                "nbgrader": {
                    "grade": false,
                    "locked": true,
                    "solution": false
                },
                "editable": false,
                "deletable": false
            },
            "outputs": [],
            "source": [
                "###\n",
                "### AUTOGRADER TEST - DO NOT REMOVE\n",
                "###\n"
            ]
        },
        {
            "cell_type": "code",
            "execution_count": 23,
            "metadata": {
                "nbgrader": {
                    "grade": false,
                    "locked": true,
                    "solution": false
                },
                "editable": false,
                "deletable": false
            },
            "outputs": [],
            "source": [
                "###\n",
                "### AUTOGRADER TEST - DO NOT REMOVE\n",
                "###\n"
            ]
        },
        {
            "cell_type": "markdown",
            "metadata": {
                "nbgrader": {
                    "grade": false,
                    "locked": true,
                    "solution": false
                },
                "editable": false,
                "deletable": false
            },
            "source": [
                "**HW4.** *Splitting data:*  Do the following tasks:\n",
                "- Extract the following:\n",
                "    - features: RM, DIS, and INDUS\n",
                "    - target: MEDV \n",
                "- Use Week 9's function `split_data()` to split the data into train and test using `random_state=100` and `test_size=0.3`.\n",
                "- Normalize and prepare the features and the target.\n",
                "- Use the training data set and call `gradient_descent()` to obtain the `theta`.\n",
                "- Use the test data set to get the predicted values.\n",
                "\n",
                "You need to replace the `None` in the code below with other a function call or any other Python expressions. "
            ]
        },
        {
            "cell_type": "code",
            "execution_count": 24,
            "metadata": {
                "collapsed": true
            },
            "outputs": [],
            "source": [
                "# Extract the features and the target\n",
                "df_features, df_target = None, None\n",
                "\n",
                "# Split the data set into training and test\n",
                "df_features_train, df_features_test, df_target_train, df_target_test = None, None, None, None\n",
                "\n",
                "# Normalize the features using z normalization\n",
                "df_features_train_z = None\n",
                "\n",
                "# Change the features and the target to numpy array using the prepare functions\n",
                "X = None\n",
                "target = None\n",
                "\n",
                "iterations = 1500\n",
                "alpha = 0.01\n",
                "beta = np.zeros((4,1))\n",
                "\n",
                "# Call the gradient_descent function\n",
                "beta, J_storage = None, None\n",
                "\n",
                "# call the predict() method\n",
                "pred = None\n",
                "\n",
                "###\n",
                "### YOUR CODE HERE\n",
                "###\n"
            ]
        },
        {
            "cell_type": "code",
            "execution_count": 25,
            "metadata": {
                "collapsed": true,
                "nbgrader": {
                    "grade": true,
                    "grade_id": "hw41",
                    "locked": true,
                    "points": "1",
                    "solution": false
                },
                "editable": false,
                "deletable": false
            },
            "outputs": [],
            "source": [
                "###\n",
                "### AUTOGRADER TEST - DO NOT REMOVE\n",
                "###\n"
            ]
        },
        {
            "cell_type": "code",
            "execution_count": 26,
            "metadata": {
                "collapsed": true,
                "nbgrader": {
                    "grade": true,
                    "grade_id": "hw42",
                    "locked": true,
                    "points": "1",
                    "solution": false
                },
                "editable": false,
                "deletable": false
            },
            "outputs": [],
            "source": [
                "assert isinstance(pred, np.ndarray)\n",
                "assert pred.shape == (151, 1)\n",
                "assert np.isclose(pred.mean(), 22.66816)\n",
                "assert np.isclose(pred.std(), 6.67324)"
            ]
        },
        {
            "cell_type": "code",
            "execution_count": 27,
            "metadata": {
                "collapsed": true,
                "nbgrader": {
                    "grade": true,
                    "grade_id": "hw43",
                    "locked": true,
                    "points": "1",
                    "solution": false
                },
                "editable": false,
                "deletable": false
            },
            "outputs": [],
            "source": [
                "###\n",
                "### AUTOGRADER TEST - DO NOT REMOVE\n",
                "###\n"
            ]
        },
        {
            "cell_type": "code",
            "execution_count": 28,
            "metadata": {
                "nbgrader": {
                    "grade": false,
                    "locked": true,
                    "solution": false
                },
                "editable": false,
                "deletable": false
            },
            "outputs": [],
            "source": [
                "plt.scatter(df_features_test[\"RM\"], df_target_test)\n",
                "plt.scatter(df_features_test[\"RM\"], pred)"
            ]
        },
        {
            "cell_type": "code",
            "execution_count": 29,
            "metadata": {
                "nbgrader": {
                    "grade": false,
                    "locked": true,
                    "solution": false
                },
                "editable": false,
                "deletable": false
            },
            "outputs": [],
            "source": [
                "plt.scatter(df_features_test[\"DIS\"], df_target_test)\n",
                "plt.scatter(df_features_test[\"DIS\"], pred)"
            ]
        },
        {
            "cell_type": "code",
            "execution_count": 30,
            "metadata": {
                "nbgrader": {
                    "grade": false,
                    "locked": true,
                    "solution": false
                },
                "editable": false,
                "deletable": false
            },
            "outputs": [],
            "source": [
                "plt.scatter(df_features_test[\"INDUS\"], df_target_test)\n",
                "plt.scatter(df_features_test[\"INDUS\"], pred)"
            ]
        },
        {
            "cell_type": "markdown",
            "metadata": {
                "nbgrader": {
                    "grade": false,
                    "locked": true,
                    "solution": false
                },
                "editable": false,
                "deletable": false
            },
            "source": [
                "**HW5.** Calculate the coefficient of determination, $r^2$."
            ]
        },
        {
            "cell_type": "code",
            "execution_count": 31,
            "metadata": {},
            "outputs": [],
            "source": [
                "# change target test set to a numpy array\n",
                "target = None\n",
                "\n",
                "# Calculate r2 score by calling a function\n",
                "r2 = None\n",
                "\n",
                "###\n",
                "### YOUR CODE HERE\n",
                "###\n",
                "\n",
                "print(r2)\n"
            ]
        },
        {
            "cell_type": "code",
            "execution_count": null,
            "metadata": {
                "collapsed": true,
                "nbgrader": {
                    "grade": true,
                    "grade_id": "hw51",
                    "locked": true,
                    "points": "1",
                    "solution": false
                },
                "editable": false,
                "deletable": false
            },
            "outputs": [],
            "source": [
                "assert np.isclose(r2, 0.47713)"
            ]
        },
        {
            "cell_type": "code",
            "execution_count": 32,
            "metadata": {
                "collapsed": true,
                "nbgrader": {
                    "grade": true,
                    "grade_id": "hw52",
                    "locked": true,
                    "points": "1",
                    "solution": false
                },
                "editable": false,
                "deletable": false
            },
            "outputs": [],
            "source": [
                "###\n",
                "### AUTOGRADER TEST - DO NOT REMOVE\n",
                "###\n"
            ]
        },
        {
            "cell_type": "markdown",
            "metadata": {
                "nbgrader": {
                    "grade": false,
                    "locked": true,
                    "solution": false
                },
                "editable": false,
                "deletable": false
            },
            "source": [
                "**HW6.** Calculate the mean squared error."
            ]
        },
        {
            "cell_type": "code",
            "execution_count": 33,
            "metadata": {},
            "outputs": [],
            "source": [
                "# Calculate the mse\n",
                "mse = None\n",
                "\n",
                "###\n",
                "### YOUR CODE HERE\n",
                "###\n",
                "print(mse)\n"
            ]
        },
        {
            "cell_type": "code",
            "execution_count": null,
            "metadata": {
                "collapsed": true,
                "nbgrader": {
                    "grade": true,
                    "grade_id": "hw61",
                    "locked": true,
                    "points": "1",
                    "solution": false
                },
                "editable": false,
                "deletable": false
            },
            "outputs": [],
            "source": [
                "assert np.isclose(mse, 51.363)"
            ]
        },
        {
            "cell_type": "code",
            "execution_count": 34,
            "metadata": {
                "collapsed": true,
                "nbgrader": {
                    "grade": true,
                    "grade_id": "hw62",
                    "locked": true,
                    "points": "1",
                    "solution": false
                },
                "editable": false,
                "deletable": false
            },
            "outputs": [],
            "source": [
                "###\n",
                "### AUTOGRADER TEST - DO NOT REMOVE\n",
                "###\n"
            ]
        },
        {
            "cell_type": "markdown",
            "metadata": {
                "nbgrader": {
                    "grade": false,
                    "locked": true,
                    "solution": false
                },
                "editable": false,
                "deletable": false
            },
            "source": [
                "**HW7.** *Polynomial Transformation:* Redo the steps for breast cancer data but this time we will use quadratic model. Use the following columns:\n",
                "- x data: radius_mean\n",
                "- y data: area_mean\n",
                "\n",
                "We will create a quadratic hypothesis for this x and y data. To do that write a function `transform_features(df, colname, colname_transformed)` that takes in a dataframe for the features, the original column name, and the transformed column name. The function should add another column with the name `colname_transformed` with the value of column in `colname` transformed to its quadratic value. "
            ]
        },
        {
            "cell_type": "code",
            "execution_count": 35,
            "metadata": {},
            "outputs": [],
            "source": [
                "# Read from breast_cancer_data.csv file\n",
                "df = None\n",
                "\n",
                "# Extract feature and target\n",
                "df_feature, df_target = None, None\n",
                "\n",
                "###\n",
                "### YOUR CODE HERE\n",
                "###\n",
                "\n",
                "plt.scatter(df_feature, df_target)"
            ]
        },
        {
            "cell_type": "code",
            "execution_count": 36,
            "metadata": {
                "collapsed": true,
                "nbgrader": {
                    "grade": true,
                    "grade_id": "hw71",
                    "locked": true,
                    "points": "1",
                    "solution": false
                },
                "editable": false,
                "deletable": false
            },
            "outputs": [],
            "source": [
                "###\n",
                "### AUTOGRADER TEST - DO NOT REMOVE\n",
                "###\n"
            ]
        },
        {
            "cell_type": "code",
            "execution_count": 37,
            "metadata": {
                "collapsed": true
            },
            "outputs": [],
            "source": [
                "# write your function to create a quadratic feature of x\n",
                "\n",
                "def transform_features(df_feature, colname, colname_transformed):\n",
                "    ###\n",
                "    ### YOUR CODE HERE\n",
                "    ###\n",
                "    return df_feature\n"
            ]
        },
        {
            "cell_type": "code",
            "execution_count": 38,
            "metadata": {
                "nbgrader": {
                    "grade": true,
                    "grade_id": "hw72",
                    "locked": true,
                    "points": "1",
                    "solution": false
                },
                "editable": false,
                "deletable": false
            },
            "outputs": [],
            "source": [
                "df_features = transform_features(df_feature, \"radius_mean\", \"radius_mean^2\")\n",
                "\n",
                "assert (df_features.loc[:,\"radius_mean^2\"] == df_features.loc[:,\"radius_mean\"] ** 2).all()"
            ]
        },
        {
            "cell_type": "code",
            "execution_count": 39,
            "metadata": {
                "nbgrader": {
                    "grade": true,
                    "grade_id": "hw73",
                    "locked": true,
                    "points": "1",
                    "solution": false
                },
                "editable": false,
                "deletable": false
            },
            "outputs": [],
            "source": [
                "###\n",
                "### AUTOGRADER TEST - DO NOT REMOVE\n",
                "###\n"
            ]
        },
        {
            "cell_type": "code",
            "execution_count": 40,
            "metadata": {
                "collapsed": true
            },
            "outputs": [],
            "source": [
                "# split data using random_state = 100 and 30% test size\n",
                "df_features_train, df_features_test, df_target_train, df_target_test = None, None, None, None\n",
                "\n",
                "# normalize features\n",
                "df_features_train_z = None\n",
                "\n",
                "# change to numpy array and append column for feature\n",
                "X = None\n",
                "target = None\n",
                "\n",
                "iterations = 1500\n",
                "alpha = 0.01\n",
                "beta = np.zeros((3,1))\n",
                "\n",
                "# call gradient_descent() function\n",
                "beta, J_storage = None, None\n",
                "\n",
                "###\n",
                "### YOUR CODE HERE\n",
                "###\n"
            ]
        },
        {
            "cell_type": "code",
            "execution_count": 41,
            "metadata": {
                "collapsed": true,
                "nbgrader": {
                    "grade": true,
                    "grade_id": "hw74",
                    "locked": true,
                    "points": "1",
                    "solution": false
                },
                "editable": false,
                "deletable": false
            },
            "outputs": [],
            "source": [
                "###\n",
                "### AUTOGRADER TEST - DO NOT REMOVE\n",
                "###\n"
            ]
        },
        {
            "cell_type": "code",
            "execution_count": 42,
            "metadata": {
                "collapsed": true,
                "nbgrader": {
                    "grade": true,
                    "grade_id": "hw75",
                    "locked": true,
                    "points": "1",
                    "solution": false
                },
                "editable": false,
                "deletable": false
            },
            "outputs": [],
            "source": [
                "\n",
                "assert np.isclose(beta[0], 646.0787)\n",
                "assert np.isclose(beta[1], 146.4801)\n",
                "assert np.isclose(beta[2], 201.9803)"
            ]
        },
        {
            "cell_type": "code",
            "execution_count": 43,
            "metadata": {
                "collapsed": true,
                "nbgrader": {
                    "grade": true,
                    "grade_id": "hw76",
                    "locked": true,
                    "points": "1",
                    "solution": false
                },
                "editable": false,
                "deletable": false
            },
            "outputs": [],
            "source": [
                "###\n",
                "### AUTOGRADER TEST - DO NOT REMOVE\n",
                "###\n"
            ]
        },
        {
            "cell_type": "code",
            "execution_count": 44,
            "metadata": {
                "nbgrader": {
                    "grade": false,
                    "locked": true,
                    "solution": false
                },
                "editable": false,
                "deletable": false
            },
            "outputs": [],
            "source": [
                "plt.plot(J_storage)"
            ]
        },
        {
            "cell_type": "code",
            "execution_count": 45,
            "metadata": {
                "collapsed": true
            },
            "outputs": [],
            "source": [
                "# change target to numpy array\n",
                "beta = np.array([[646.0787641 ], [146.4800792 ], [201.98031254]])\n",
                "\n",
                "target = None\n",
                "pred = None\n",
                "\n",
                "# get predicted values\n",
                "###\n",
                "### YOUR CODE HERE\n",
                "###\n"
            ]
        },
        {
            "cell_type": "code",
            "execution_count": 46,
            "metadata": {
                "collapsed": true,
                "nbgrader": {
                    "grade": true,
                    "grade_id": "hw77",
                    "locked": true,
                    "points": "1",
                    "solution": false
                },
                "editable": false,
                "deletable": false
            },
            "outputs": [],
            "source": [
                "###\n",
                "### AUTOGRADER TEST - DO NOT REMOVE\n",
                "###\n"
            ]
        },
        {
            "cell_type": "code",
            "execution_count": 47,
            "metadata": {
                "nbgrader": {
                    "grade": false,
                    "locked": true,
                    "solution": false
                },
                "editable": false,
                "deletable": false
            },
            "outputs": [],
            "source": [
                "plt.scatter(df_features_test[\"radius_mean\"], target)\n",
                "plt.scatter(df_features_test[\"radius_mean\"], pred)"
            ]
        },
        {
            "cell_type": "code",
            "execution_count": 48,
            "metadata": {
                "nbgrader": {
                    "grade": true,
                    "grade_id": "hw78",
                    "locked": true,
                    "points": "1",
                    "solution": false
                },
                "editable": false,
                "deletable": false
            },
            "outputs": [],
            "source": [
                "r2 = r2_score(df_target_test, pred)\n",
                "print(r2)\n",
                "assert np.isclose(r2, 0.985095)"
            ]
        },
        {
            "cell_type": "code",
            "execution_count": 49,
            "metadata": {
                "collapsed": true,
                "nbgrader": {
                    "grade": true,
                    "grade_id": "hw79",
                    "locked": true,
                    "points": "1",
                    "solution": false
                },
                "editable": false,
                "deletable": false
            },
            "outputs": [],
            "source": [
                "###\n",
                "### AUTOGRADER TEST - DO NOT REMOVE\n",
                "###\n"
            ]
        },
        {
            "cell_type": "code",
            "execution_count": 50,
            "metadata": {
                "nbgrader": {
                    "grade": true,
                    "grade_id": "hw710",
                    "locked": true,
                    "points": "1",
                    "solution": false
                },
                "editable": false,
                "deletable": false
            },
            "outputs": [],
            "source": [
                "mse = mean_squared_error(df_target_test, pred)\n",
                "print(mse)\n",
                "assert np.isclose(mse, 1919.164)"
            ]
        },
        {
            "cell_type": "code",
            "execution_count": 51,
            "metadata": {
                "collapsed": true,
                "nbgrader": {
                    "grade": true,
                    "grade_id": "hw711",
                    "locked": true,
                    "points": "1",
                    "solution": false
                },
                "editable": false,
                "deletable": false
            },
            "outputs": [],
            "source": [
                "###\n",
                "### AUTOGRADER TEST - DO NOT REMOVE\n",
                "###\n"
            ]
        },
        {
            "cell_type": "markdown",
            "metadata": {
                "nbgrader": {
                    "grade": false,
                    "locked": true,
                    "solution": false
                },
                "editable": false,
                "deletable": false
            },
            "source": [
                "**HW8.** *Optional:* Redo the above tasks using Sci-kit learn libraries. You will need to use the following:\n",
                "- [LinearRegression](https:\/\/scikit-learn.org\/stable\/modules\/generated\/sklearn.linear_model.LinearRegression.html)\n",
                "- [train_test_split](https:\/\/scikit-learn.org\/stable\/modules\/generated\/sklearn.model_selection.train_test_split.html)\n",
                "- [r2_score](https:\/\/scikit-learn.org\/stable\/modules\/generated\/sklearn.metrics.r2_score.html)\n",
                "- [mean_squared_error](https:\/\/scikit-learn.org\/stable\/modules\/generated\/sklearn.metrics.mean_squared_error.html)\n",
                "- [PolynomialFeatures](https:\/\/scikit-learn.org\/stable\/modules\/generated\/sklearn.preprocessing.PolynomialFeatures.html)"
            ]
        },
        {
            "cell_type": "code",
            "execution_count": 52,
            "metadata": {
                "collapsed": true,
                "nbgrader": {
                    "grade": false,
                    "locked": true,
                    "solution": false
                },
                "editable": false,
                "deletable": false
            },
            "outputs": [],
            "source": [
                "from sklearn.linear_model import LinearRegression\n",
                "from sklearn.model_selection import train_test_split\n",
                "from sklearn.metrics import r2_score, mean_squared_error\n",
                "from sklearn.preprocessing import PolynomialFeatures"
            ]
        },
        {
            "cell_type": "markdown",
            "metadata": {
                "nbgrader": {
                    "grade": false,
                    "locked": true,
                    "solution": false
                },
                "editable": false,
                "deletable": false
            },
            "source": [
                "**Redo HW 4 using Scikit Learn**"
            ]
        },
        {
            "cell_type": "code",
            "execution_count": 53,
            "metadata": {
                "collapsed": true
            },
            "outputs": [],
            "source": [
                "# Read the housing_processed.csv file\n",
                "df = None\n",
                "\n",
                "# extract the features from [\"RM\", \"DIS\", \"INDUS\"] and target from []\"MEDV\"]\n",
                "df_features, df_target = None, None\n",
                "# normalize\n",
                "df_features = None\n",
                "\n",
                "###\n",
                "### YOUR CODE HERE\n",
                "###\n"
            ]
        },
        {
            "cell_type": "code",
            "execution_count": 54,
            "metadata": {},
            "outputs": [],
            "source": [
                "# Split the data into training and test data set using scikit-learn function\n",
                "df_features_train, df_features_test, df_target_train, df_target_test = None, None, None, None\n",
                "\n",
                "# Instantiate LinearRegression() object\n",
                "model = None\n",
                "\n",
                "# Call the fit() method\n",
                "pass\n",
                "\n",
                "###\n",
                "### YOUR CODE HERE\n",
                "###\n",
                "print(model.coef_, model.intercept_)\n",
                "assert np.isclose(model.coef_, [ 5.01417104, -1.00878266, -3.27301726]).all()\n",
                "assert np.isclose(model.intercept_, 22.45962454)"
            ]
        },
        {
            "cell_type": "code",
            "execution_count": 55,
            "metadata": {
                "collapsed": true
            },
            "outputs": [],
            "source": [
                "# Call the predict() method\n",
                "pred = None\n",
                "\n",
                "###\n",
                "### YOUR CODE HERE\n",
                "###\n"
            ]
        },
        {
            "cell_type": "code",
            "execution_count": 56,
            "metadata": {
                "nbgrader": {
                    "grade": false,
                    "locked": true,
                    "solution": false
                },
                "editable": false,
                "deletable": false
            },
            "outputs": [],
            "source": [
                "plt.scatter(df_features_test[\"RM\"], df_target_test)\n",
                "plt.scatter(df_features_test[\"RM\"], pred)"
            ]
        },
        {
            "cell_type": "code",
            "execution_count": 57,
            "metadata": {
                "nbgrader": {
                    "grade": false,
                    "locked": true,
                    "solution": false
                },
                "editable": false,
                "deletable": false
            },
            "outputs": [],
            "source": [
                "plt.scatter(df_features_test[\"DIS\"], df_target_test)\n",
                "plt.scatter(df_features_test[\"DIS\"], pred)"
            ]
        },
        {
            "cell_type": "code",
            "execution_count": 58,
            "metadata": {
                "nbgrader": {
                    "grade": false,
                    "locked": true,
                    "solution": false
                },
                "editable": false,
                "deletable": false
            },
            "outputs": [],
            "source": [
                "plt.scatter(df_features_test[\"INDUS\"], df_target_test)\n",
                "plt.scatter(df_features_test[\"INDUS\"], pred)"
            ]
        },
        {
            "cell_type": "code",
            "execution_count": 59,
            "metadata": {
                "nbgrader": {
                    "grade": false,
                    "locked": true,
                    "solution": false
                },
                "editable": false,
                "deletable": false
            },
            "outputs": [],
            "source": [
                "r2 = r2_score(df_target_test, pred)\n",
                "print(r2)\n",
                "assert np.isclose(r2, 0.48250)"
            ]
        },
        {
            "cell_type": "code",
            "execution_count": 60,
            "metadata": {
                "nbgrader": {
                    "grade": false,
                    "locked": true,
                    "solution": false
                },
                "editable": false,
                "deletable": false
            },
            "outputs": [],
            "source": [
                "mse = mean_squared_error(df_target_test, pred)\n",
                "print(mse)\n",
                "assert np.isclose(mse, 52.41451)"
            ]
        },
        {
            "cell_type": "markdown",
            "metadata": {
                "nbgrader": {
                    "grade": false,
                    "locked": true,
                    "solution": false
                },
                "editable": false,
                "deletable": false
            },
            "source": [
                "**Redo HW7 Using Scikit Learn**"
            ]
        },
        {
            "cell_type": "code",
            "execution_count": 61,
            "metadata": {
                "collapsed": true
            },
            "outputs": [],
            "source": [
                "# Read the file breast_cancer_data.csv\n",
                "df = None\n",
                "# extract feature from \"radius_mean\" and target from \"area_mean\"\n",
                "df_feature, df_target = None, None\n",
                "\n",
                "###\n",
                "### YOUR CODE HERE\n",
                "###\n"
            ]
        },
        {
            "cell_type": "code",
            "execution_count": 62,
            "metadata": {},
            "outputs": [],
            "source": [
                "# instantiate a PolynomialFeatures object with degree = 2\n",
                "poly = None\n",
                "\n",
                "# call its fit_transform() method\n",
                "df_features = None\n",
                "\n",
                "# call train_test_split() to split the data\n",
                "df_features_train, df_features_test, df_target_train, df_target_test = None, None, None, None\n",
                "\n",
                "# instantiate LinearRegression() object\n",
                "model = None\n",
                "\n",
                "# call its fit() method\n",
                "pass\n",
                "\n",
                "\n",
                "### BEGIN SOLUTON\n",
                "poly = PolynomialFeatures(2)\n",
                "df_features = poly.fit_transform(df_feature)\n",
                "df_features_train, df_features_test, df_target_train, df_target_test = train_test_split(df_features, df_target, random_state=100, test_size=0.3)\n",
                "model = LinearRegression()\n",
                "model.fit(df_features_train, df_target_train)\n",
                "### END SOLUTION\n",
                "print(model.coef_, model.intercept_)\n",
                "assert np.isclose(model.coef_, [0., 3.69735512, 2.9925278 ]).all()\n",
                "assert np.isclose(model.intercept_, -32.3684598)"
            ]
        },
        {
            "cell_type": "code",
            "execution_count": 63,
            "metadata": {},
            "outputs": [],
            "source": [
                "# Call the predict() method\n",
                "pred = None\n",
                "\n",
                "###\n",
                "### YOUR CODE HERE\n",
                "###\n",
                "\n",
                "print(type(pred), pred.mean(), pred.std())\n",
                "assert isinstance(pred, np.ndarray)\n",
                "assert np.isclose(pred.mean(), 672.508465)\n",
                "assert np.isclose(pred.std(), 351.50271)"
            ]
        },
        {
            "cell_type": "code",
            "execution_count": 64,
            "metadata": {
                "nbgrader": {
                    "grade": false,
                    "locked": true,
                    "solution": false
                },
                "editable": false,
                "deletable": false
            },
            "outputs": [],
            "source": [
                "plt.scatter(df_features_test[:,1], df_target_test)\n",
                "plt.scatter(df_features_test[:,1], pred)"
            ]
        },
        {
            "cell_type": "code",
            "execution_count": 65,
            "metadata": {
                "nbgrader": {
                    "grade": false,
                    "locked": true,
                    "solution": false
                },
                "editable": false,
                "deletable": false
            },
            "outputs": [],
            "source": [
                "r2 = r2_score(df_target_test, pred)\n",
                "print(r2)\n",
                "assert np.isclose(r2, 0.99729)"
            ]
        },
        {
            "cell_type": "code",
            "execution_count": 66,
            "metadata": {
                "nbgrader": {
                    "grade": false,
                    "locked": true,
                    "solution": false
                },
                "editable": false,
                "deletable": false
            },
            "outputs": [],
            "source": [
                "mse = mean_squared_error(df_target_test, pred)\n",
                "print(mse)\n",
                "assert np.isclose(mse, 346.79479)"
            ]
        }
    ],
    "metadata": {
        "kernelspec": {
            "display_name": "Python 3 [3.7]",
            "language": "python",
            "name": "python3"
        },
        "language_info": {
            "codemirror_mode": {
                "name": "ipython",
                "version": 3
            },
            "file_extension": ".py",
            "mimetype": "text\/x-python",
            "name": "python",
            "nbconvert_exporter": "python",
            "pygments_lexer": "ipython3",
            "version": "3.7.5"
        }
    },
    "nbformat": 4,
    "nbformat_minor": 4
}