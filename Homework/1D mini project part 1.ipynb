{
 "cells": [
  {
   "cell_type": "code",
   "execution_count": 1,
   "metadata": {},
   "outputs": [
    {
     "name": "stdout",
     "output_type": "stream",
     "text": [
      "['a', ' b', ' c']\n"
     ]
    }
   ],
   "source": [
    "'''\tThis function is used in Exercise 1.\n",
    "\t\tThe function is called when the sort button is clicked.\n",
    "\n",
    "\t\tYou need to do the following:\n",
    "\t\t- get the list of numbers from the global variable array and \n",
    "\t\t\tcopy it to a new list\n",
    "\t\t- call your sort function, either bubble sort or insertion sort\n",
    "\t\t- create a string of the sorted numbers and store it in array_str\n",
    "\t'''\n",
    "\n",
    "bam = \"a, b, c\"\n",
    "\n",
    "letters = bam.split(\",\")\n",
    "print (letters)"
   ]
  },
  {
   "cell_type": "code",
   "execution_count": null,
   "metadata": {},
   "outputs": [],
   "source": [
    "'''\tThis function is used in Exercise 2.\n",
    "\t\tThe function is called when the sort button is clicked.\n",
    "\n",
    "\t\tYou need to do the following:\n",
    "\t\t- Get the numbers from a string variable \"value\".\n",
    "\t\t- Split the string using comma as the separator and convert them to \n",
    "\t\t\ta list of numbers\n",
    "\t\t- call your sort function, either bubble sort or insertion sort\n",
    "\t\t- create a string of the sorted numbers and store it in array_str\n",
    "\t'''"
   ]
  }
 ],
 "metadata": {
  "kernelspec": {
   "display_name": "Python 3",
   "language": "python",
   "name": "python3"
  },
  "language_info": {
   "codemirror_mode": {
    "name": "ipython",
    "version": 3
   },
   "file_extension": ".py",
   "mimetype": "text/x-python",
   "name": "python",
   "nbconvert_exporter": "python",
   "pygments_lexer": "ipython3",
   "version": "3.8.3"
  }
 },
 "nbformat": 4,
 "nbformat_minor": 4
}
